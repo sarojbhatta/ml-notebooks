{
 "cells": [
  {
   "cell_type": "code",
   "execution_count": 8,
   "id": "155fcc4e",
   "metadata": {
    "execution": {
     "iopub.execute_input": "2023-12-07T19:20:11.198758Z",
     "iopub.status.busy": "2023-12-07T19:20:11.198291Z",
     "iopub.status.idle": "2023-12-07T19:20:12.107407Z",
     "shell.execute_reply": "2023-12-07T19:20:12.107098Z"
    }
   },
   "outputs": [],
   "source": [
    "import numpy as np\n",
    "import pandas as pd\n",
    "import matplotlib.pyplot as plt\n",
    "import seaborn as sns\n",
    "\n",
    "from sklearn.ensemble import GradientBoostingClassifier\n",
    "from sklearn.preprocessing import LabelBinarizer"
   ]
  },
  {
   "cell_type": "code",
   "execution_count": 9,
   "id": "59715e7a",
   "metadata": {
    "execution": {
     "iopub.execute_input": "2023-12-07T19:20:12.109157Z",
     "iopub.status.busy": "2023-12-07T19:20:12.109035Z",
     "iopub.status.idle": "2023-12-07T19:20:12.237176Z",
     "shell.execute_reply": "2023-12-07T19:20:12.236888Z"
    },
    "scrolled": true
   },
   "outputs": [],
   "source": [
    "airlines = pd.read_csv('airline_satisfaction.csv').dropna()"
   ]
  },
  {
   "cell_type": "code",
   "execution_count": 10,
   "id": "60cf8994",
   "metadata": {
    "execution": {
     "iopub.execute_input": "2023-12-07T19:20:12.238907Z",
     "iopub.status.busy": "2023-12-07T19:20:12.238818Z",
     "iopub.status.idle": "2023-12-07T19:20:12.897960Z",
     "shell.execute_reply": "2023-12-07T19:20:12.897614Z"
    }
   },
   "outputs": [],
   "source": [
    "labelBinary = LabelBinarizer()\n",
    "\n",
    "# Gender == 1 if Male\n",
    "airlines['Gender'] = labelBinary.fit_transform(airlines['Gender'])\n",
    "# Customer == 1 if Loyal\n",
    "airlines['Customer'] = labelBinary.fit_transform(airlines['Customer'])\n",
    "# TravelType == 1 if Personal\n",
    "airlines['TravelType'] = labelBinary.fit_transform(airlines['TravelType'])\n",
    "# Class == 1 if Business\n",
    "airlines['Class'] = labelBinary.fit_transform(airlines['Class'])"
   ]
  },
  {
   "cell_type": "code",
   "execution_count": 11,
   "id": "7c4bb52b",
   "metadata": {
    "execution": {
     "iopub.execute_input": "2023-12-07T19:20:12.899722Z",
     "iopub.status.busy": "2023-12-07T19:20:12.899629Z",
     "iopub.status.idle": "2023-12-07T19:20:12.917762Z",
     "shell.execute_reply": "2023-12-07T19:20:12.917459Z"
    }
   },
   "outputs": [],
   "source": [
    "# Select input and output features\n",
    "X = airlines.drop(columns=['id', 'Satisfaction'])\n",
    "y = airlines[['Satisfaction']]"
   ]
  },
  {
   "cell_type": "code",
   "execution_count": 12,
   "id": "d8e11a04",
   "metadata": {
    "execution": {
     "iopub.execute_input": "2023-12-07T19:20:12.919326Z",
     "iopub.status.busy": "2023-12-07T19:20:12.919243Z",
     "iopub.status.idle": "2023-12-07T19:20:24.418831Z",
     "shell.execute_reply": "2023-12-07T19:20:24.418519Z"
    }
   },
   "outputs": [
    {
     "data": {
      "text/html": [
       "<style>#sk-container-id-2 {color: black;background-color: white;}#sk-container-id-2 pre{padding: 0;}#sk-container-id-2 div.sk-toggleable {background-color: white;}#sk-container-id-2 label.sk-toggleable__label {cursor: pointer;display: block;width: 100%;margin-bottom: 0;padding: 0.3em;box-sizing: border-box;text-align: center;}#sk-container-id-2 label.sk-toggleable__label-arrow:before {content: \"▸\";float: left;margin-right: 0.25em;color: #696969;}#sk-container-id-2 label.sk-toggleable__label-arrow:hover:before {color: black;}#sk-container-id-2 div.sk-estimator:hover label.sk-toggleable__label-arrow:before {color: black;}#sk-container-id-2 div.sk-toggleable__content {max-height: 0;max-width: 0;overflow: hidden;text-align: left;background-color: #f0f8ff;}#sk-container-id-2 div.sk-toggleable__content pre {margin: 0.2em;color: black;border-radius: 0.25em;background-color: #f0f8ff;}#sk-container-id-2 input.sk-toggleable__control:checked~div.sk-toggleable__content {max-height: 200px;max-width: 100%;overflow: auto;}#sk-container-id-2 input.sk-toggleable__control:checked~label.sk-toggleable__label-arrow:before {content: \"▾\";}#sk-container-id-2 div.sk-estimator input.sk-toggleable__control:checked~label.sk-toggleable__label {background-color: #d4ebff;}#sk-container-id-2 div.sk-label input.sk-toggleable__control:checked~label.sk-toggleable__label {background-color: #d4ebff;}#sk-container-id-2 input.sk-hidden--visually {border: 0;clip: rect(1px 1px 1px 1px);clip: rect(1px, 1px, 1px, 1px);height: 1px;margin: -1px;overflow: hidden;padding: 0;position: absolute;width: 1px;}#sk-container-id-2 div.sk-estimator {font-family: monospace;background-color: #f0f8ff;border: 1px dotted black;border-radius: 0.25em;box-sizing: border-box;margin-bottom: 0.5em;}#sk-container-id-2 div.sk-estimator:hover {background-color: #d4ebff;}#sk-container-id-2 div.sk-parallel-item::after {content: \"\";width: 100%;border-bottom: 1px solid gray;flex-grow: 1;}#sk-container-id-2 div.sk-label:hover label.sk-toggleable__label {background-color: #d4ebff;}#sk-container-id-2 div.sk-serial::before {content: \"\";position: absolute;border-left: 1px solid gray;box-sizing: border-box;top: 0;bottom: 0;left: 50%;z-index: 0;}#sk-container-id-2 div.sk-serial {display: flex;flex-direction: column;align-items: center;background-color: white;padding-right: 0.2em;padding-left: 0.2em;position: relative;}#sk-container-id-2 div.sk-item {position: relative;z-index: 1;}#sk-container-id-2 div.sk-parallel {display: flex;align-items: stretch;justify-content: center;background-color: white;position: relative;}#sk-container-id-2 div.sk-item::before, #sk-container-id-2 div.sk-parallel-item::before {content: \"\";position: absolute;border-left: 1px solid gray;box-sizing: border-box;top: 0;bottom: 0;left: 50%;z-index: -1;}#sk-container-id-2 div.sk-parallel-item {display: flex;flex-direction: column;z-index: 1;position: relative;background-color: white;}#sk-container-id-2 div.sk-parallel-item:first-child::after {align-self: flex-end;width: 50%;}#sk-container-id-2 div.sk-parallel-item:last-child::after {align-self: flex-start;width: 50%;}#sk-container-id-2 div.sk-parallel-item:only-child::after {width: 0;}#sk-container-id-2 div.sk-dashed-wrapped {border: 1px dashed gray;margin: 0 0.4em 0.5em 0.4em;box-sizing: border-box;padding-bottom: 0.4em;background-color: white;}#sk-container-id-2 div.sk-label label {font-family: monospace;font-weight: bold;display: inline-block;line-height: 1.2em;}#sk-container-id-2 div.sk-label-container {text-align: center;}#sk-container-id-2 div.sk-container {/* jupyter's `normalize.less` sets `[hidden] { display: none; }` but bootstrap.min.css set `[hidden] { display: none !important; }` so we also need the `!important` here to be able to override the default hidden behavior on the sphinx rendered scikit-learn.org. See: https://github.com/scikit-learn/scikit-learn/issues/21755 */display: inline-block !important;position: relative;}#sk-container-id-2 div.sk-text-repr-fallback {display: none;}</style><div id=\"sk-container-id-2\" class=\"sk-top-container\"><div class=\"sk-text-repr-fallback\"><pre>GradientBoostingClassifier()</pre><b>In a Jupyter environment, please rerun this cell to show the HTML representation or trust the notebook. <br />On GitHub, the HTML representation is unable to render, please try loading this page with nbviewer.org.</b></div><div class=\"sk-container\" hidden><div class=\"sk-item\"><div class=\"sk-estimator sk-toggleable\"><input class=\"sk-toggleable__control sk-hidden--visually\" id=\"sk-estimator-id-2\" type=\"checkbox\" checked><label for=\"sk-estimator-id-2\" class=\"sk-toggleable__label sk-toggleable__label-arrow\">GradientBoostingClassifier</label><div class=\"sk-toggleable__content\"><pre>GradientBoostingClassifier()</pre></div></div></div></div></div>"
      ],
      "text/plain": [
       "GradientBoostingClassifier()"
      ]
     },
     "execution_count": 12,
     "metadata": {},
     "output_type": "execute_result"
    }
   ],
   "source": [
    "# Initialize and fit boosting classifier\n",
    "boostModel = GradientBoostingClassifier()\n",
    "boostModel.fit(X, np.ravel(y))"
   ]
  },
  {
   "cell_type": "code",
   "execution_count": 13,
   "id": "d4a98fc0",
   "metadata": {
    "execution": {
     "iopub.execute_input": "2023-12-07T19:20:24.420487Z",
     "iopub.status.busy": "2023-12-07T19:20:24.420380Z",
     "iopub.status.idle": "2023-12-07T19:20:24.704084Z",
     "shell.execute_reply": "2023-12-07T19:20:24.703636Z"
    }
   },
   "outputs": [
    {
     "data": {
      "text/plain": [
       "0.9422649960422418"
      ]
     },
     "execution_count": 13,
     "metadata": {},
     "output_type": "execute_result"
    }
   ],
   "source": [
    "# Calculate prediction accuracy\n",
    "boostModel.score(X, y)"
   ]
  },
  {
   "cell_type": "code",
   "execution_count": null,
   "id": "22bdb73f",
   "metadata": {},
   "outputs": [],
   "source": []
  }
 ],
 "metadata": {
  "kernelspec": {
   "display_name": "Python 3 - python3",
   "language": "python3",
   "name": "python3"
  },
  "language_info": {
   "codemirror_mode": {
    "name": "ipython",
    "version": 3
   },
   "file_extension": ".py",
   "mimetype": "text/x-python",
   "name": "python",
   "nbconvert_exporter": "python",
   "pygments_lexer": "ipython3",
   "version": "3.10.9"
  }
 },
 "nbformat": 4,
 "nbformat_minor": 5
}
