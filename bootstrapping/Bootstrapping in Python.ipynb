{
 "cells": [
  {
   "cell_type": "code",
   "execution_count": 1,
   "id": "155fcc4e",
   "metadata": {
    "execution": {
     "iopub.execute_input": "2023-12-07T19:19:31.234297Z",
     "iopub.status.busy": "2023-12-07T19:19:31.233810Z",
     "iopub.status.idle": "2023-12-07T19:19:32.159925Z",
     "shell.execute_reply": "2023-12-07T19:19:32.159627Z"
    }
   },
   "outputs": [],
   "source": [
    "import numpy as np\n",
    "import pandas as pd\n",
    "import matplotlib.pyplot as plt\n",
    "import seaborn as sns\n",
    "\n",
    "from sklearn.utils import resample\n",
    "from sklearn.preprocessing import label_binarize"
   ]
  },
  {
   "cell_type": "code",
   "execution_count": 2,
   "id": "59715e7a",
   "metadata": {
    "execution": {
     "iopub.execute_input": "2023-12-07T19:19:32.161766Z",
     "iopub.status.busy": "2023-12-07T19:19:32.161618Z",
     "iopub.status.idle": "2023-12-07T19:19:32.303667Z",
     "shell.execute_reply": "2023-12-07T19:19:32.303356Z"
    },
    "scrolled": true
   },
   "outputs": [
    {
     "data": {
      "text/html": [
       "<div>\n",
       "<style scoped>\n",
       "    .dataframe tbody tr th:only-of-type {\n",
       "        vertical-align: middle;\n",
       "    }\n",
       "\n",
       "    .dataframe tbody tr th {\n",
       "        vertical-align: top;\n",
       "    }\n",
       "\n",
       "    .dataframe thead th {\n",
       "        text-align: right;\n",
       "    }\n",
       "</style>\n",
       "<table border=\"1\" class=\"dataframe\">\n",
       "  <thead>\n",
       "    <tr style=\"text-align: right;\">\n",
       "      <th></th>\n",
       "      <th>id</th>\n",
       "      <th>Gender</th>\n",
       "      <th>Customer</th>\n",
       "      <th>Age</th>\n",
       "      <th>TravelType</th>\n",
       "      <th>Class</th>\n",
       "      <th>Distance</th>\n",
       "      <th>InflightWifi</th>\n",
       "      <th>ConvenientTime</th>\n",
       "      <th>OnlineBooking</th>\n",
       "      <th>...</th>\n",
       "      <th>InflightEntertainment</th>\n",
       "      <th>OnboardService</th>\n",
       "      <th>LegRoom</th>\n",
       "      <th>Baggage</th>\n",
       "      <th>CheckinService</th>\n",
       "      <th>InflightService</th>\n",
       "      <th>Cleanliness</th>\n",
       "      <th>DepartureDelay</th>\n",
       "      <th>ArrivalDelay</th>\n",
       "      <th>Satisfaction</th>\n",
       "    </tr>\n",
       "  </thead>\n",
       "  <tbody>\n",
       "    <tr>\n",
       "      <th>18595</th>\n",
       "      <td>49163</td>\n",
       "      <td>Female</td>\n",
       "      <td>Loyal</td>\n",
       "      <td>66</td>\n",
       "      <td>Business</td>\n",
       "      <td>Eco</td>\n",
       "      <td>326</td>\n",
       "      <td>5</td>\n",
       "      <td>2</td>\n",
       "      <td>2</td>\n",
       "      <td>...</td>\n",
       "      <td>5</td>\n",
       "      <td>5</td>\n",
       "      <td>5</td>\n",
       "      <td>5</td>\n",
       "      <td>2</td>\n",
       "      <td>5</td>\n",
       "      <td>3</td>\n",
       "      <td>0</td>\n",
       "      <td>0.0</td>\n",
       "      <td>0</td>\n",
       "    </tr>\n",
       "    <tr>\n",
       "      <th>19336</th>\n",
       "      <td>110026</td>\n",
       "      <td>Female</td>\n",
       "      <td>Loyal</td>\n",
       "      <td>23</td>\n",
       "      <td>Personal</td>\n",
       "      <td>Eco</td>\n",
       "      <td>1142</td>\n",
       "      <td>2</td>\n",
       "      <td>4</td>\n",
       "      <td>2</td>\n",
       "      <td>...</td>\n",
       "      <td>1</td>\n",
       "      <td>4</td>\n",
       "      <td>3</td>\n",
       "      <td>4</td>\n",
       "      <td>4</td>\n",
       "      <td>5</td>\n",
       "      <td>1</td>\n",
       "      <td>0</td>\n",
       "      <td>0.0</td>\n",
       "      <td>1</td>\n",
       "    </tr>\n",
       "    <tr>\n",
       "      <th>72501</th>\n",
       "      <td>1215</td>\n",
       "      <td>Female</td>\n",
       "      <td>Loyal</td>\n",
       "      <td>31</td>\n",
       "      <td>Personal</td>\n",
       "      <td>Eco</td>\n",
       "      <td>309</td>\n",
       "      <td>1</td>\n",
       "      <td>5</td>\n",
       "      <td>1</td>\n",
       "      <td>...</td>\n",
       "      <td>5</td>\n",
       "      <td>4</td>\n",
       "      <td>3</td>\n",
       "      <td>5</td>\n",
       "      <td>5</td>\n",
       "      <td>4</td>\n",
       "      <td>5</td>\n",
       "      <td>0</td>\n",
       "      <td>0.0</td>\n",
       "      <td>1</td>\n",
       "    </tr>\n",
       "    <tr>\n",
       "      <th>85210</th>\n",
       "      <td>96985</td>\n",
       "      <td>Female</td>\n",
       "      <td>Loyal</td>\n",
       "      <td>50</td>\n",
       "      <td>Business</td>\n",
       "      <td>Eco</td>\n",
       "      <td>794</td>\n",
       "      <td>3</td>\n",
       "      <td>3</td>\n",
       "      <td>3</td>\n",
       "      <td>...</td>\n",
       "      <td>3</td>\n",
       "      <td>3</td>\n",
       "      <td>3</td>\n",
       "      <td>3</td>\n",
       "      <td>2</td>\n",
       "      <td>3</td>\n",
       "      <td>2</td>\n",
       "      <td>94</td>\n",
       "      <td>79.0</td>\n",
       "      <td>1</td>\n",
       "    </tr>\n",
       "    <tr>\n",
       "      <th>87824</th>\n",
       "      <td>22269</td>\n",
       "      <td>Male</td>\n",
       "      <td>Loyal</td>\n",
       "      <td>34</td>\n",
       "      <td>Business</td>\n",
       "      <td>Eco</td>\n",
       "      <td>143</td>\n",
       "      <td>4</td>\n",
       "      <td>5</td>\n",
       "      <td>3</td>\n",
       "      <td>...</td>\n",
       "      <td>4</td>\n",
       "      <td>3</td>\n",
       "      <td>2</td>\n",
       "      <td>4</td>\n",
       "      <td>2</td>\n",
       "      <td>4</td>\n",
       "      <td>4</td>\n",
       "      <td>0</td>\n",
       "      <td>0.0</td>\n",
       "      <td>0</td>\n",
       "    </tr>\n",
       "  </tbody>\n",
       "</table>\n",
       "<p>5 rows × 24 columns</p>\n",
       "</div>"
      ],
      "text/plain": [
       "           id  Gender Customer  Age TravelType Class  Distance  InflightWifi  \\\n",
       "18595   49163  Female    Loyal   66   Business   Eco       326             5   \n",
       "19336  110026  Female    Loyal   23   Personal   Eco      1142             2   \n",
       "72501    1215  Female    Loyal   31   Personal   Eco       309             1   \n",
       "85210   96985  Female    Loyal   50   Business   Eco       794             3   \n",
       "87824   22269    Male    Loyal   34   Business   Eco       143             4   \n",
       "\n",
       "       ConvenientTime  OnlineBooking  ...  InflightEntertainment  \\\n",
       "18595               2              2  ...                      5   \n",
       "19336               4              2  ...                      1   \n",
       "72501               5              1  ...                      5   \n",
       "85210               3              3  ...                      3   \n",
       "87824               5              3  ...                      4   \n",
       "\n",
       "       OnboardService  LegRoom  Baggage  CheckinService  InflightService  \\\n",
       "18595               5        5        5               2                5   \n",
       "19336               4        3        4               4                5   \n",
       "72501               4        3        5               5                4   \n",
       "85210               3        3        3               2                3   \n",
       "87824               3        2        4               2                4   \n",
       "\n",
       "       Cleanliness  DepartureDelay  ArrivalDelay  Satisfaction  \n",
       "18595            3               0           0.0             0  \n",
       "19336            1               0           0.0             1  \n",
       "72501            5               0           0.0             1  \n",
       "85210            2              94          79.0             1  \n",
       "87824            4               0           0.0             0  \n",
       "\n",
       "[5 rows x 24 columns]"
      ]
     },
     "execution_count": 2,
     "metadata": {},
     "output_type": "execute_result"
    }
   ],
   "source": [
    "airlines = pd.read_csv('airline_satisfaction.csv').dropna()\n",
    "\n",
    "# Randomly sample 200 customer satisfaction surveys\n",
    "# Using a smaller dataset improves notebook speed\n",
    "airlines = airlines.sample(random_state=42, n=200)\n",
    "\n",
    "# Satisfaction = 1 for satisfied customers and = 0 for unsatisfied customers\n",
    "airlines['Satisfaction'] = label_binarize(airlines['Satisfaction'], \n",
    "                                          classes=['Satisfied', 'Unsatisfied'])\n",
    "\n",
    "airlines.head()"
   ]
  },
  {
   "cell_type": "code",
   "execution_count": 3,
   "id": "7f8db08b",
   "metadata": {
    "execution": {
     "iopub.execute_input": "2023-12-07T19:19:32.305308Z",
     "iopub.status.busy": "2023-12-07T19:19:32.305194Z",
     "iopub.status.idle": "2023-12-07T19:19:32.307695Z",
     "shell.execute_reply": "2023-12-07T19:19:32.307441Z"
    }
   },
   "outputs": [
    {
     "data": {
      "text/plain": [
       "1    119\n",
       "0     81\n",
       "Name: Satisfaction, dtype: int64"
      ]
     },
     "execution_count": 3,
     "metadata": {},
     "output_type": "execute_result"
    }
   ],
   "source": [
    "airlines['Satisfaction'].value_counts()"
   ]
  },
  {
   "cell_type": "code",
   "execution_count": 4,
   "id": "2a0e346b",
   "metadata": {
    "execution": {
     "iopub.execute_input": "2023-12-07T19:19:32.309159Z",
     "iopub.status.busy": "2023-12-07T19:19:32.309036Z",
     "iopub.status.idle": "2023-12-07T19:19:32.356259Z",
     "shell.execute_reply": "2023-12-07T19:19:32.355985Z"
    }
   },
   "outputs": [
    {
     "data": {
      "text/plain": [
       "Text(0.5, 1.0, 'Original flight data')"
      ]
     },
     "execution_count": 4,
     "metadata": {},
     "output_type": "execute_result"
    },
    {
     "data": {
      "image/png": "[encoded data removed]",
      "text/plain": [
       "<Figure size 640x480 with 1 Axes>"
      ]
     },
     "metadata": {},
     "output_type": "display_data"
    }
   ],
   "source": [
    "# Bar chart of satisfaction from 100 random customer satisfaction surveys\n",
    "p = sns.countplot(data=airlines, x='Satisfaction')\n",
    "p.set_xlabel('Satisfaction', fontsize=14)\n",
    "p.set_ylabel('Count', fontsize=14)\n",
    "p.set_title('Original flight data', fontsize=16)"
   ]
  },
  {
   "cell_type": "code",
   "execution_count": 5,
   "id": "3283d121",
   "metadata": {
    "execution": {
     "iopub.execute_input": "2023-12-07T19:19:32.361586Z",
     "iopub.status.busy": "2023-12-07T19:19:32.361467Z",
     "iopub.status.idle": "2023-12-07T19:19:32.363427Z",
     "shell.execute_reply": "2023-12-07T19:19:32.363189Z"
    },
    "scrolled": true
   },
   "outputs": [],
   "source": [
    "# Use resample() to create a single bootstrap sample\n",
    "bootSample = resample(airlines['Satisfaction'], replace=True)"
   ]
  },
  {
   "cell_type": "code",
   "execution_count": 6,
   "id": "667b05c1",
   "metadata": {
    "execution": {
     "iopub.execute_input": "2023-12-07T19:19:32.364818Z",
     "iopub.status.busy": "2023-12-07T19:19:32.364722Z",
     "iopub.status.idle": "2023-12-07T19:19:32.411656Z",
     "shell.execute_reply": "2023-12-07T19:19:32.411308Z"
    }
   },
   "outputs": [
    {
     "data": {
      "text/plain": [
       "Text(0.5, 1.0, 'Bootstrap sample')"
      ]
     },
     "execution_count": 6,
     "metadata": {},
     "output_type": "execute_result"
    },
    {
     "data": {
      "image/png": "[encoded data removed]",
      "text/plain": [
       "<Figure size 640x480 with 1 Axes>"
      ]
     },
     "metadata": {},
     "output_type": "display_data"
    }
   ],
   "source": [
    "# Distribution of bootstrap sample is similar, but not identical, to original sample\n",
    "p = sns.countplot(x=bootSample)\n",
    "p.set_xlabel('Satisfaction', fontsize=14)\n",
    "p.set_ylabel('Count', fontsize=14)\n",
    "p.set_title('Bootstrap sample', fontsize=16)"
   ]
  },
  {
   "cell_type": "code",
   "execution_count": 7,
   "id": "1b1b5809",
   "metadata": {
    "execution": {
     "iopub.execute_input": "2023-12-07T19:19:32.413176Z",
     "iopub.status.busy": "2023-12-07T19:19:32.413068Z",
     "iopub.status.idle": "2023-12-07T19:19:32.418265Z",
     "shell.execute_reply": "2023-12-07T19:19:32.418032Z"
    }
   },
   "outputs": [
    {
     "data": {
      "text/plain": [
       "1    113\n",
       "0     87\n",
       "Name: Satisfaction, dtype: int64"
      ]
     },
     "execution_count": 7,
     "metadata": {},
     "output_type": "execute_result"
    }
   ],
   "source": [
    "# Counts of bootstrap sample are similar to descriptive statistics for original distances\n",
    "bootSample.value_counts()"
   ]
  },
  {
   "cell_type": "code",
   "execution_count": 8,
   "id": "facc7f31",
   "metadata": {
    "execution": {
     "iopub.execute_input": "2023-12-07T19:19:32.419701Z",
     "iopub.status.busy": "2023-12-07T19:19:32.419621Z",
     "iopub.status.idle": "2023-12-07T19:19:32.514889Z",
     "shell.execute_reply": "2023-12-07T19:19:32.514602Z"
    }
   },
   "outputs": [],
   "source": [
    "# How does the sample proportion and number of out-of-bag instances vary for 1000 bootstrap samples?\n",
    "\n",
    "bootstrapProps = []\n",
    "bootstrapNOOB = []\n",
    "\n",
    "for i in range(0, 1000):\n",
    "    # Create the bootstrap sample\n",
    "    bootstrapSample = resample(airlines['Satisfaction'], replace=True)\n",
    "    oob = airlines['Satisfaction'][~airlines['Satisfaction'].index.isin(bootstrapSample.index)]\n",
    "\n",
    "    # Calculate the bootstrap sample proportions\n",
    "    prop = bootstrapSample.mean()\n",
    "    bootstrapProps.append(prop)\n",
    "                               \n",
    "    # Calculate the number of out-of-bag instances\n",
    "    noob = len(oob)\n",
    "    bootstrapNOOB.append(noob)"
   ]
  },
  {
   "cell_type": "code",
   "execution_count": 9,
   "id": "9240daa9",
   "metadata": {
    "execution": {
     "iopub.execute_input": "2023-12-07T19:19:32.517264Z",
     "iopub.status.busy": "2023-12-07T19:19:32.516928Z",
     "iopub.status.idle": "2023-12-07T19:19:32.586029Z",
     "shell.execute_reply": "2023-12-07T19:19:32.585747Z"
    }
   },
   "outputs": [
    {
     "data": {
      "text/plain": [
       "Text(0.5, 1.0, '1000 bootstrap samples')"
      ]
     },
     "execution_count": 9,
     "metadata": {},
     "output_type": "execute_result"
    },
    {
     "data": {
      "image/png": "[encoded data removed]",
      "text/plain": [
       "<Figure size 640x480 with 1 Axes>"
      ]
     },
     "metadata": {},
     "output_type": "display_data"
    }
   ],
   "source": [
    "# Histogram of number of out-of-bag instances for 1000 bootstrap samples\n",
    "p = sns.histplot(bootstrapNOOB, bins=10)\n",
    "p.set_xlabel('Number of OOB instances', fontsize=14)\n",
    "p.set_ylabel('Count', fontsize=14)\n",
    "p.set_title('1000 bootstrap samples', fontsize=16)"
   ]
  },
  {
   "cell_type": "code",
   "execution_count": 10,
   "id": "711e594e",
   "metadata": {
    "execution": {
     "iopub.execute_input": "2023-12-07T19:19:32.587640Z",
     "iopub.status.busy": "2023-12-07T19:19:32.587526Z",
     "iopub.status.idle": "2023-12-07T19:19:32.642376Z",
     "shell.execute_reply": "2023-12-07T19:19:32.642097Z"
    }
   },
   "outputs": [
    {
     "data": {
      "text/plain": [
       "<matplotlib.lines.Line2D at 0x7ba2d470da20>"
      ]
     },
     "execution_count": 10,
     "metadata": {},
     "output_type": "execute_result"
    },
    {
     "data": {
      "image/png": "[encoded data removed]",
      "text/plain": [
       "<Figure size 640x480 with 1 Axes>"
      ]
     },
     "metadata": {},
     "output_type": "display_data"
    }
   ],
   "source": [
    "# Histogram of proportions for 1000 bootstrap samples\n",
    "p = sns.histplot(bootstrapProps, bins=10)\n",
    "p.set_xlabel('Sample proportion satisifed', fontsize=14)\n",
    "p.set_ylabel('Count', fontsize=14)\n",
    "p.set_title('1000 bootstrap samples', fontsize=16)\n",
    "\n",
    "# Add original proportion satisfied\n",
    "plt.axvline(airlines['Satisfaction'].mean(), color='#ff7f0e', linewidth=2)"
   ]
  },
  {
   "cell_type": "code",
   "execution_count": 11,
   "id": "cae5616a",
   "metadata": {
    "execution": {
     "iopub.execute_input": "2023-12-07T19:19:32.643845Z",
     "iopub.status.busy": "2023-12-07T19:19:32.643739Z",
     "iopub.status.idle": "2023-12-07T19:19:32.651777Z",
     "shell.execute_reply": "2023-12-07T19:19:32.651427Z"
    }
   },
   "outputs": [
    {
     "data": {
      "text/html": [
       "<div>\n",
       "<style scoped>\n",
       "    .dataframe tbody tr th:only-of-type {\n",
       "        vertical-align: middle;\n",
       "    }\n",
       "\n",
       "    .dataframe tbody tr th {\n",
       "        vertical-align: top;\n",
       "    }\n",
       "\n",
       "    .dataframe thead th {\n",
       "        text-align: right;\n",
       "    }\n",
       "</style>\n",
       "<table border=\"1\" class=\"dataframe\">\n",
       "  <thead>\n",
       "    <tr style=\"text-align: right;\">\n",
       "      <th></th>\n",
       "      <th>0</th>\n",
       "    </tr>\n",
       "  </thead>\n",
       "  <tbody>\n",
       "    <tr>\n",
       "      <th>count</th>\n",
       "      <td>1000.00</td>\n",
       "    </tr>\n",
       "    <tr>\n",
       "      <th>mean</th>\n",
       "      <td>0.60</td>\n",
       "    </tr>\n",
       "    <tr>\n",
       "      <th>std</th>\n",
       "      <td>0.03</td>\n",
       "    </tr>\n",
       "    <tr>\n",
       "      <th>min</th>\n",
       "      <td>0.49</td>\n",
       "    </tr>\n",
       "    <tr>\n",
       "      <th>25%</th>\n",
       "      <td>0.57</td>\n",
       "    </tr>\n",
       "    <tr>\n",
       "      <th>50%</th>\n",
       "      <td>0.60</td>\n",
       "    </tr>\n",
       "    <tr>\n",
       "      <th>75%</th>\n",
       "      <td>0.62</td>\n",
       "    </tr>\n",
       "    <tr>\n",
       "      <th>max</th>\n",
       "      <td>0.71</td>\n",
       "    </tr>\n",
       "  </tbody>\n",
       "</table>\n",
       "</div>"
      ],
      "text/plain": [
       "             0\n",
       "count  1000.00\n",
       "mean      0.60\n",
       "std       0.03\n",
       "min       0.49\n",
       "25%       0.57\n",
       "50%       0.60\n",
       "75%       0.62\n",
       "max       0.71"
      ]
     },
     "execution_count": 11,
     "metadata": {},
     "output_type": "execute_result"
    }
   ],
   "source": [
    "round(pd.DataFrame(bootstrapProps).describe(), 2)"
   ]
  }
 ],
 "metadata": {
  "kernelspec": {
   "display_name": "Python 3 - python3",
   "language": "python3",
   "name": "python3"
  },
  "language_info": {
   "codemirror_mode": {
    "name": "ipython",
    "version": 3
   },
   "file_extension": ".py",
   "mimetype": "text/x-python",
   "name": "python",
   "nbconvert_exporter": "python",
   "pygments_lexer": "ipython3",
   "version": "3.10.9"
  }
 },
 "nbformat": 4,
 "nbformat_minor": 5
}
