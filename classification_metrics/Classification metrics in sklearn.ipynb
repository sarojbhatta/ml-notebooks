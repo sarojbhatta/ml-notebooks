{
 "cells": [
  {
   "cell_type": "code",
   "execution_count": 1,
   "id": "33c5f1cb",
   "metadata": {
    "execution": {
     "iopub.execute_input": "2023-12-14T17:08:29.728431Z",
     "iopub.status.busy": "2023-12-14T17:08:29.727867Z",
     "iopub.status.idle": "2023-12-14T17:08:30.556404Z",
     "shell.execute_reply": "2023-12-14T17:08:30.556131Z"
    },
    "id": "33c5f1cb",
    "outputId": "805811fd-3959-4495-c37b-18c8da76ca83"
   },
   "outputs": [],
   "source": [
    "import numpy as np\n",
    "import pandas as pd\n",
    "import matplotlib.pyplot as plt\n",
    "\n",
    "from sklearn import metrics\n",
    "from sklearn.preprocessing import StandardScaler\n",
    "from sklearn.linear_model import LogisticRegression\n",
    "from sklearn.discriminant_analysis import LinearDiscriminantAnalysis\n",
    "from sklearn.neighbors import KNeighborsClassifier"
   ]
  },
  {
   "cell_type": "code",
   "execution_count": 2,
   "id": "d103f94b",
   "metadata": {
    "execution": {
     "iopub.execute_input": "2023-12-14T17:08:30.558196Z",
     "iopub.status.busy": "2023-12-14T17:08:30.558075Z",
     "iopub.status.idle": "2023-12-14T17:08:30.565032Z",
     "shell.execute_reply": "2023-12-14T17:08:30.564787Z"
    },
    "id": "d103f94b",
    "outputId": "2f8eecaf-ad62-4a1c-cf00-fe018e2aa049"
   },
   "outputs": [
    {
     "data": {
      "text/html": [
       "<div>\n",
       "<style scoped>\n",
       "    .dataframe tbody tr th:only-of-type {\n",
       "        vertical-align: middle;\n",
       "    }\n",
       "\n",
       "    .dataframe tbody tr th {\n",
       "        vertical-align: top;\n",
       "    }\n",
       "\n",
       "    .dataframe thead th {\n",
       "        text-align: right;\n",
       "    }\n",
       "</style>\n",
       "<table border=\"1\" class=\"dataframe\">\n",
       "  <thead>\n",
       "    <tr style=\"text-align: right;\">\n",
       "      <th></th>\n",
       "      <th>SEQN</th>\n",
       "      <th>diabetes</th>\n",
       "      <th>glucose</th>\n",
       "      <th>insulin</th>\n",
       "      <th>cholesterol</th>\n",
       "      <th>outcome</th>\n",
       "      <th>systolic</th>\n",
       "      <th>diastolic</th>\n",
       "    </tr>\n",
       "  </thead>\n",
       "  <tbody>\n",
       "    <tr>\n",
       "      <th>753</th>\n",
       "      <td>97367</td>\n",
       "      <td>no</td>\n",
       "      <td>5.66</td>\n",
       "      <td>2.95</td>\n",
       "      <td>170</td>\n",
       "      <td>0</td>\n",
       "      <td>69</td>\n",
       "      <td>117</td>\n",
       "    </tr>\n",
       "    <tr>\n",
       "      <th>1247</th>\n",
       "      <td>96224</td>\n",
       "      <td>no</td>\n",
       "      <td>5.38</td>\n",
       "      <td>6.19</td>\n",
       "      <td>218</td>\n",
       "      <td>0</td>\n",
       "      <td>77</td>\n",
       "      <td>109</td>\n",
       "    </tr>\n",
       "    <tr>\n",
       "      <th>118</th>\n",
       "      <td>96245</td>\n",
       "      <td>yes</td>\n",
       "      <td>9.05</td>\n",
       "      <td>14.49</td>\n",
       "      <td>155</td>\n",
       "      <td>1</td>\n",
       "      <td>69</td>\n",
       "      <td>139</td>\n",
       "    </tr>\n",
       "    <tr>\n",
       "      <th>472</th>\n",
       "      <td>102526</td>\n",
       "      <td>no</td>\n",
       "      <td>5.38</td>\n",
       "      <td>5.10</td>\n",
       "      <td>191</td>\n",
       "      <td>0</td>\n",
       "      <td>87</td>\n",
       "      <td>138</td>\n",
       "    </tr>\n",
       "    <tr>\n",
       "      <th>1311</th>\n",
       "      <td>102586</td>\n",
       "      <td>no</td>\n",
       "      <td>5.33</td>\n",
       "      <td>7.11</td>\n",
       "      <td>236</td>\n",
       "      <td>0</td>\n",
       "      <td>79</td>\n",
       "      <td>139</td>\n",
       "    </tr>\n",
       "  </tbody>\n",
       "</table>\n",
       "</div>"
      ],
      "text/plain": [
       "        SEQN diabetes  glucose  insulin  cholesterol  outcome  systolic  \\\n",
       "753    97367       no     5.66     2.95          170        0        69   \n",
       "1247   96224       no     5.38     6.19          218        0        77   \n",
       "118    96245      yes     9.05    14.49          155        1        69   \n",
       "472   102526       no     5.38     5.10          191        0        87   \n",
       "1311  102586       no     5.33     7.11          236        0        79   \n",
       "\n",
       "      diastolic  \n",
       "753         117  \n",
       "1247        109  \n",
       "118         139  \n",
       "472         138  \n",
       "1311        139  "
      ]
     },
     "execution_count": 2,
     "metadata": {},
     "output_type": "execute_result"
    }
   ],
   "source": [
    "# Load the diabetes dataset\n",
    "diabetes_full = pd.read_csv('diabetesNHANES.csv')\n",
    "\n",
    "# Select a random sample of 100 instances\n",
    "seed = 9876\n",
    "diabetes = diabetes_full.sample(n=100, random_state=seed)\n",
    "diabetes.head()"
   ]
  },
  {
   "cell_type": "code",
   "execution_count": 3,
   "id": "e4a7c67f",
   "metadata": {
    "execution": {
     "iopub.execute_input": "2023-12-14T17:08:30.566566Z",
     "iopub.status.busy": "2023-12-14T17:08:30.566480Z",
     "iopub.status.idle": "2023-12-14T17:08:30.569648Z",
     "shell.execute_reply": "2023-12-14T17:08:30.569416Z"
    },
    "id": "e4a7c67f"
   },
   "outputs": [],
   "source": [
    "# Define input and output features\n",
    "X = diabetes[['glucose', 'cholesterol']]\n",
    "y = diabetes[['outcome']]\n",
    "\n",
    "# Scale the input features\n",
    "scaler = StandardScaler()\n",
    "X = scaler.fit_transform(X)"
   ]
  },
  {
   "cell_type": "code",
   "execution_count": 4,
   "id": "44c3a35b",
   "metadata": {
    "execution": {
     "iopub.execute_input": "2023-12-14T17:08:30.571046Z",
     "iopub.status.busy": "2023-12-14T17:08:30.570961Z",
     "iopub.status.idle": "2023-12-14T17:08:30.575414Z",
     "shell.execute_reply": "2023-12-14T17:08:30.575185Z"
    },
    "id": "44c3a35b"
   },
   "outputs": [],
   "source": [
    "# Intialize and fit a k-nearest neighbors model with k=5\n",
    "knn = KNeighborsClassifier(n_neighbors=5)\n",
    "knn.fit(X, np.ravel(y))\n",
    "\n",
    "# Calculate the predictions for each instance in X\n",
    "knnypred = knn.predict(X)"
   ]
  },
  {
   "cell_type": "code",
   "execution_count": 5,
   "id": "4190a2a9",
   "metadata": {
    "execution": {
     "iopub.execute_input": "2023-12-14T17:08:30.576802Z",
     "iopub.status.busy": "2023-12-14T17:08:30.576721Z",
     "iopub.status.idle": "2023-12-14T17:08:30.580169Z",
     "shell.execute_reply": "2023-12-14T17:08:30.579896Z"
    },
    "id": "4190a2a9"
   },
   "outputs": [],
   "source": [
    "# Initialize and fit a logistic regression model\n",
    "lrm = LogisticRegression()\n",
    "lrm.fit(X, np.ravel(y))\n",
    "\n",
    "# Calculate the predictions for each instance in X\n",
    "lrmypred = lrm.predict(X)"
   ]
  },
  {
   "cell_type": "code",
   "execution_count": 6,
   "id": "f0462399",
   "metadata": {
    "execution": {
     "iopub.execute_input": "2023-12-14T17:08:30.581608Z",
     "iopub.status.busy": "2023-12-14T17:08:30.581517Z",
     "iopub.status.idle": "2023-12-14T17:08:30.584047Z",
     "shell.execute_reply": "2023-12-14T17:08:30.583819Z"
    },
    "id": "f0462399",
    "outputId": "19f87685-82ca-4d55-d5b4-fe34d325e91d"
   },
   "outputs": [
    {
     "name": "stdout",
     "output_type": "stream",
     "text": [
      "KNN model \n",
      " [[74  4]\n",
      " [ 6 16]]\n",
      "LR model \n",
      " [[77  1]\n",
      " [13  9]]\n"
     ]
    }
   ],
   "source": [
    "# calculate the confusion matrix for each model\n",
    "print(\"KNN model \\n\", metrics.confusion_matrix(np.ravel(y), knnypred))\n",
    "print(\"LR model \\n\", metrics.confusion_matrix(np.ravel(y), lrmypred))"
   ]
  },
  {
   "cell_type": "code",
   "execution_count": 7,
   "id": "59c4918d",
   "metadata": {
    "execution": {
     "iopub.execute_input": "2023-12-14T17:08:30.585434Z",
     "iopub.status.busy": "2023-12-14T17:08:30.585354Z",
     "iopub.status.idle": "2023-12-14T17:08:30.587420Z",
     "shell.execute_reply": "2023-12-14T17:08:30.587154Z"
    },
    "id": "59c4918d",
    "outputId": "0b91be70-ace5-4773-b493-61fe9408a257"
   },
   "outputs": [
    {
     "name": "stdout",
     "output_type": "stream",
     "text": [
      "KNN model accuracy: 0.9\n",
      "LR model accuracy: 0.86\n"
     ]
    }
   ],
   "source": [
    "# calculate the accuracy for each model\n",
    "print(\"KNN model accuracy:\", metrics.accuracy_score(np.ravel(y), knnypred))\n",
    "print(\"LR model accuracy:\", metrics.accuracy_score(np.ravel(y), lrmypred))"
   ]
  },
  {
   "cell_type": "code",
   "execution_count": 8,
   "id": "e6fcb188",
   "metadata": {
    "execution": {
     "iopub.execute_input": "2023-12-14T17:08:30.588839Z",
     "iopub.status.busy": "2023-12-14T17:08:30.588761Z",
     "iopub.status.idle": "2023-12-14T17:08:30.591536Z",
     "shell.execute_reply": "2023-12-14T17:08:30.591302Z"
    },
    "id": "e6fcb188",
    "outputId": "7796a13f-4493-4261-fd54-06c742d0b1c4"
   },
   "outputs": [
    {
     "name": "stdout",
     "output_type": "stream",
     "text": [
      "KNN model precision: 0.8\n",
      "LR model precision: 0.9\n"
     ]
    }
   ],
   "source": [
    "# calculate the precision for each model\n",
    "print(\"KNN model precision:\", metrics.precision_score(np.ravel(y), knnypred))\n",
    "print(\"LR model precision:\", metrics.precision_score(np.ravel(y), lrmypred))"
   ]
  },
  {
   "cell_type": "code",
   "execution_count": 9,
   "id": "cb2a31c0",
   "metadata": {
    "execution": {
     "iopub.execute_input": "2023-12-14T17:08:30.592969Z",
     "iopub.status.busy": "2023-12-14T17:08:30.592870Z",
     "iopub.status.idle": "2023-12-14T17:08:30.595534Z",
     "shell.execute_reply": "2023-12-14T17:08:30.595311Z"
    },
    "id": "cb2a31c0",
    "outputId": "a3c9aff6-e72c-4b83-b2df-0dd4551addf8"
   },
   "outputs": [
    {
     "name": "stdout",
     "output_type": "stream",
     "text": [
      "KNN model recall: 0.7272727272727273\n",
      "LR model recall: 0.4090909090909091\n"
     ]
    }
   ],
   "source": [
    "# calculate the recall for each model\n",
    "print(\"KNN model recall:\", metrics.recall_score(np.ravel(y), knnypred))\n",
    "print(\"LR model recall:\", metrics.recall_score(np.ravel(y), lrmypred))"
   ]
  },
  {
   "cell_type": "code",
   "execution_count": 10,
   "id": "67dab7fc",
   "metadata": {
    "execution": {
     "iopub.execute_input": "2023-12-14T17:08:30.596909Z",
     "iopub.status.busy": "2023-12-14T17:08:30.596808Z",
     "iopub.status.idle": "2023-12-14T17:08:30.599193Z",
     "shell.execute_reply": "2023-12-14T17:08:30.598947Z"
    },
    "id": "67dab7fc",
    "outputId": "c0ef7ae0-ebca-4422-92a4-6326a81edd7c"
   },
   "outputs": [
    {
     "name": "stdout",
     "output_type": "stream",
     "text": [
      "KNN model kappa: 0.6987951807228916\n",
      "LR model kappa: 0.4927536231884059\n"
     ]
    }
   ],
   "source": [
    "# calculate the accuracy for each model\n",
    "print(\"KNN model kappa:\", metrics.cohen_kappa_score(np.ravel(y), knnypred))\n",
    "print(\"LR model kappa:\", metrics.cohen_kappa_score(np.ravel(y), lrmypred))"
   ]
  }
 ],
 "metadata": {
  "colab": {
   "provenance": []
  },
  "kernelspec": {
   "display_name": "Python 3 - python3",
   "language": "python3",
   "name": "python3"
  },
  "language_info": {
   "codemirror_mode": {
    "name": "ipython",
    "version": 3
   },
   "file_extension": ".py",
   "mimetype": "text/x-python",
   "name": "python",
   "nbconvert_exporter": "python",
   "pygments_lexer": "ipython3",
   "version": "3.10.9"
  }
 },
 "nbformat": 4,
 "nbformat_minor": 5
}
