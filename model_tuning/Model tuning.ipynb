{
 "cells": [
  {
   "cell_type": "code",
   "execution_count": 1,
   "id": "75f30735",
   "metadata": {
    "execution": {
     "iopub.execute_input": "2023-12-14T17:07:52.361527Z",
     "iopub.status.busy": "2023-12-14T17:07:52.360652Z",
     "iopub.status.idle": "2023-12-14T17:07:53.222245Z",
     "shell.execute_reply": "2023-12-14T17:07:53.221952Z"
    }
   },
   "outputs": [],
   "source": [
    "import numpy as np\n",
    "import pandas as pd\n",
    "import matplotlib.pyplot as plt\n",
    "import seaborn as sns\n",
    "\n",
    "from sklearn.model_selection import train_test_split\n",
    "from sklearn.model_selection import GridSearchCV\n",
    "\n",
    "from sklearn.neighbors import KNeighborsClassifier\n",
    "\n",
    "from sklearn.preprocessing import StandardScaler"
   ]
  },
  {
   "cell_type": "code",
   "execution_count": 2,
   "id": "1baccf16",
   "metadata": {
    "execution": {
     "iopub.execute_input": "2023-12-14T17:07:53.223958Z",
     "iopub.status.busy": "2023-12-14T17:07:53.223811Z",
     "iopub.status.idle": "2023-12-14T17:07:53.227131Z",
     "shell.execute_reply": "2023-12-14T17:07:53.226826Z"
    }
   },
   "outputs": [],
   "source": [
    "wine = pd.read_csv('wine_sample.csv')"
   ]
  },
  {
   "cell_type": "code",
   "execution_count": 3,
   "id": "789c6367",
   "metadata": {
    "execution": {
     "iopub.execute_input": "2023-12-14T17:07:53.228518Z",
     "iopub.status.busy": "2023-12-14T17:07:53.228439Z",
     "iopub.status.idle": "2023-12-14T17:07:53.232502Z",
     "shell.execute_reply": "2023-12-14T17:07:53.232250Z"
    }
   },
   "outputs": [],
   "source": [
    "X = wine[['sulphates', 'alcohol']]\n",
    "y = wine[['type']]\n",
    "\n",
    "# Create training/testing split\n",
    "X_train, X_test, y_train, y_test = train_test_split(X, y, test_size=0.1, random_state=123)\n",
    "\n",
    "# Scale the input features\n",
    "scaler = StandardScaler()\n",
    "X_train = scaler.fit_transform(X_train)\n",
    "X_test = scaler.transform(X_test)"
   ]
  },
  {
   "cell_type": "code",
   "execution_count": 4,
   "id": "3ab2f2a5",
   "metadata": {
    "execution": {
     "iopub.execute_input": "2023-12-14T17:07:53.233924Z",
     "iopub.status.busy": "2023-12-14T17:07:53.233841Z",
     "iopub.status.idle": "2023-12-14T17:07:53.267056Z",
     "shell.execute_reply": "2023-12-14T17:07:53.266799Z"
    }
   },
   "outputs": [
    {
     "data": {
      "text/html": [
       "<style>#sk-container-id-1 {color: black;background-color: white;}#sk-container-id-1 pre{padding: 0;}#sk-container-id-1 div.sk-toggleable {background-color: white;}#sk-container-id-1 label.sk-toggleable__label {cursor: pointer;display: block;width: 100%;margin-bottom: 0;padding: 0.3em;box-sizing: border-box;text-align: center;}#sk-container-id-1 label.sk-toggleable__label-arrow:before {content: \"▸\";float: left;margin-right: 0.25em;color: #696969;}#sk-container-id-1 label.sk-toggleable__label-arrow:hover:before {color: black;}#sk-container-id-1 div.sk-estimator:hover label.sk-toggleable__label-arrow:before {color: black;}#sk-container-id-1 div.sk-toggleable__content {max-height: 0;max-width: 0;overflow: hidden;text-align: left;background-color: #f0f8ff;}#sk-container-id-1 div.sk-toggleable__content pre {margin: 0.2em;color: black;border-radius: 0.25em;background-color: #f0f8ff;}#sk-container-id-1 input.sk-toggleable__control:checked~div.sk-toggleable__content {max-height: 200px;max-width: 100%;overflow: auto;}#sk-container-id-1 input.sk-toggleable__control:checked~label.sk-toggleable__label-arrow:before {content: \"▾\";}#sk-container-id-1 div.sk-estimator input.sk-toggleable__control:checked~label.sk-toggleable__label {background-color: #d4ebff;}#sk-container-id-1 div.sk-label input.sk-toggleable__control:checked~label.sk-toggleable__label {background-color: #d4ebff;}#sk-container-id-1 input.sk-hidden--visually {border: 0;clip: rect(1px 1px 1px 1px);clip: rect(1px, 1px, 1px, 1px);height: 1px;margin: -1px;overflow: hidden;padding: 0;position: absolute;width: 1px;}#sk-container-id-1 div.sk-estimator {font-family: monospace;background-color: #f0f8ff;border: 1px dotted black;border-radius: 0.25em;box-sizing: border-box;margin-bottom: 0.5em;}#sk-container-id-1 div.sk-estimator:hover {background-color: #d4ebff;}#sk-container-id-1 div.sk-parallel-item::after {content: \"\";width: 100%;border-bottom: 1px solid gray;flex-grow: 1;}#sk-container-id-1 div.sk-label:hover label.sk-toggleable__label {background-color: #d4ebff;}#sk-container-id-1 div.sk-serial::before {content: \"\";position: absolute;border-left: 1px solid gray;box-sizing: border-box;top: 0;bottom: 0;left: 50%;z-index: 0;}#sk-container-id-1 div.sk-serial {display: flex;flex-direction: column;align-items: center;background-color: white;padding-right: 0.2em;padding-left: 0.2em;position: relative;}#sk-container-id-1 div.sk-item {position: relative;z-index: 1;}#sk-container-id-1 div.sk-parallel {display: flex;align-items: stretch;justify-content: center;background-color: white;position: relative;}#sk-container-id-1 div.sk-item::before, #sk-container-id-1 div.sk-parallel-item::before {content: \"\";position: absolute;border-left: 1px solid gray;box-sizing: border-box;top: 0;bottom: 0;left: 50%;z-index: -1;}#sk-container-id-1 div.sk-parallel-item {display: flex;flex-direction: column;z-index: 1;position: relative;background-color: white;}#sk-container-id-1 div.sk-parallel-item:first-child::after {align-self: flex-end;width: 50%;}#sk-container-id-1 div.sk-parallel-item:last-child::after {align-self: flex-start;width: 50%;}#sk-container-id-1 div.sk-parallel-item:only-child::after {width: 0;}#sk-container-id-1 div.sk-dashed-wrapped {border: 1px dashed gray;margin: 0 0.4em 0.5em 0.4em;box-sizing: border-box;padding-bottom: 0.4em;background-color: white;}#sk-container-id-1 div.sk-label label {font-family: monospace;font-weight: bold;display: inline-block;line-height: 1.2em;}#sk-container-id-1 div.sk-label-container {text-align: center;}#sk-container-id-1 div.sk-container {/* jupyter's `normalize.less` sets `[hidden] { display: none; }` but bootstrap.min.css set `[hidden] { display: none !important; }` so we also need the `!important` here to be able to override the default hidden behavior on the sphinx rendered scikit-learn.org. See: https://github.com/scikit-learn/scikit-learn/issues/21755 */display: inline-block !important;position: relative;}#sk-container-id-1 div.sk-text-repr-fallback {display: none;}</style><div id=\"sk-container-id-1\" class=\"sk-top-container\"><div class=\"sk-text-repr-fallback\"><pre>GridSearchCV(estimator=KNeighborsClassifier(),\n",
       "             param_grid={&#x27;n_neighbors&#x27;: [3, 5, 7, 9, 11]})</pre><b>In a Jupyter environment, please rerun this cell to show the HTML representation or trust the notebook. <br />On GitHub, the HTML representation is unable to render, please try loading this page with nbviewer.org.</b></div><div class=\"sk-container\" hidden><div class=\"sk-item sk-dashed-wrapped\"><div class=\"sk-label-container\"><div class=\"sk-label sk-toggleable\"><input class=\"sk-toggleable__control sk-hidden--visually\" id=\"sk-estimator-id-1\" type=\"checkbox\" ><label for=\"sk-estimator-id-1\" class=\"sk-toggleable__label sk-toggleable__label-arrow\">GridSearchCV</label><div class=\"sk-toggleable__content\"><pre>GridSearchCV(estimator=KNeighborsClassifier(),\n",
       "             param_grid={&#x27;n_neighbors&#x27;: [3, 5, 7, 9, 11]})</pre></div></div></div><div class=\"sk-parallel\"><div class=\"sk-parallel-item\"><div class=\"sk-item\"><div class=\"sk-label-container\"><div class=\"sk-label sk-toggleable\"><input class=\"sk-toggleable__control sk-hidden--visually\" id=\"sk-estimator-id-2\" type=\"checkbox\" ><label for=\"sk-estimator-id-2\" class=\"sk-toggleable__label sk-toggleable__label-arrow\">estimator: KNeighborsClassifier</label><div class=\"sk-toggleable__content\"><pre>KNeighborsClassifier()</pre></div></div></div><div class=\"sk-serial\"><div class=\"sk-item\"><div class=\"sk-estimator sk-toggleable\"><input class=\"sk-toggleable__control sk-hidden--visually\" id=\"sk-estimator-id-3\" type=\"checkbox\" ><label for=\"sk-estimator-id-3\" class=\"sk-toggleable__label sk-toggleable__label-arrow\">KNeighborsClassifier</label><div class=\"sk-toggleable__content\"><pre>KNeighborsClassifier()</pre></div></div></div></div></div></div></div></div></div></div>"
      ],
      "text/plain": [
       "GridSearchCV(estimator=KNeighborsClassifier(),\n",
       "             param_grid={'n_neighbors': [3, 5, 7, 9, 11]})"
      ]
     },
     "execution_count": 4,
     "metadata": {},
     "output_type": "execute_result"
    }
   ],
   "source": [
    "# Initialize k-nearest neighbors model\n",
    "knnModel = KNeighborsClassifier()\n",
    "\n",
    "# Create tuning grid\n",
    "k = {'n_neighbors': [3, 5, 7, 9, 11]}\n",
    "\n",
    "# Initialize tuning grid and fit to training data\n",
    "knnTuning = GridSearchCV(knnModel, k)\n",
    "knnTuning.fit(X_train, np.ravel(y_train))"
   ]
  },
  {
   "cell_type": "code",
   "execution_count": 5,
   "id": "ae552c04",
   "metadata": {
    "execution": {
     "iopub.execute_input": "2023-12-14T17:07:53.268479Z",
     "iopub.status.busy": "2023-12-14T17:07:53.268401Z",
     "iopub.status.idle": "2023-12-14T17:07:53.271183Z",
     "shell.execute_reply": "2023-12-14T17:07:53.270945Z"
    }
   },
   "outputs": [
    {
     "data": {
      "text/plain": [
       "{'mean_fit_time': array([0.00056744, 0.00070443, 0.0007031 , 0.00070143, 0.00056062]),\n",
       " 'std_fit_time': array([1.33240367e-04, 1.68142519e-04, 1.39030621e-04, 8.54059146e-05,\n",
       "        9.91338145e-05]),\n",
       " 'mean_score_time': array([0.00187716, 0.00250239, 0.00217857, 0.00208035, 0.00180159]),\n",
       " 'std_score_time': array([0.00032663, 0.00079055, 0.00065913, 0.0002779 , 0.00041065]),\n",
       " 'param_n_neighbors': masked_array(data=[3, 5, 7, 9, 11],\n",
       "              mask=[False, False, False, False, False],\n",
       "        fill_value='?',\n",
       "             dtype=object),\n",
       " 'params': [{'n_neighbors': 3},\n",
       "  {'n_neighbors': 5},\n",
       "  {'n_neighbors': 7},\n",
       "  {'n_neighbors': 9},\n",
       "  {'n_neighbors': 11}],\n",
       " 'split0_test_score': array([0.75      , 0.69444444, 0.72222222, 0.75      , 0.75      ]),\n",
       " 'split1_test_score': array([0.69444444, 0.66666667, 0.69444444, 0.72222222, 0.69444444]),\n",
       " 'split2_test_score': array([0.69444444, 0.72222222, 0.69444444, 0.66666667, 0.69444444]),\n",
       " 'split3_test_score': array([0.66666667, 0.61111111, 0.61111111, 0.63888889, 0.63888889]),\n",
       " 'split4_test_score': array([0.55555556, 0.52777778, 0.52777778, 0.5       , 0.52777778]),\n",
       " 'mean_test_score': array([0.67222222, 0.64444444, 0.65      , 0.65555556, 0.66111111]),\n",
       " 'std_test_score': array([0.06431021, 0.06894263, 0.07157833, 0.08713548, 0.07535922]),\n",
       " 'rank_test_score': array([1, 5, 4, 3, 2], dtype=int32)}"
      ]
     },
     "execution_count": 5,
     "metadata": {},
     "output_type": "execute_result"
    }
   ],
   "source": [
    "# All available results\n",
    "knnTuning.cv_results_"
   ]
  },
  {
   "cell_type": "code",
   "execution_count": 6,
   "id": "41a23f94",
   "metadata": {
    "execution": {
     "iopub.execute_input": "2023-12-14T17:07:53.272544Z",
     "iopub.status.busy": "2023-12-14T17:07:53.272464Z",
     "iopub.status.idle": "2023-12-14T17:07:53.274482Z",
     "shell.execute_reply": "2023-12-14T17:07:53.274227Z"
    }
   },
   "outputs": [
    {
     "name": "stdout",
     "output_type": "stream",
     "text": [
      "Mean testing scores: [0.67222222 0.64444444 0.65       0.65555556 0.66111111]\n",
      "Best estimator: KNeighborsClassifier(n_neighbors=3)\n"
     ]
    }
   ],
   "source": [
    "# Mean testing score for each k and best model\n",
    "print('Mean testing scores:', knnTuning.cv_results_['mean_test_score'])\n",
    "print('Best estimator:', knnTuning.best_estimator_)"
   ]
  },
  {
   "cell_type": "code",
   "execution_count": null,
   "id": "6d4b4c68",
   "metadata": {},
   "outputs": [],
   "source": []
  }
 ],
 "metadata": {
  "kernelspec": {
   "display_name": "Python 3 - python3",
   "language": "python3",
   "name": "python3"
  },
  "language_info": {
   "codemirror_mode": {
    "name": "ipython",
    "version": 3
   },
   "file_extension": ".py",
   "mimetype": "text/x-python",
   "name": "python",
   "nbconvert_exporter": "python",
   "pygments_lexer": "ipython3",
   "version": "3.10.9"
  }
 },
 "nbformat": 4,
 "nbformat_minor": 5
}
