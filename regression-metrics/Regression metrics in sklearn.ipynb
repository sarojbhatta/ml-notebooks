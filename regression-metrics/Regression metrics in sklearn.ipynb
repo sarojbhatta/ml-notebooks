{
 "cells": [
  {
   "cell_type": "code",
   "execution_count": 1,
   "id": "96b205e8",
   "metadata": {
    "execution": {
     "iopub.execute_input": "2023-12-14T17:08:33.485806Z",
     "iopub.status.busy": "2023-12-14T17:08:33.485378Z",
     "iopub.status.idle": "2023-12-14T17:08:34.324212Z",
     "shell.execute_reply": "2023-12-14T17:08:34.323895Z"
    },
    "id": "96b205e8",
    "outputId": "c793a8b1-6331-4896-fc9f-28d187f56c0e"
   },
   "outputs": [],
   "source": [
    "import numpy as np\n",
    "import pandas as pd\n",
    "import matplotlib.pyplot as plt\n",
    "\n",
    "from sklearn import metrics\n",
    "from sklearn.preprocessing import StandardScaler\n",
    "from sklearn.linear_model import LinearRegression\n",
    "from sklearn.linear_model import ElasticNet\n",
    "from sklearn.neighbors import KNeighborsRegressor"
   ]
  },
  {
   "cell_type": "code",
   "execution_count": 2,
   "id": "82960f4a",
   "metadata": {
    "execution": {
     "iopub.execute_input": "2023-12-14T17:08:34.325949Z",
     "iopub.status.busy": "2023-12-14T17:08:34.325821Z",
     "iopub.status.idle": "2023-12-14T17:08:34.332845Z",
     "shell.execute_reply": "2023-12-14T17:08:34.332577Z"
    },
    "id": "82960f4a",
    "outputId": "5c4c14e7-803c-4867-8372-cfab3753ef8c"
   },
   "outputs": [
    {
     "data": {
      "text/html": [
       "<div>\n",
       "<style scoped>\n",
       "    .dataframe tbody tr th:only-of-type {\n",
       "        vertical-align: middle;\n",
       "    }\n",
       "\n",
       "    .dataframe tbody tr th {\n",
       "        vertical-align: top;\n",
       "    }\n",
       "\n",
       "    .dataframe thead th {\n",
       "        text-align: right;\n",
       "    }\n",
       "</style>\n",
       "<table border=\"1\" class=\"dataframe\">\n",
       "  <thead>\n",
       "    <tr style=\"text-align: right;\">\n",
       "      <th></th>\n",
       "      <th>SEQN</th>\n",
       "      <th>diabetes</th>\n",
       "      <th>glucose</th>\n",
       "      <th>insulin</th>\n",
       "      <th>cholesterol</th>\n",
       "      <th>outcome</th>\n",
       "      <th>systolic</th>\n",
       "      <th>diastolic</th>\n",
       "    </tr>\n",
       "  </thead>\n",
       "  <tbody>\n",
       "    <tr>\n",
       "      <th>0</th>\n",
       "      <td>93742</td>\n",
       "      <td>yes</td>\n",
       "      <td>5.88</td>\n",
       "      <td>25.83</td>\n",
       "      <td>160</td>\n",
       "      <td>1</td>\n",
       "      <td>90</td>\n",
       "      <td>167</td>\n",
       "    </tr>\n",
       "    <tr>\n",
       "      <th>1</th>\n",
       "      <td>93758</td>\n",
       "      <td>yes</td>\n",
       "      <td>7.05</td>\n",
       "      <td>5.42</td>\n",
       "      <td>446</td>\n",
       "      <td>1</td>\n",
       "      <td>77</td>\n",
       "      <td>149</td>\n",
       "    </tr>\n",
       "    <tr>\n",
       "      <th>2</th>\n",
       "      <td>93759</td>\n",
       "      <td>yes</td>\n",
       "      <td>4.05</td>\n",
       "      <td>6.98</td>\n",
       "      <td>76</td>\n",
       "      <td>1</td>\n",
       "      <td>62</td>\n",
       "      <td>117</td>\n",
       "    </tr>\n",
       "    <tr>\n",
       "      <th>3</th>\n",
       "      <td>93762</td>\n",
       "      <td>yes</td>\n",
       "      <td>6.27</td>\n",
       "      <td>15.81</td>\n",
       "      <td>277</td>\n",
       "      <td>1</td>\n",
       "      <td>63</td>\n",
       "      <td>128</td>\n",
       "    </tr>\n",
       "    <tr>\n",
       "      <th>4</th>\n",
       "      <td>93766</td>\n",
       "      <td>yes</td>\n",
       "      <td>4.44</td>\n",
       "      <td>13.25</td>\n",
       "      <td>254</td>\n",
       "      <td>1</td>\n",
       "      <td>107</td>\n",
       "      <td>150</td>\n",
       "    </tr>\n",
       "  </tbody>\n",
       "</table>\n",
       "</div>"
      ],
      "text/plain": [
       "    SEQN diabetes  glucose  insulin  cholesterol  outcome  systolic  diastolic\n",
       "0  93742      yes     5.88    25.83          160        1        90        167\n",
       "1  93758      yes     7.05     5.42          446        1        77        149\n",
       "2  93759      yes     4.05     6.98           76        1        62        117\n",
       "3  93762      yes     6.27    15.81          277        1        63        128\n",
       "4  93766      yes     4.44    13.25          254        1       107        150"
      ]
     },
     "execution_count": 2,
     "metadata": {},
     "output_type": "execute_result"
    }
   ],
   "source": [
    "# Load the diabetes dataset\n",
    "diabetes = pd.read_csv('diabetesNHANES.csv')\n",
    "diabetes.head()"
   ]
  },
  {
   "cell_type": "code",
   "execution_count": 3,
   "id": "63172705",
   "metadata": {
    "execution": {
     "iopub.execute_input": "2023-12-14T17:08:34.334369Z",
     "iopub.status.busy": "2023-12-14T17:08:34.334277Z",
     "iopub.status.idle": "2023-12-14T17:08:34.338846Z",
     "shell.execute_reply": "2023-12-14T17:08:34.338566Z"
    },
    "id": "63172705",
    "outputId": "c373af75-44fc-48d7-d5ef-8875c052af1e"
   },
   "outputs": [
    {
     "data": {
      "text/html": [
       "<div>\n",
       "<style scoped>\n",
       "    .dataframe tbody tr th:only-of-type {\n",
       "        vertical-align: middle;\n",
       "    }\n",
       "\n",
       "    .dataframe tbody tr th {\n",
       "        vertical-align: top;\n",
       "    }\n",
       "\n",
       "    .dataframe thead th {\n",
       "        text-align: right;\n",
       "    }\n",
       "</style>\n",
       "<table border=\"1\" class=\"dataframe\">\n",
       "  <thead>\n",
       "    <tr style=\"text-align: right;\">\n",
       "      <th></th>\n",
       "      <th>SEQN</th>\n",
       "      <th>diabetes</th>\n",
       "      <th>glucose</th>\n",
       "      <th>insulin</th>\n",
       "      <th>cholesterol</th>\n",
       "      <th>outcome</th>\n",
       "      <th>systolic</th>\n",
       "      <th>diastolic</th>\n",
       "    </tr>\n",
       "  </thead>\n",
       "  <tbody>\n",
       "    <tr>\n",
       "      <th>1326</th>\n",
       "      <td>101937</td>\n",
       "      <td>no</td>\n",
       "      <td>5.38</td>\n",
       "      <td>30.01</td>\n",
       "      <td>157</td>\n",
       "      <td>0</td>\n",
       "      <td>80</td>\n",
       "      <td>135</td>\n",
       "    </tr>\n",
       "    <tr>\n",
       "      <th>208</th>\n",
       "      <td>98270</td>\n",
       "      <td>yes</td>\n",
       "      <td>5.44</td>\n",
       "      <td>3.82</td>\n",
       "      <td>148</td>\n",
       "      <td>1</td>\n",
       "      <td>73</td>\n",
       "      <td>151</td>\n",
       "    </tr>\n",
       "    <tr>\n",
       "      <th>358</th>\n",
       "      <td>102289</td>\n",
       "      <td>yes</td>\n",
       "      <td>5.50</td>\n",
       "      <td>31.22</td>\n",
       "      <td>193</td>\n",
       "      <td>1</td>\n",
       "      <td>62</td>\n",
       "      <td>105</td>\n",
       "    </tr>\n",
       "    <tr>\n",
       "      <th>930</th>\n",
       "      <td>97041</td>\n",
       "      <td>no</td>\n",
       "      <td>5.05</td>\n",
       "      <td>11.27</td>\n",
       "      <td>134</td>\n",
       "      <td>0</td>\n",
       "      <td>69</td>\n",
       "      <td>104</td>\n",
       "    </tr>\n",
       "    <tr>\n",
       "      <th>319</th>\n",
       "      <td>101046</td>\n",
       "      <td>yes</td>\n",
       "      <td>8.55</td>\n",
       "      <td>13.52</td>\n",
       "      <td>105</td>\n",
       "      <td>1</td>\n",
       "      <td>69</td>\n",
       "      <td>137</td>\n",
       "    </tr>\n",
       "  </tbody>\n",
       "</table>\n",
       "</div>"
      ],
      "text/plain": [
       "        SEQN diabetes  glucose  insulin  cholesterol  outcome  systolic  \\\n",
       "1326  101937       no     5.38    30.01          157        0        80   \n",
       "208    98270      yes     5.44     3.82          148        1        73   \n",
       "358   102289      yes     5.50    31.22          193        1        62   \n",
       "930    97041       no     5.05    11.27          134        0        69   \n",
       "319   101046      yes     8.55    13.52          105        1        69   \n",
       "\n",
       "      diastolic  \n",
       "1326        135  \n",
       "208         151  \n",
       "358         105  \n",
       "930         104  \n",
       "319         137  "
      ]
     },
     "execution_count": 3,
     "metadata": {},
     "output_type": "execute_result"
    }
   ],
   "source": [
    "# take a random sample of 50 instances\n",
    "df = diabetes.sample(n=50, random_state=1234)\n",
    "df.head()"
   ]
  },
  {
   "cell_type": "code",
   "execution_count": 4,
   "id": "9ad19239",
   "metadata": {
    "execution": {
     "iopub.execute_input": "2023-12-14T17:08:34.340298Z",
     "iopub.status.busy": "2023-12-14T17:08:34.340213Z",
     "iopub.status.idle": "2023-12-14T17:08:34.473548Z",
     "shell.execute_reply": "2023-12-14T17:08:34.473267Z"
    },
    "id": "9ad19239",
    "outputId": "e35fec53-9e9a-46eb-e6ab-faee12f413c5"
   },
   "outputs": [
    {
     "data": {
      "image/png": "[encoded data removed]",
      "text/plain": [
       "<Figure size 640x480 with 4 Axes>"
      ]
     },
     "metadata": {},
     "output_type": "display_data"
    }
   ],
   "source": [
    "# Plot Insulin vs Glucose, Cholesterol, Systolic BP, and Diastolic BP\n",
    "fig, axis = plt.subplots(2, 2)\n",
    "fig.tight_layout(pad=2.5)\n",
    "axis[0, 0].scatter(df[['glucose']], df[['insulin']])\n",
    "axis[0, 0].set_title(\"Insulin vs Glucose\")\n",
    "\n",
    "axis[0, 1].scatter(df[['cholesterol']], df[['insulin']])\n",
    "axis[0, 1].set_title(\"Insulin vs Cholesterol\")\n",
    "\n",
    "axis[1, 0].scatter(df[['systolic']], df[['insulin']])\n",
    "axis[1, 0].set_title(\"Insulin vs Systolic\")\n",
    "\n",
    "axis[1, 1].scatter(df[['diastolic']], df[['insulin']])\n",
    "axis[1, 1].set_title(\"insulin vs Diastolic\")\n",
    "\n",
    "plt.show()"
   ]
  },
  {
   "cell_type": "code",
   "execution_count": 5,
   "id": "e79371ca",
   "metadata": {
    "execution": {
     "iopub.execute_input": "2023-12-14T17:08:34.475076Z",
     "iopub.status.busy": "2023-12-14T17:08:34.474962Z",
     "iopub.status.idle": "2023-12-14T17:08:34.477464Z",
     "shell.execute_reply": "2023-12-14T17:08:34.477201Z"
    },
    "id": "e79371ca"
   },
   "outputs": [],
   "source": [
    "# Define input and output features\n",
    "X = df[['glucose', 'cholesterol', 'systolic', 'diastolic']].values.reshape(-1, 4)\n",
    "y = df[['insulin']].values.reshape(-1, 1)"
   ]
  },
  {
   "cell_type": "code",
   "execution_count": 6,
   "id": "1ab8d934",
   "metadata": {
    "execution": {
     "iopub.execute_input": "2023-12-14T17:08:34.478868Z",
     "iopub.status.busy": "2023-12-14T17:08:34.478768Z",
     "iopub.status.idle": "2023-12-14T17:08:34.482669Z",
     "shell.execute_reply": "2023-12-14T17:08:34.482383Z"
    },
    "id": "1ab8d934",
    "outputId": "baacfd4c-3d13-4cab-afd2-b71708be08d9"
   },
   "outputs": [
    {
     "data": {
      "text/html": [
       "<style>#sk-container-id-1 {color: black;background-color: white;}#sk-container-id-1 pre{padding: 0;}#sk-container-id-1 div.sk-toggleable {background-color: white;}#sk-container-id-1 label.sk-toggleable__label {cursor: pointer;display: block;width: 100%;margin-bottom: 0;padding: 0.3em;box-sizing: border-box;text-align: center;}#sk-container-id-1 label.sk-toggleable__label-arrow:before {content: \"▸\";float: left;margin-right: 0.25em;color: #696969;}#sk-container-id-1 label.sk-toggleable__label-arrow:hover:before {color: black;}#sk-container-id-1 div.sk-estimator:hover label.sk-toggleable__label-arrow:before {color: black;}#sk-container-id-1 div.sk-toggleable__content {max-height: 0;max-width: 0;overflow: hidden;text-align: left;background-color: #f0f8ff;}#sk-container-id-1 div.sk-toggleable__content pre {margin: 0.2em;color: black;border-radius: 0.25em;background-color: #f0f8ff;}#sk-container-id-1 input.sk-toggleable__control:checked~div.sk-toggleable__content {max-height: 200px;max-width: 100%;overflow: auto;}#sk-container-id-1 input.sk-toggleable__control:checked~label.sk-toggleable__label-arrow:before {content: \"▾\";}#sk-container-id-1 div.sk-estimator input.sk-toggleable__control:checked~label.sk-toggleable__label {background-color: #d4ebff;}#sk-container-id-1 div.sk-label input.sk-toggleable__control:checked~label.sk-toggleable__label {background-color: #d4ebff;}#sk-container-id-1 input.sk-hidden--visually {border: 0;clip: rect(1px 1px 1px 1px);clip: rect(1px, 1px, 1px, 1px);height: 1px;margin: -1px;overflow: hidden;padding: 0;position: absolute;width: 1px;}#sk-container-id-1 div.sk-estimator {font-family: monospace;background-color: #f0f8ff;border: 1px dotted black;border-radius: 0.25em;box-sizing: border-box;margin-bottom: 0.5em;}#sk-container-id-1 div.sk-estimator:hover {background-color: #d4ebff;}#sk-container-id-1 div.sk-parallel-item::after {content: \"\";width: 100%;border-bottom: 1px solid gray;flex-grow: 1;}#sk-container-id-1 div.sk-label:hover label.sk-toggleable__label {background-color: #d4ebff;}#sk-container-id-1 div.sk-serial::before {content: \"\";position: absolute;border-left: 1px solid gray;box-sizing: border-box;top: 0;bottom: 0;left: 50%;z-index: 0;}#sk-container-id-1 div.sk-serial {display: flex;flex-direction: column;align-items: center;background-color: white;padding-right: 0.2em;padding-left: 0.2em;position: relative;}#sk-container-id-1 div.sk-item {position: relative;z-index: 1;}#sk-container-id-1 div.sk-parallel {display: flex;align-items: stretch;justify-content: center;background-color: white;position: relative;}#sk-container-id-1 div.sk-item::before, #sk-container-id-1 div.sk-parallel-item::before {content: \"\";position: absolute;border-left: 1px solid gray;box-sizing: border-box;top: 0;bottom: 0;left: 50%;z-index: -1;}#sk-container-id-1 div.sk-parallel-item {display: flex;flex-direction: column;z-index: 1;position: relative;background-color: white;}#sk-container-id-1 div.sk-parallel-item:first-child::after {align-self: flex-end;width: 50%;}#sk-container-id-1 div.sk-parallel-item:last-child::after {align-self: flex-start;width: 50%;}#sk-container-id-1 div.sk-parallel-item:only-child::after {width: 0;}#sk-container-id-1 div.sk-dashed-wrapped {border: 1px dashed gray;margin: 0 0.4em 0.5em 0.4em;box-sizing: border-box;padding-bottom: 0.4em;background-color: white;}#sk-container-id-1 div.sk-label label {font-family: monospace;font-weight: bold;display: inline-block;line-height: 1.2em;}#sk-container-id-1 div.sk-label-container {text-align: center;}#sk-container-id-1 div.sk-container {/* jupyter's `normalize.less` sets `[hidden] { display: none; }` but bootstrap.min.css set `[hidden] { display: none !important; }` so we also need the `!important` here to be able to override the default hidden behavior on the sphinx rendered scikit-learn.org. See: https://github.com/scikit-learn/scikit-learn/issues/21755 */display: inline-block !important;position: relative;}#sk-container-id-1 div.sk-text-repr-fallback {display: none;}</style><div id=\"sk-container-id-1\" class=\"sk-top-container\"><div class=\"sk-text-repr-fallback\"><pre>LinearRegression()</pre><b>In a Jupyter environment, please rerun this cell to show the HTML representation or trust the notebook. <br />On GitHub, the HTML representation is unable to render, please try loading this page with nbviewer.org.</b></div><div class=\"sk-container\" hidden><div class=\"sk-item\"><div class=\"sk-estimator sk-toggleable\"><input class=\"sk-toggleable__control sk-hidden--visually\" id=\"sk-estimator-id-1\" type=\"checkbox\" checked><label for=\"sk-estimator-id-1\" class=\"sk-toggleable__label sk-toggleable__label-arrow\">LinearRegression</label><div class=\"sk-toggleable__content\"><pre>LinearRegression()</pre></div></div></div></div></div>"
      ],
      "text/plain": [
       "LinearRegression()"
      ]
     },
     "execution_count": 6,
     "metadata": {},
     "output_type": "execute_result"
    }
   ],
   "source": [
    "# Initialize and fit a multiple linear regression model\n",
    "mlrModel = LinearRegression()\n",
    "mlrModel.fit(X,y)"
   ]
  },
  {
   "cell_type": "code",
   "execution_count": 7,
   "id": "6dd6e9e5",
   "metadata": {
    "execution": {
     "iopub.execute_input": "2023-12-14T17:08:34.484154Z",
     "iopub.status.busy": "2023-12-14T17:08:34.484064Z",
     "iopub.status.idle": "2023-12-14T17:08:34.492827Z",
     "shell.execute_reply": "2023-12-14T17:08:34.492554Z"
    },
    "id": "6dd6e9e5",
    "outputId": "e631c2d5-fb8a-47b8-fac9-6b46ed2b331c"
   },
   "outputs": [
    {
     "name": "stdout",
     "output_type": "stream",
     "text": [
      "MAE: 7.056702874397803\n",
      "MSE: 93.33760482434342\n",
      "RMSE: 9.66113889892612\n",
      "R-squared: 0.10990366178571265\n"
     ]
    }
   ],
   "source": [
    "# Predicted values for the multiple regression model\n",
    "mlrPred = mlrModel.predict(X)\n",
    "\n",
    "# Calculate regression metrics for the multiple regression model\n",
    "print('MAE:', metrics.mean_absolute_error(y, mlrPred))\n",
    "print('MSE:', metrics.mean_squared_error(y, mlrPred))\n",
    "print('RMSE:', metrics.mean_squared_error(y, mlrPred, squared=False))\n",
    "print('R-squared:', metrics.r2_score(y, mlrPred))"
   ]
  },
  {
   "cell_type": "code",
   "execution_count": 9,
   "id": "e2df14f0",
   "metadata": {
    "execution": {
     "iopub.execute_input": "2023-12-14T17:08:34.494146Z",
     "iopub.status.busy": "2023-12-14T17:08:34.494062Z",
     "iopub.status.idle": "2023-12-14T17:08:34.497663Z",
     "shell.execute_reply": "2023-12-14T17:08:34.497409Z"
    },
    "id": "e2df14f0",
    "outputId": "f3bad1a0-b415-4437-e125-7c5bbe855fd5"
   },
   "outputs": [
    {
     "data": {
      "text/html": [
       "<style>#sk-container-id-3 {color: black;background-color: white;}#sk-container-id-3 pre{padding: 0;}#sk-container-id-3 div.sk-toggleable {background-color: white;}#sk-container-id-3 label.sk-toggleable__label {cursor: pointer;display: block;width: 100%;margin-bottom: 0;padding: 0.3em;box-sizing: border-box;text-align: center;}#sk-container-id-3 label.sk-toggleable__label-arrow:before {content: \"▸\";float: left;margin-right: 0.25em;color: #696969;}#sk-container-id-3 label.sk-toggleable__label-arrow:hover:before {color: black;}#sk-container-id-3 div.sk-estimator:hover label.sk-toggleable__label-arrow:before {color: black;}#sk-container-id-3 div.sk-toggleable__content {max-height: 0;max-width: 0;overflow: hidden;text-align: left;background-color: #f0f8ff;}#sk-container-id-3 div.sk-toggleable__content pre {margin: 0.2em;color: black;border-radius: 0.25em;background-color: #f0f8ff;}#sk-container-id-3 input.sk-toggleable__control:checked~div.sk-toggleable__content {max-height: 200px;max-width: 100%;overflow: auto;}#sk-container-id-3 input.sk-toggleable__control:checked~label.sk-toggleable__label-arrow:before {content: \"▾\";}#sk-container-id-3 div.sk-estimator input.sk-toggleable__control:checked~label.sk-toggleable__label {background-color: #d4ebff;}#sk-container-id-3 div.sk-label input.sk-toggleable__control:checked~label.sk-toggleable__label {background-color: #d4ebff;}#sk-container-id-3 input.sk-hidden--visually {border: 0;clip: rect(1px 1px 1px 1px);clip: rect(1px, 1px, 1px, 1px);height: 1px;margin: -1px;overflow: hidden;padding: 0;position: absolute;width: 1px;}#sk-container-id-3 div.sk-estimator {font-family: monospace;background-color: #f0f8ff;border: 1px dotted black;border-radius: 0.25em;box-sizing: border-box;margin-bottom: 0.5em;}#sk-container-id-3 div.sk-estimator:hover {background-color: #d4ebff;}#sk-container-id-3 div.sk-parallel-item::after {content: \"\";width: 100%;border-bottom: 1px solid gray;flex-grow: 1;}#sk-container-id-3 div.sk-label:hover label.sk-toggleable__label {background-color: #d4ebff;}#sk-container-id-3 div.sk-serial::before {content: \"\";position: absolute;border-left: 1px solid gray;box-sizing: border-box;top: 0;bottom: 0;left: 50%;z-index: 0;}#sk-container-id-3 div.sk-serial {display: flex;flex-direction: column;align-items: center;background-color: white;padding-right: 0.2em;padding-left: 0.2em;position: relative;}#sk-container-id-3 div.sk-item {position: relative;z-index: 1;}#sk-container-id-3 div.sk-parallel {display: flex;align-items: stretch;justify-content: center;background-color: white;position: relative;}#sk-container-id-3 div.sk-item::before, #sk-container-id-3 div.sk-parallel-item::before {content: \"\";position: absolute;border-left: 1px solid gray;box-sizing: border-box;top: 0;bottom: 0;left: 50%;z-index: -1;}#sk-container-id-3 div.sk-parallel-item {display: flex;flex-direction: column;z-index: 1;position: relative;background-color: white;}#sk-container-id-3 div.sk-parallel-item:first-child::after {align-self: flex-end;width: 50%;}#sk-container-id-3 div.sk-parallel-item:last-child::after {align-self: flex-start;width: 50%;}#sk-container-id-3 div.sk-parallel-item:only-child::after {width: 0;}#sk-container-id-3 div.sk-dashed-wrapped {border: 1px dashed gray;margin: 0 0.4em 0.5em 0.4em;box-sizing: border-box;padding-bottom: 0.4em;background-color: white;}#sk-container-id-3 div.sk-label label {font-family: monospace;font-weight: bold;display: inline-block;line-height: 1.2em;}#sk-container-id-3 div.sk-label-container {text-align: center;}#sk-container-id-3 div.sk-container {/* jupyter's `normalize.less` sets `[hidden] { display: none; }` but bootstrap.min.css set `[hidden] { display: none !important; }` so we also need the `!important` here to be able to override the default hidden behavior on the sphinx rendered scikit-learn.org. See: https://github.com/scikit-learn/scikit-learn/issues/21755 */display: inline-block !important;position: relative;}#sk-container-id-3 div.sk-text-repr-fallback {display: none;}</style><div id=\"sk-container-id-3\" class=\"sk-top-container\"><div class=\"sk-text-repr-fallback\"><pre>KNeighborsRegressor(n_neighbors=7)</pre><b>In a Jupyter environment, please rerun this cell to show the HTML representation or trust the notebook. <br />On GitHub, the HTML representation is unable to render, please try loading this page with nbviewer.org.</b></div><div class=\"sk-container\" hidden><div class=\"sk-item\"><div class=\"sk-estimator sk-toggleable\"><input class=\"sk-toggleable__control sk-hidden--visually\" id=\"sk-estimator-id-3\" type=\"checkbox\" checked><label for=\"sk-estimator-id-3\" class=\"sk-toggleable__label sk-toggleable__label-arrow\">KNeighborsRegressor</label><div class=\"sk-toggleable__content\"><pre>KNeighborsRegressor(n_neighbors=7)</pre></div></div></div></div></div>"
      ],
      "text/plain": [
       "KNeighborsRegressor(n_neighbors=7)"
      ]
     },
     "execution_count": 9,
     "metadata": {},
     "output_type": "execute_result"
    }
   ],
   "source": [
    "# Scale the input features\n",
    "scaler = StandardScaler()\n",
    "Xscaled = scaler.fit_transform(X)\n",
    "\n",
    "# Initialize and fit a k-nearest neighbors regression model with k=7 neighbors\n",
    "knnModel = KNeighborsRegressor(n_neighbors=7)\n",
    "knnModel.fit(Xscaled,y)\n",
    "\n",
    "# NOTE:\n",
    "# The k-nearest neighbors regression model with k=5 \n",
    "# performs better compared to the model with \n",
    " based on the regression metrics \n",
    " and \n",
    ". "
   ]
  },
  {
   "cell_type": "code",
   "execution_count": 9,
   "id": "82c9ef7f",
   "metadata": {
    "execution": {
     "iopub.execute_input": "2023-12-14T17:08:34.499000Z",
     "iopub.status.busy": "2023-12-14T17:08:34.498910Z",
     "iopub.status.idle": "2023-12-14T17:08:34.504082Z",
     "shell.execute_reply": "2023-12-14T17:08:34.503835Z"
    },
    "id": "82c9ef7f",
    "outputId": "5e6303fb-bb1a-465a-e637-1097f61a0c2a"
   },
   "outputs": [
    {
     "name": "stdout",
     "output_type": "stream",
     "text": [
      "MAE: 7.116714285714286\n",
      "MSE: 97.38447057142855\n",
      "RMSE: 9.868357035060525\n",
      "R-squared: 0.0713114953217856\n"
     ]
    }
   ],
   "source": [
    "# Predicted values for the k-nearest neighbors regression model\n",
    "knnPred = knnModel.predict(Xscaled)\n",
    "\n",
    "# Calculate regression metrics for the k-nearest neighbors regression model\n",
    "print('MAE:', metrics.mean_absolute_error(y, knnPred))\n",
    "print('MSE:', metrics.mean_squared_error(y, knnPred))\n",
    "print('RMSE:', metrics.mean_squared_error(y, knnPred, squared=False))\n",
    "print('R-squared:', metrics.r2_score(y, knnPred))"
   ]
  }
 ],
 "metadata": {
  "colab": {
   "provenance": []
  },
  "kernelspec": {
   "display_name": "Python 3 - python3",
   "language": "python3",
   "name": "python3"
  },
  "language_info": {
   "codemirror_mode": {
    "name": "ipython",
    "version": 3
   },
   "file_extension": ".py",
   "mimetype": "text/x-python",
   "name": "python",
   "nbconvert_exporter": "python",
   "pygments_lexer": "ipython3",
   "version": "3.10.9"
  }
 },
 "nbformat": 4,
 "nbformat_minor": 5
}
