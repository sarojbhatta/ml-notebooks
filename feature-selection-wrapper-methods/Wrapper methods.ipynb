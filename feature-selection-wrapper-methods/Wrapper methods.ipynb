{
 "cells": [
  {
   "cell_type": "code",
   "execution_count": 1,
   "id": "be32440c-4603-43a6-85db-0e42cf733ffc",
   "metadata": {
    "execution": {
     "iopub.execute_input": "2023-12-07T19:17:44.655695Z",
     "iopub.status.busy": "2023-12-07T19:17:44.655165Z",
     "iopub.status.idle": "2023-12-07T19:17:45.204049Z",
     "shell.execute_reply": "2023-12-07T19:17:45.203769Z"
    }
   },
   "outputs": [],
   "source": [
    "# Import needed packages\n",
    "import pandas as pd\n",
    "import numpy as np\n",
    "from sklearn.model_selection import train_test_split\n",
    "from sklearn.preprocessing import StandardScaler\n",
    "from sklearn.svm import SVC\n",
    "from sklearn.feature_selection import RFE, RFECV, SequentialFeatureSelector\n",
    "from sklearn.pipeline import Pipeline"
   ]
  },
  {
   "cell_type": "code",
   "execution_count": 2,
   "id": "55c05c74-2a2b-4f39-b235-d412c2e3f22c",
   "metadata": {
    "execution": {
     "iopub.execute_input": "2023-12-07T19:17:45.206136Z",
     "iopub.status.busy": "2023-12-07T19:17:45.205987Z",
     "iopub.status.idle": "2023-12-07T19:17:45.210097Z",
     "shell.execute_reply": "2023-12-07T19:17:45.209849Z"
    }
   },
   "outputs": [],
   "source": [
    "# Load the Wisconsin Breast Cancer Database\n",
    "wbcd = pd.read_csv('WisconsinBreastCancerDatabase.csv')"
   ]
  },
  {
   "cell_type": "code",
   "execution_count": 3,
   "id": "30d085a2-44ef-4a1b-a356-3366752f90eb",
   "metadata": {
    "execution": {
     "iopub.execute_input": "2023-12-07T19:17:45.211517Z",
     "iopub.status.busy": "2023-12-07T19:17:45.211433Z",
     "iopub.status.idle": "2023-12-07T19:17:45.214188Z",
     "shell.execute_reply": "2023-12-07T19:17:45.213809Z"
    }
   },
   "outputs": [],
   "source": [
    "# Select and scale input features, create dataframe for output feature\n",
    "X = wbcd[['Radius mean', 'Texture mean', 'Area mean', 'Smoothness mean', \n",
    "         'Compactness mean', 'Concavity mean', 'Concave points mean', \n",
    "          'Fractal dimension mean', 'Symmetry mean']]\n",
    "y = wbcd[['Diagnosis']]"
   ]
  },
  {
   "cell_type": "code",
   "execution_count": 4,
   "id": "d59114b0-742b-4250-837d-03e4bd79c088",
   "metadata": {
    "execution": {
     "iopub.execute_input": "2023-12-07T19:17:45.215722Z",
     "iopub.status.busy": "2023-12-07T19:17:45.215639Z",
     "iopub.status.idle": "2023-12-07T19:17:45.218626Z",
     "shell.execute_reply": "2023-12-07T19:17:45.218298Z"
    }
   },
   "outputs": [],
   "source": [
    "# Split the data into train and test sets\n",
    "X_train, X_test, y_train, y_test = train_test_split(X, y, test_size=0.2, random_state=123)"
   ]
  },
  {
   "cell_type": "code",
   "execution_count": 5,
   "id": "d1b8cbea-ebe5-4b78-b1d4-9af6ae621d96",
   "metadata": {
    "execution": {
     "iopub.execute_input": "2023-12-07T19:17:45.220323Z",
     "iopub.status.busy": "2023-12-07T19:17:45.220207Z",
     "iopub.status.idle": "2023-12-07T19:17:45.221906Z",
     "shell.execute_reply": "2023-12-07T19:17:45.221622Z"
    }
   },
   "outputs": [],
   "source": [
    "# Construct a scaler\n",
    "scaler = StandardScaler()"
   ]
  },
  {
   "cell_type": "code",
   "execution_count": 6,
   "id": "052d138b-35ef-4880-8ed8-855fc42832c3",
   "metadata": {
    "execution": {
     "iopub.execute_input": "2023-12-07T19:17:45.223477Z",
     "iopub.status.busy": "2023-12-07T19:17:45.223369Z",
     "iopub.status.idle": "2023-12-07T19:17:45.225339Z",
     "shell.execute_reply": "2023-12-07T19:17:45.225009Z"
    }
   },
   "outputs": [],
   "source": [
    "# Construct an estimator\n",
    "estimator = SVC(kernel='linear')"
   ]
  },
  {
   "cell_type": "code",
   "execution_count": 7,
   "id": "d21c94ea-4b3a-4d85-918b-40df1fc7807e",
   "metadata": {
    "execution": {
     "iopub.execute_input": "2023-12-07T19:17:45.227083Z",
     "iopub.status.busy": "2023-12-07T19:17:45.226944Z",
     "iopub.status.idle": "2023-12-07T19:17:45.228650Z",
     "shell.execute_reply": "2023-12-07T19:17:45.228423Z"
    }
   },
   "outputs": [],
   "source": [
    "# Construct a recursive feature eliminator\n",
    "rfe = RFE(estimator, n_features_to_select=5, step=1)"
   ]
  },
  {
   "cell_type": "code",
   "execution_count": 8,
   "id": "5c29741a-82b3-44ca-9e81-1f6e896f8354",
   "metadata": {
    "execution": {
     "iopub.execute_input": "2023-12-07T19:17:45.230091Z",
     "iopub.status.busy": "2023-12-07T19:17:45.229992Z",
     "iopub.status.idle": "2023-12-07T19:17:45.231708Z",
     "shell.execute_reply": "2023-12-07T19:17:45.231436Z"
    }
   },
   "outputs": [],
   "source": [
    "# Construct a pipeline that scales the data and performs RFE\n",
    "pipe_rfe = Pipeline(steps=[('scaler',scaler),('rfe',rfe)])"
   ]
  },
  {
   "cell_type": "code",
   "execution_count": 9,
   "id": "67238c8f-27b7-4798-a166-740f81b9ba13",
   "metadata": {
    "execution": {
     "iopub.execute_input": "2023-12-07T19:17:45.233122Z",
     "iopub.status.busy": "2023-12-07T19:17:45.233027Z",
     "iopub.status.idle": "2023-12-07T19:17:45.245265Z",
     "shell.execute_reply": "2023-12-07T19:17:45.244992Z"
    }
   },
   "outputs": [
    {
     "data": {
      "text/html": [
       "<style>#sk-container-id-1 {color: black;background-color: white;}#sk-container-id-1 pre{padding: 0;}#sk-container-id-1 div.sk-toggleable {background-color: white;}#sk-container-id-1 label.sk-toggleable__label {cursor: pointer;display: block;width: 100%;margin-bottom: 0;padding: 0.3em;box-sizing: border-box;text-align: center;}#sk-container-id-1 label.sk-toggleable__label-arrow:before {content: \"▸\";float: left;margin-right: 0.25em;color: #696969;}#sk-container-id-1 label.sk-toggleable__label-arrow:hover:before {color: black;}#sk-container-id-1 div.sk-estimator:hover label.sk-toggleable__label-arrow:before {color: black;}#sk-container-id-1 div.sk-toggleable__content {max-height: 0;max-width: 0;overflow: hidden;text-align: left;background-color: #f0f8ff;}#sk-container-id-1 div.sk-toggleable__content pre {margin: 0.2em;color: black;border-radius: 0.25em;background-color: #f0f8ff;}#sk-container-id-1 input.sk-toggleable__control:checked~div.sk-toggleable__content {max-height: 200px;max-width: 100%;overflow: auto;}#sk-container-id-1 input.sk-toggleable__control:checked~label.sk-toggleable__label-arrow:before {content: \"▾\";}#sk-container-id-1 div.sk-estimator input.sk-toggleable__control:checked~label.sk-toggleable__label {background-color: #d4ebff;}#sk-container-id-1 div.sk-label input.sk-toggleable__control:checked~label.sk-toggleable__label {background-color: #d4ebff;}#sk-container-id-1 input.sk-hidden--visually {border: 0;clip: rect(1px 1px 1px 1px);clip: rect(1px, 1px, 1px, 1px);height: 1px;margin: -1px;overflow: hidden;padding: 0;position: absolute;width: 1px;}#sk-container-id-1 div.sk-estimator {font-family: monospace;background-color: #f0f8ff;border: 1px dotted black;border-radius: 0.25em;box-sizing: border-box;margin-bottom: 0.5em;}#sk-container-id-1 div.sk-estimator:hover {background-color: #d4ebff;}#sk-container-id-1 div.sk-parallel-item::after {content: \"\";width: 100%;border-bottom: 1px solid gray;flex-grow: 1;}#sk-container-id-1 div.sk-label:hover label.sk-toggleable__label {background-color: #d4ebff;}#sk-container-id-1 div.sk-serial::before {content: \"\";position: absolute;border-left: 1px solid gray;box-sizing: border-box;top: 0;bottom: 0;left: 50%;z-index: 0;}#sk-container-id-1 div.sk-serial {display: flex;flex-direction: column;align-items: center;background-color: white;padding-right: 0.2em;padding-left: 0.2em;position: relative;}#sk-container-id-1 div.sk-item {position: relative;z-index: 1;}#sk-container-id-1 div.sk-parallel {display: flex;align-items: stretch;justify-content: center;background-color: white;position: relative;}#sk-container-id-1 div.sk-item::before, #sk-container-id-1 div.sk-parallel-item::before {content: \"\";position: absolute;border-left: 1px solid gray;box-sizing: border-box;top: 0;bottom: 0;left: 50%;z-index: -1;}#sk-container-id-1 div.sk-parallel-item {display: flex;flex-direction: column;z-index: 1;position: relative;background-color: white;}#sk-container-id-1 div.sk-parallel-item:first-child::after {align-self: flex-end;width: 50%;}#sk-container-id-1 div.sk-parallel-item:last-child::after {align-self: flex-start;width: 50%;}#sk-container-id-1 div.sk-parallel-item:only-child::after {width: 0;}#sk-container-id-1 div.sk-dashed-wrapped {border: 1px dashed gray;margin: 0 0.4em 0.5em 0.4em;box-sizing: border-box;padding-bottom: 0.4em;background-color: white;}#sk-container-id-1 div.sk-label label {font-family: monospace;font-weight: bold;display: inline-block;line-height: 1.2em;}#sk-container-id-1 div.sk-label-container {text-align: center;}#sk-container-id-1 div.sk-container {/* jupyter's `normalize.less` sets `[hidden] { display: none; }` but bootstrap.min.css set `[hidden] { display: none !important; }` so we also need the `!important` here to be able to override the default hidden behavior on the sphinx rendered scikit-learn.org. See: https://github.com/scikit-learn/scikit-learn/issues/21755 */display: inline-block !important;position: relative;}#sk-container-id-1 div.sk-text-repr-fallback {display: none;}</style><div id=\"sk-container-id-1\" class=\"sk-top-container\"><div class=\"sk-text-repr-fallback\"><pre>Pipeline(steps=[(&#x27;scaler&#x27;, StandardScaler()),\n",
       "                (&#x27;rfe&#x27;,\n",
       "                 RFE(estimator=SVC(kernel=&#x27;linear&#x27;), n_features_to_select=5))])</pre><b>In a Jupyter environment, please rerun this cell to show the HTML representation or trust the notebook. <br />On GitHub, the HTML representation is unable to render, please try loading this page with nbviewer.org.</b></div><div class=\"sk-container\" hidden><div class=\"sk-item sk-dashed-wrapped\"><div class=\"sk-label-container\"><div class=\"sk-label sk-toggleable\"><input class=\"sk-toggleable__control sk-hidden--visually\" id=\"sk-estimator-id-1\" type=\"checkbox\" ><label for=\"sk-estimator-id-1\" class=\"sk-toggleable__label sk-toggleable__label-arrow\">Pipeline</label><div class=\"sk-toggleable__content\"><pre>Pipeline(steps=[(&#x27;scaler&#x27;, StandardScaler()),\n",
       "                (&#x27;rfe&#x27;,\n",
       "                 RFE(estimator=SVC(kernel=&#x27;linear&#x27;), n_features_to_select=5))])</pre></div></div></div><div class=\"sk-serial\"><div class=\"sk-item\"><div class=\"sk-estimator sk-toggleable\"><input class=\"sk-toggleable__control sk-hidden--visually\" id=\"sk-estimator-id-2\" type=\"checkbox\" ><label for=\"sk-estimator-id-2\" class=\"sk-toggleable__label sk-toggleable__label-arrow\">StandardScaler</label><div class=\"sk-toggleable__content\"><pre>StandardScaler()</pre></div></div></div><div class=\"sk-item sk-dashed-wrapped\"><div class=\"sk-label-container\"><div class=\"sk-label sk-toggleable\"><input class=\"sk-toggleable__control sk-hidden--visually\" id=\"sk-estimator-id-3\" type=\"checkbox\" ><label for=\"sk-estimator-id-3\" class=\"sk-toggleable__label sk-toggleable__label-arrow\">rfe: RFE</label><div class=\"sk-toggleable__content\"><pre>RFE(estimator=SVC(kernel=&#x27;linear&#x27;), n_features_to_select=5)</pre></div></div></div><div class=\"sk-parallel\"><div class=\"sk-parallel-item\"><div class=\"sk-item\"><div class=\"sk-label-container\"><div class=\"sk-label sk-toggleable\"><input class=\"sk-toggleable__control sk-hidden--visually\" id=\"sk-estimator-id-4\" type=\"checkbox\" ><label for=\"sk-estimator-id-4\" class=\"sk-toggleable__label sk-toggleable__label-arrow\">estimator: SVC</label><div class=\"sk-toggleable__content\"><pre>SVC(kernel=&#x27;linear&#x27;)</pre></div></div></div><div class=\"sk-serial\"><div class=\"sk-item\"><div class=\"sk-estimator sk-toggleable\"><input class=\"sk-toggleable__control sk-hidden--visually\" id=\"sk-estimator-id-5\" type=\"checkbox\" ><label for=\"sk-estimator-id-5\" class=\"sk-toggleable__label sk-toggleable__label-arrow\">SVC</label><div class=\"sk-toggleable__content\"><pre>SVC(kernel=&#x27;linear&#x27;)</pre></div></div></div></div></div></div></div></div></div></div></div></div>"
      ],
      "text/plain": [
       "Pipeline(steps=[('scaler', StandardScaler()),\n",
       "                ('rfe',\n",
       "                 RFE(estimator=SVC(kernel='linear'), n_features_to_select=5))])"
      ]
     },
     "execution_count": 9,
     "metadata": {},
     "output_type": "execute_result"
    }
   ],
   "source": [
    "# Fit the model at the end of the pipeline using the training set\n",
    "pipe_rfe.fit(X_train, np.ravel(y_train))"
   ]
  },
  {
   "cell_type": "code",
   "execution_count": 10,
   "id": "cd76496b-b601-4ddc-96df-1546de19c414",
   "metadata": {
    "execution": {
     "iopub.execute_input": "2023-12-07T19:17:45.246740Z",
     "iopub.status.busy": "2023-12-07T19:17:45.246662Z",
     "iopub.status.idle": "2023-12-07T19:17:45.248967Z",
     "shell.execute_reply": "2023-12-07T19:17:45.248718Z"
    }
   },
   "outputs": [
    {
     "data": {
      "text/plain": [
       "Index(['Radius mean', 'Texture mean', 'Area mean', 'Concave points mean',\n",
       "       'Symmetry mean'],\n",
       "      dtype='object')"
      ]
     },
     "execution_count": 10,
     "metadata": {},
     "output_type": "execute_result"
    }
   ],
   "source": [
    "# Display the selected features\n",
    "X.columns[pipe_rfe['rfe'].support_]"
   ]
  },
  {
   "cell_type": "code",
   "execution_count": 11,
   "id": "978986e1-58a3-4083-ad00-217a3bb7e7c0",
   "metadata": {
    "execution": {
     "iopub.execute_input": "2023-12-07T19:17:45.250344Z",
     "iopub.status.busy": "2023-12-07T19:17:45.250273Z",
     "iopub.status.idle": "2023-12-07T19:17:45.253361Z",
     "shell.execute_reply": "2023-12-07T19:17:45.253113Z"
    }
   },
   "outputs": [
    {
     "data": {
      "text/plain": [
       "0.9385964912280702"
      ]
     },
     "execution_count": 11,
     "metadata": {},
     "output_type": "execute_result"
    }
   ],
   "source": [
    "# Display classification score\n",
    "pipe_rfe.score(X_test, y_test)"
   ]
  },
  {
   "cell_type": "code",
   "execution_count": 12,
   "id": "0c10bbfa",
   "metadata": {
    "execution": {
     "iopub.execute_input": "2023-12-07T19:17:45.254720Z",
     "iopub.status.busy": "2023-12-07T19:17:45.254639Z",
     "iopub.status.idle": "2023-12-07T19:17:45.256434Z",
     "shell.execute_reply": "2023-12-07T19:17:45.256150Z"
    }
   },
   "outputs": [],
   "source": [
    "# Construct a recursive feature eliminator with cross-validation\n",
    "rfecv = RFECV(estimator, cv=4, step=1)"
   ]
  },
  {
   "cell_type": "code",
   "execution_count": 13,
   "id": "82a9c136",
   "metadata": {
    "execution": {
     "iopub.execute_input": "2023-12-07T19:17:45.258001Z",
     "iopub.status.busy": "2023-12-07T19:17:45.257917Z",
     "iopub.status.idle": "2023-12-07T19:17:45.259696Z",
     "shell.execute_reply": "2023-12-07T19:17:45.259468Z"
    }
   },
   "outputs": [],
   "source": [
    "# Construct a pipeline that scales the data and performs RFECV\n",
    "pipe_rfecv = Pipeline(steps=[('scaler',scaler),('rfecv',rfecv)])"
   ]
  },
  {
   "cell_type": "code",
   "execution_count": 14,
   "id": "8bb26da1",
   "metadata": {
    "execution": {
     "iopub.execute_input": "2023-12-07T19:17:45.260977Z",
     "iopub.status.busy": "2023-12-07T19:17:45.260901Z",
     "iopub.status.idle": "2023-12-07T19:17:45.304975Z",
     "shell.execute_reply": "2023-12-07T19:17:45.304657Z"
    }
   },
   "outputs": [
    {
     "data": {
      "text/html": [
       "<style>#sk-container-id-2 {color: black;background-color: white;}#sk-container-id-2 pre{padding: 0;}#sk-container-id-2 div.sk-toggleable {background-color: white;}#sk-container-id-2 label.sk-toggleable__label {cursor: pointer;display: block;width: 100%;margin-bottom: 0;padding: 0.3em;box-sizing: border-box;text-align: center;}#sk-container-id-2 label.sk-toggleable__label-arrow:before {content: \"▸\";float: left;margin-right: 0.25em;color: #696969;}#sk-container-id-2 label.sk-toggleable__label-arrow:hover:before {color: black;}#sk-container-id-2 div.sk-estimator:hover label.sk-toggleable__label-arrow:before {color: black;}#sk-container-id-2 div.sk-toggleable__content {max-height: 0;max-width: 0;overflow: hidden;text-align: left;background-color: #f0f8ff;}#sk-container-id-2 div.sk-toggleable__content pre {margin: 0.2em;color: black;border-radius: 0.25em;background-color: #f0f8ff;}#sk-container-id-2 input.sk-toggleable__control:checked~div.sk-toggleable__content {max-height: 200px;max-width: 100%;overflow: auto;}#sk-container-id-2 input.sk-toggleable__control:checked~label.sk-toggleable__label-arrow:before {content: \"▾\";}#sk-container-id-2 div.sk-estimator input.sk-toggleable__control:checked~label.sk-toggleable__label {background-color: #d4ebff;}#sk-container-id-2 div.sk-label input.sk-toggleable__control:checked~label.sk-toggleable__label {background-color: #d4ebff;}#sk-container-id-2 input.sk-hidden--visually {border: 0;clip: rect(1px 1px 1px 1px);clip: rect(1px, 1px, 1px, 1px);height: 1px;margin: -1px;overflow: hidden;padding: 0;position: absolute;width: 1px;}#sk-container-id-2 div.sk-estimator {font-family: monospace;background-color: #f0f8ff;border: 1px dotted black;border-radius: 0.25em;box-sizing: border-box;margin-bottom: 0.5em;}#sk-container-id-2 div.sk-estimator:hover {background-color: #d4ebff;}#sk-container-id-2 div.sk-parallel-item::after {content: \"\";width: 100%;border-bottom: 1px solid gray;flex-grow: 1;}#sk-container-id-2 div.sk-label:hover label.sk-toggleable__label {background-color: #d4ebff;}#sk-container-id-2 div.sk-serial::before {content: \"\";position: absolute;border-left: 1px solid gray;box-sizing: border-box;top: 0;bottom: 0;left: 50%;z-index: 0;}#sk-container-id-2 div.sk-serial {display: flex;flex-direction: column;align-items: center;background-color: white;padding-right: 0.2em;padding-left: 0.2em;position: relative;}#sk-container-id-2 div.sk-item {position: relative;z-index: 1;}#sk-container-id-2 div.sk-parallel {display: flex;align-items: stretch;justify-content: center;background-color: white;position: relative;}#sk-container-id-2 div.sk-item::before, #sk-container-id-2 div.sk-parallel-item::before {content: \"\";position: absolute;border-left: 1px solid gray;box-sizing: border-box;top: 0;bottom: 0;left: 50%;z-index: -1;}#sk-container-id-2 div.sk-parallel-item {display: flex;flex-direction: column;z-index: 1;position: relative;background-color: white;}#sk-container-id-2 div.sk-parallel-item:first-child::after {align-self: flex-end;width: 50%;}#sk-container-id-2 div.sk-parallel-item:last-child::after {align-self: flex-start;width: 50%;}#sk-container-id-2 div.sk-parallel-item:only-child::after {width: 0;}#sk-container-id-2 div.sk-dashed-wrapped {border: 1px dashed gray;margin: 0 0.4em 0.5em 0.4em;box-sizing: border-box;padding-bottom: 0.4em;background-color: white;}#sk-container-id-2 div.sk-label label {font-family: monospace;font-weight: bold;display: inline-block;line-height: 1.2em;}#sk-container-id-2 div.sk-label-container {text-align: center;}#sk-container-id-2 div.sk-container {/* jupyter's `normalize.less` sets `[hidden] { display: none; }` but bootstrap.min.css set `[hidden] { display: none !important; }` so we also need the `!important` here to be able to override the default hidden behavior on the sphinx rendered scikit-learn.org. See: https://github.com/scikit-learn/scikit-learn/issues/21755 */display: inline-block !important;position: relative;}#sk-container-id-2 div.sk-text-repr-fallback {display: none;}</style><div id=\"sk-container-id-2\" class=\"sk-top-container\"><div class=\"sk-text-repr-fallback\"><pre>Pipeline(steps=[(&#x27;scaler&#x27;, StandardScaler()),\n",
       "                (&#x27;rfecv&#x27;, RFECV(cv=4, estimator=SVC(kernel=&#x27;linear&#x27;)))])</pre><b>In a Jupyter environment, please rerun this cell to show the HTML representation or trust the notebook. <br />On GitHub, the HTML representation is unable to render, please try loading this page with nbviewer.org.</b></div><div class=\"sk-container\" hidden><div class=\"sk-item sk-dashed-wrapped\"><div class=\"sk-label-container\"><div class=\"sk-label sk-toggleable\"><input class=\"sk-toggleable__control sk-hidden--visually\" id=\"sk-estimator-id-6\" type=\"checkbox\" ><label for=\"sk-estimator-id-6\" class=\"sk-toggleable__label sk-toggleable__label-arrow\">Pipeline</label><div class=\"sk-toggleable__content\"><pre>Pipeline(steps=[(&#x27;scaler&#x27;, StandardScaler()),\n",
       "                (&#x27;rfecv&#x27;, RFECV(cv=4, estimator=SVC(kernel=&#x27;linear&#x27;)))])</pre></div></div></div><div class=\"sk-serial\"><div class=\"sk-item\"><div class=\"sk-estimator sk-toggleable\"><input class=\"sk-toggleable__control sk-hidden--visually\" id=\"sk-estimator-id-7\" type=\"checkbox\" ><label for=\"sk-estimator-id-7\" class=\"sk-toggleable__label sk-toggleable__label-arrow\">StandardScaler</label><div class=\"sk-toggleable__content\"><pre>StandardScaler()</pre></div></div></div><div class=\"sk-item sk-dashed-wrapped\"><div class=\"sk-label-container\"><div class=\"sk-label sk-toggleable\"><input class=\"sk-toggleable__control sk-hidden--visually\" id=\"sk-estimator-id-8\" type=\"checkbox\" ><label for=\"sk-estimator-id-8\" class=\"sk-toggleable__label sk-toggleable__label-arrow\">rfecv: RFECV</label><div class=\"sk-toggleable__content\"><pre>RFECV(cv=4, estimator=SVC(kernel=&#x27;linear&#x27;))</pre></div></div></div><div class=\"sk-parallel\"><div class=\"sk-parallel-item\"><div class=\"sk-item\"><div class=\"sk-label-container\"><div class=\"sk-label sk-toggleable\"><input class=\"sk-toggleable__control sk-hidden--visually\" id=\"sk-estimator-id-9\" type=\"checkbox\" ><label for=\"sk-estimator-id-9\" class=\"sk-toggleable__label sk-toggleable__label-arrow\">estimator: SVC</label><div class=\"sk-toggleable__content\"><pre>SVC(kernel=&#x27;linear&#x27;)</pre></div></div></div><div class=\"sk-serial\"><div class=\"sk-item\"><div class=\"sk-estimator sk-toggleable\"><input class=\"sk-toggleable__control sk-hidden--visually\" id=\"sk-estimator-id-10\" type=\"checkbox\" ><label for=\"sk-estimator-id-10\" class=\"sk-toggleable__label sk-toggleable__label-arrow\">SVC</label><div class=\"sk-toggleable__content\"><pre>SVC(kernel=&#x27;linear&#x27;)</pre></div></div></div></div></div></div></div></div></div></div></div></div>"
      ],
      "text/plain": [
       "Pipeline(steps=[('scaler', StandardScaler()),\n",
       "                ('rfecv', RFECV(cv=4, estimator=SVC(kernel='linear')))])"
      ]
     },
     "execution_count": 14,
     "metadata": {},
     "output_type": "execute_result"
    }
   ],
   "source": [
    "# Fit the model at the end of the pipeline using the training set\n",
    "pipe_rfecv.fit(X_train, np.ravel(y_train))"
   ]
  },
  {
   "cell_type": "code",
   "execution_count": 15,
   "id": "3683b10e",
   "metadata": {
    "execution": {
     "iopub.execute_input": "2023-12-07T19:17:45.306961Z",
     "iopub.status.busy": "2023-12-07T19:17:45.306798Z",
     "iopub.status.idle": "2023-12-07T19:17:45.310126Z",
     "shell.execute_reply": "2023-12-07T19:17:45.309743Z"
    }
   },
   "outputs": [
    {
     "data": {
      "text/plain": [
       "Index(['Radius mean', 'Texture mean', 'Area mean', 'Smoothness mean',\n",
       "       'Concave points mean', 'Symmetry mean'],\n",
       "      dtype='object')"
      ]
     },
     "execution_count": 15,
     "metadata": {},
     "output_type": "execute_result"
    }
   ],
   "source": [
    "# Display the selected features\n",
    "X.columns[pipe_rfecv['rfecv'].support_]"
   ]
  },
  {
   "cell_type": "code",
   "execution_count": 16,
   "id": "7cdc4129",
   "metadata": {
    "execution": {
     "iopub.execute_input": "2023-12-07T19:17:45.311742Z",
     "iopub.status.busy": "2023-12-07T19:17:45.311644Z",
     "iopub.status.idle": "2023-12-07T19:17:45.314733Z",
     "shell.execute_reply": "2023-12-07T19:17:45.314485Z"
    }
   },
   "outputs": [
    {
     "data": {
      "text/plain": [
       "0.9473684210526315"
      ]
     },
     "execution_count": 16,
     "metadata": {},
     "output_type": "execute_result"
    }
   ],
   "source": [
    "# Display classification score\n",
    "pipe_rfecv.score(X_test, y_test)"
   ]
  },
  {
   "cell_type": "code",
   "execution_count": 17,
   "id": "5934b1cd-a53d-46b8-8d60-13ca4a1e03f1",
   "metadata": {
    "execution": {
     "iopub.execute_input": "2023-12-07T19:17:45.316085Z",
     "iopub.status.busy": "2023-12-07T19:17:45.316010Z",
     "iopub.status.idle": "2023-12-07T19:17:45.317831Z",
     "shell.execute_reply": "2023-12-07T19:17:45.317599Z"
    }
   },
   "outputs": [],
   "source": [
    "# Construct a backward sequential feature selector and an SVC model\n",
    "sfs = SequentialFeatureSelector(estimator, direction='backward', cv=10)\n",
    "model = SVC(kernel='linear')"
   ]
  },
  {
   "cell_type": "code",
   "execution_count": 18,
   "id": "8d09924a-6a2a-4b9c-a3ab-fcf7260e309c",
   "metadata": {
    "execution": {
     "iopub.execute_input": "2023-12-07T19:17:45.319395Z",
     "iopub.status.busy": "2023-12-07T19:17:45.319288Z",
     "iopub.status.idle": "2023-12-07T19:17:45.321347Z",
     "shell.execute_reply": "2023-12-07T19:17:45.321021Z"
    }
   },
   "outputs": [],
   "source": [
    "# Construct a pipeline that scales the data and performs forward SFS\n",
    "pipe_sfs = Pipeline(steps=[('scaler',scaler),('sfs',sfs),('model',model)])"
   ]
  },
  {
   "cell_type": "code",
   "execution_count": 19,
   "id": "c8946665-dc2e-4057-a12b-5e844dd08d6d",
   "metadata": {
    "execution": {
     "iopub.execute_input": "2023-12-07T19:17:45.323148Z",
     "iopub.status.busy": "2023-12-07T19:17:45.323035Z",
     "iopub.status.idle": "2023-12-07T19:17:45.754763Z",
     "shell.execute_reply": "2023-12-07T19:17:45.754457Z"
    }
   },
   "outputs": [
    {
     "name": "stderr",
     "output_type": "stream",
     "text": [
      "/nix/store/msas3yllgpa9cv1srn6gxry7ygra9hwm-python3-3.10.9-env/lib/python3.10/site-packages/sklearn/feature_selection/_sequential.py:206: FutureWarning: Leaving `n_features_to_select` to None is deprecated in 1.0 and will become 'auto' in 1.3. To keep the same behaviour as with None (i.e. select half of the features) and avoid this warning, you should manually set `n_features_to_select='auto'` and set tol=None when creating an instance.\n",
      "  warnings.warn(\n"
     ]
    },
    {
     "data": {
      "text/html": [
       "<style>#sk-container-id-3 {color: black;background-color: white;}#sk-container-id-3 pre{padding: 0;}#sk-container-id-3 div.sk-toggleable {background-color: white;}#sk-container-id-3 label.sk-toggleable__label {cursor: pointer;display: block;width: 100%;margin-bottom: 0;padding: 0.3em;box-sizing: border-box;text-align: center;}#sk-container-id-3 label.sk-toggleable__label-arrow:before {content: \"▸\";float: left;margin-right: 0.25em;color: #696969;}#sk-container-id-3 label.sk-toggleable__label-arrow:hover:before {color: black;}#sk-container-id-3 div.sk-estimator:hover label.sk-toggleable__label-arrow:before {color: black;}#sk-container-id-3 div.sk-toggleable__content {max-height: 0;max-width: 0;overflow: hidden;text-align: left;background-color: #f0f8ff;}#sk-container-id-3 div.sk-toggleable__content pre {margin: 0.2em;color: black;border-radius: 0.25em;background-color: #f0f8ff;}#sk-container-id-3 input.sk-toggleable__control:checked~div.sk-toggleable__content {max-height: 200px;max-width: 100%;overflow: auto;}#sk-container-id-3 input.sk-toggleable__control:checked~label.sk-toggleable__label-arrow:before {content: \"▾\";}#sk-container-id-3 div.sk-estimator input.sk-toggleable__control:checked~label.sk-toggleable__label {background-color: #d4ebff;}#sk-container-id-3 div.sk-label input.sk-toggleable__control:checked~label.sk-toggleable__label {background-color: #d4ebff;}#sk-container-id-3 input.sk-hidden--visually {border: 0;clip: rect(1px 1px 1px 1px);clip: rect(1px, 1px, 1px, 1px);height: 1px;margin: -1px;overflow: hidden;padding: 0;position: absolute;width: 1px;}#sk-container-id-3 div.sk-estimator {font-family: monospace;background-color: #f0f8ff;border: 1px dotted black;border-radius: 0.25em;box-sizing: border-box;margin-bottom: 0.5em;}#sk-container-id-3 div.sk-estimator:hover {background-color: #d4ebff;}#sk-container-id-3 div.sk-parallel-item::after {content: \"\";width: 100%;border-bottom: 1px solid gray;flex-grow: 1;}#sk-container-id-3 div.sk-label:hover label.sk-toggleable__label {background-color: #d4ebff;}#sk-container-id-3 div.sk-serial::before {content: \"\";position: absolute;border-left: 1px solid gray;box-sizing: border-box;top: 0;bottom: 0;left: 50%;z-index: 0;}#sk-container-id-3 div.sk-serial {display: flex;flex-direction: column;align-items: center;background-color: white;padding-right: 0.2em;padding-left: 0.2em;position: relative;}#sk-container-id-3 div.sk-item {position: relative;z-index: 1;}#sk-container-id-3 div.sk-parallel {display: flex;align-items: stretch;justify-content: center;background-color: white;position: relative;}#sk-container-id-3 div.sk-item::before, #sk-container-id-3 div.sk-parallel-item::before {content: \"\";position: absolute;border-left: 1px solid gray;box-sizing: border-box;top: 0;bottom: 0;left: 50%;z-index: -1;}#sk-container-id-3 div.sk-parallel-item {display: flex;flex-direction: column;z-index: 1;position: relative;background-color: white;}#sk-container-id-3 div.sk-parallel-item:first-child::after {align-self: flex-end;width: 50%;}#sk-container-id-3 div.sk-parallel-item:last-child::after {align-self: flex-start;width: 50%;}#sk-container-id-3 div.sk-parallel-item:only-child::after {width: 0;}#sk-container-id-3 div.sk-dashed-wrapped {border: 1px dashed gray;margin: 0 0.4em 0.5em 0.4em;box-sizing: border-box;padding-bottom: 0.4em;background-color: white;}#sk-container-id-3 div.sk-label label {font-family: monospace;font-weight: bold;display: inline-block;line-height: 1.2em;}#sk-container-id-3 div.sk-label-container {text-align: center;}#sk-container-id-3 div.sk-container {/* jupyter's `normalize.less` sets `[hidden] { display: none; }` but bootstrap.min.css set `[hidden] { display: none !important; }` so we also need the `!important` here to be able to override the default hidden behavior on the sphinx rendered scikit-learn.org. See: https://github.com/scikit-learn/scikit-learn/issues/21755 */display: inline-block !important;position: relative;}#sk-container-id-3 div.sk-text-repr-fallback {display: none;}</style><div id=\"sk-container-id-3\" class=\"sk-top-container\"><div class=\"sk-text-repr-fallback\"><pre>Pipeline(steps=[(&#x27;scaler&#x27;, StandardScaler()),\n",
       "                (&#x27;sfs&#x27;,\n",
       "                 SequentialFeatureSelector(cv=10, direction=&#x27;backward&#x27;,\n",
       "                                           estimator=SVC(kernel=&#x27;linear&#x27;))),\n",
       "                (&#x27;model&#x27;, SVC(kernel=&#x27;linear&#x27;))])</pre><b>In a Jupyter environment, please rerun this cell to show the HTML representation or trust the notebook. <br />On GitHub, the HTML representation is unable to render, please try loading this page with nbviewer.org.</b></div><div class=\"sk-container\" hidden><div class=\"sk-item sk-dashed-wrapped\"><div class=\"sk-label-container\"><div class=\"sk-label sk-toggleable\"><input class=\"sk-toggleable__control sk-hidden--visually\" id=\"sk-estimator-id-11\" type=\"checkbox\" ><label for=\"sk-estimator-id-11\" class=\"sk-toggleable__label sk-toggleable__label-arrow\">Pipeline</label><div class=\"sk-toggleable__content\"><pre>Pipeline(steps=[(&#x27;scaler&#x27;, StandardScaler()),\n",
       "                (&#x27;sfs&#x27;,\n",
       "                 SequentialFeatureSelector(cv=10, direction=&#x27;backward&#x27;,\n",
       "                                           estimator=SVC(kernel=&#x27;linear&#x27;))),\n",
       "                (&#x27;model&#x27;, SVC(kernel=&#x27;linear&#x27;))])</pre></div></div></div><div class=\"sk-serial\"><div class=\"sk-item\"><div class=\"sk-estimator sk-toggleable\"><input class=\"sk-toggleable__control sk-hidden--visually\" id=\"sk-estimator-id-12\" type=\"checkbox\" ><label for=\"sk-estimator-id-12\" class=\"sk-toggleable__label sk-toggleable__label-arrow\">StandardScaler</label><div class=\"sk-toggleable__content\"><pre>StandardScaler()</pre></div></div></div><div class=\"sk-item sk-dashed-wrapped\"><div class=\"sk-label-container\"><div class=\"sk-label sk-toggleable\"><input class=\"sk-toggleable__control sk-hidden--visually\" id=\"sk-estimator-id-13\" type=\"checkbox\" ><label for=\"sk-estimator-id-13\" class=\"sk-toggleable__label sk-toggleable__label-arrow\">sfs: SequentialFeatureSelector</label><div class=\"sk-toggleable__content\"><pre>SequentialFeatureSelector(cv=10, direction=&#x27;backward&#x27;,\n",
       "                          estimator=SVC(kernel=&#x27;linear&#x27;))</pre></div></div></div><div class=\"sk-parallel\"><div class=\"sk-parallel-item\"><div class=\"sk-item\"><div class=\"sk-label-container\"><div class=\"sk-label sk-toggleable\"><input class=\"sk-toggleable__control sk-hidden--visually\" id=\"sk-estimator-id-14\" type=\"checkbox\" ><label for=\"sk-estimator-id-14\" class=\"sk-toggleable__label sk-toggleable__label-arrow\">estimator: SVC</label><div class=\"sk-toggleable__content\"><pre>SVC(kernel=&#x27;linear&#x27;)</pre></div></div></div><div class=\"sk-serial\"><div class=\"sk-item\"><div class=\"sk-estimator sk-toggleable\"><input class=\"sk-toggleable__control sk-hidden--visually\" id=\"sk-estimator-id-15\" type=\"checkbox\" ><label for=\"sk-estimator-id-15\" class=\"sk-toggleable__label sk-toggleable__label-arrow\">SVC</label><div class=\"sk-toggleable__content\"><pre>SVC(kernel=&#x27;linear&#x27;)</pre></div></div></div></div></div></div></div></div><div class=\"sk-item\"><div class=\"sk-estimator sk-toggleable\"><input class=\"sk-toggleable__control sk-hidden--visually\" id=\"sk-estimator-id-16\" type=\"checkbox\" ><label for=\"sk-estimator-id-16\" class=\"sk-toggleable__label sk-toggleable__label-arrow\">SVC</label><div class=\"sk-toggleable__content\"><pre>SVC(kernel=&#x27;linear&#x27;)</pre></div></div></div></div></div></div></div>"
      ],
      "text/plain": [
       "Pipeline(steps=[('scaler', StandardScaler()),\n",
       "                ('sfs',\n",
       "                 SequentialFeatureSelector(cv=10, direction='backward',\n",
       "                                           estimator=SVC(kernel='linear'))),\n",
       "                ('model', SVC(kernel='linear'))])"
      ]
     },
     "execution_count": 19,
     "metadata": {},
     "output_type": "execute_result"
    }
   ],
   "source": [
    "# Fit the model at the end of the pipeline using the training set\n",
    "pipe_sfs.fit(X_train, np.ravel(y_train))"
   ]
  },
  {
   "cell_type": "code",
   "execution_count": 20,
   "id": "bc35956d-ffbb-42b6-b6a3-dbf26a1faefc",
   "metadata": {
    "execution": {
     "iopub.execute_input": "2023-12-07T19:17:45.756393Z",
     "iopub.status.busy": "2023-12-07T19:17:45.756284Z",
     "iopub.status.idle": "2023-12-07T19:17:45.758543Z",
     "shell.execute_reply": "2023-12-07T19:17:45.758311Z"
    }
   },
   "outputs": [
    {
     "data": {
      "text/plain": [
       "Index(['Texture mean', 'Area mean', 'Smoothness mean', 'Concave points mean'], dtype='object')"
      ]
     },
     "execution_count": 20,
     "metadata": {},
     "output_type": "execute_result"
    }
   ],
   "source": [
    "# Display the selected features\n",
    "X.columns[pipe_sfs['sfs'].support_]"
   ]
  },
  {
   "cell_type": "code",
   "execution_count": 21,
   "id": "fd6276e7-3abd-4b3e-a589-a9c969096efe",
   "metadata": {
    "execution": {
     "iopub.execute_input": "2023-12-07T19:17:45.759979Z",
     "iopub.status.busy": "2023-12-07T19:17:45.759878Z",
     "iopub.status.idle": "2023-12-07T19:17:45.762699Z",
     "shell.execute_reply": "2023-12-07T19:17:45.762466Z"
    }
   },
   "outputs": [
    {
     "data": {
      "text/plain": [
       "0.9649122807017544"
      ]
     },
     "execution_count": 21,
     "metadata": {},
     "output_type": "execute_result"
    }
   ],
   "source": [
    "# Display classification score\n",
    "pipe_sfs.score(X_test, y_test)"
   ]
  }
 ],
 "metadata": {
  "kernelspec": {
   "display_name": "Python 3 - python3",
   "language": "python3",
   "name": "python3"
  },
  "language_info": {
   "codemirror_mode": {
    "name": "ipython",
    "version": 3
   },
   "file_extension": ".py",
   "mimetype": "text/x-python",
   "name": "python",
   "nbconvert_exporter": "python",
   "pygments_lexer": "ipython3",
   "version": "3.10.9"
  }
 },
 "nbformat": 4,
 "nbformat_minor": 5
}
