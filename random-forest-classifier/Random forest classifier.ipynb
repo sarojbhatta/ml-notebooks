{
 "cells": [
  {
   "cell_type": "code",
   "execution_count": 1,
   "id": "155fcc4e",
   "metadata": {
    "execution": {
     "iopub.execute_input": "2023-12-07T19:19:51.230046Z",
     "iopub.status.busy": "2023-12-07T19:19:51.229603Z",
     "iopub.status.idle": "2023-12-07T19:19:52.138523Z",
     "shell.execute_reply": "2023-12-07T19:19:52.138177Z"
    }
   },
   "outputs": [],
   "source": [
    "import numpy as np\n",
    "import pandas as pd\n",
    "import matplotlib.pyplot as plt\n",
    "import seaborn as sns\n",
    "\n",
    "from sklearn.ensemble import RandomForestClassifier\n",
    "from sklearn.preprocessing import LabelBinarizer"
   ]
  },
  {
   "cell_type": "code",
   "execution_count": 2,
   "id": "59715e7a",
   "metadata": {
    "execution": {
     "iopub.execute_input": "2023-12-07T19:19:52.140295Z",
     "iopub.status.busy": "2023-12-07T19:19:52.140163Z",
     "iopub.status.idle": "2023-12-07T19:19:52.273788Z",
     "shell.execute_reply": "2023-12-07T19:19:52.273500Z"
    },
    "scrolled": true
   },
   "outputs": [],
   "source": [
    "airlines = pd.read_csv('airline_satisfaction.csv').dropna()"
   ]
  },
  {
   "cell_type": "code",
   "execution_count": 3,
   "id": "60cf8994",
   "metadata": {
    "execution": {
     "iopub.execute_input": "2023-12-07T19:19:52.275453Z",
     "iopub.status.busy": "2023-12-07T19:19:52.275370Z",
     "iopub.status.idle": "2023-12-07T19:19:52.929462Z",
     "shell.execute_reply": "2023-12-07T19:19:52.929171Z"
    }
   },
   "outputs": [],
   "source": [
    "labelBinary = LabelBinarizer()\n",
    "\n",
    "# Gender == 1 if Male\n",
    "airlines['Gender'] = labelBinary.fit_transform(airlines['Gender'])\n",
    "# Customer == 1 if Loyal\n",
    "airlines['Customer'] = labelBinary.fit_transform(airlines['Customer'])\n",
    "# TravelType == 1 if Personal\n",
    "airlines['TravelType'] = labelBinary.fit_transform(airlines['TravelType'])\n",
    "# Class == 1 if Business\n",
    "airlines['Class'] = labelBinary.fit_transform(airlines['Class'])"
   ]
  },
  {
   "cell_type": "code",
   "execution_count": 4,
   "id": "7c4bb52b",
   "metadata": {
    "execution": {
     "iopub.execute_input": "2023-12-07T19:19:52.931125Z",
     "iopub.status.busy": "2023-12-07T19:19:52.931039Z",
     "iopub.status.idle": "2023-12-07T19:19:52.949415Z",
     "shell.execute_reply": "2023-12-07T19:19:52.949054Z"
    }
   },
   "outputs": [],
   "source": [
    "# Select input and output features\n",
    "X = airlines.drop(columns=['id', 'Satisfaction'])\n",
    "y = airlines[['Satisfaction']]"
   ]
  },
  {
   "cell_type": "code",
   "execution_count": 5,
   "id": "d8e11a04",
   "metadata": {
    "execution": {
     "iopub.execute_input": "2023-12-07T19:19:52.951263Z",
     "iopub.status.busy": "2023-12-07T19:19:52.951061Z",
     "iopub.status.idle": "2023-12-07T19:19:59.792794Z",
     "shell.execute_reply": "2023-12-07T19:19:59.792508Z"
    }
   },
   "outputs": [
    {
     "data": {
      "text/html": [
       "<style>#sk-container-id-1 {color: black;background-color: white;}#sk-container-id-1 pre{padding: 0;}#sk-container-id-1 div.sk-toggleable {background-color: white;}#sk-container-id-1 label.sk-toggleable__label {cursor: pointer;display: block;width: 100%;margin-bottom: 0;padding: 0.3em;box-sizing: border-box;text-align: center;}#sk-container-id-1 label.sk-toggleable__label-arrow:before {content: \"▸\";float: left;margin-right: 0.25em;color: #696969;}#sk-container-id-1 label.sk-toggleable__label-arrow:hover:before {color: black;}#sk-container-id-1 div.sk-estimator:hover label.sk-toggleable__label-arrow:before {color: black;}#sk-container-id-1 div.sk-toggleable__content {max-height: 0;max-width: 0;overflow: hidden;text-align: left;background-color: #f0f8ff;}#sk-container-id-1 div.sk-toggleable__content pre {margin: 0.2em;color: black;border-radius: 0.25em;background-color: #f0f8ff;}#sk-container-id-1 input.sk-toggleable__control:checked~div.sk-toggleable__content {max-height: 200px;max-width: 100%;overflow: auto;}#sk-container-id-1 input.sk-toggleable__control:checked~label.sk-toggleable__label-arrow:before {content: \"▾\";}#sk-container-id-1 div.sk-estimator input.sk-toggleable__control:checked~label.sk-toggleable__label {background-color: #d4ebff;}#sk-container-id-1 div.sk-label input.sk-toggleable__control:checked~label.sk-toggleable__label {background-color: #d4ebff;}#sk-container-id-1 input.sk-hidden--visually {border: 0;clip: rect(1px 1px 1px 1px);clip: rect(1px, 1px, 1px, 1px);height: 1px;margin: -1px;overflow: hidden;padding: 0;position: absolute;width: 1px;}#sk-container-id-1 div.sk-estimator {font-family: monospace;background-color: #f0f8ff;border: 1px dotted black;border-radius: 0.25em;box-sizing: border-box;margin-bottom: 0.5em;}#sk-container-id-1 div.sk-estimator:hover {background-color: #d4ebff;}#sk-container-id-1 div.sk-parallel-item::after {content: \"\";width: 100%;border-bottom: 1px solid gray;flex-grow: 1;}#sk-container-id-1 div.sk-label:hover label.sk-toggleable__label {background-color: #d4ebff;}#sk-container-id-1 div.sk-serial::before {content: \"\";position: absolute;border-left: 1px solid gray;box-sizing: border-box;top: 0;bottom: 0;left: 50%;z-index: 0;}#sk-container-id-1 div.sk-serial {display: flex;flex-direction: column;align-items: center;background-color: white;padding-right: 0.2em;padding-left: 0.2em;position: relative;}#sk-container-id-1 div.sk-item {position: relative;z-index: 1;}#sk-container-id-1 div.sk-parallel {display: flex;align-items: stretch;justify-content: center;background-color: white;position: relative;}#sk-container-id-1 div.sk-item::before, #sk-container-id-1 div.sk-parallel-item::before {content: \"\";position: absolute;border-left: 1px solid gray;box-sizing: border-box;top: 0;bottom: 0;left: 50%;z-index: -1;}#sk-container-id-1 div.sk-parallel-item {display: flex;flex-direction: column;z-index: 1;position: relative;background-color: white;}#sk-container-id-1 div.sk-parallel-item:first-child::after {align-self: flex-end;width: 50%;}#sk-container-id-1 div.sk-parallel-item:last-child::after {align-self: flex-start;width: 50%;}#sk-container-id-1 div.sk-parallel-item:only-child::after {width: 0;}#sk-container-id-1 div.sk-dashed-wrapped {border: 1px dashed gray;margin: 0 0.4em 0.5em 0.4em;box-sizing: border-box;padding-bottom: 0.4em;background-color: white;}#sk-container-id-1 div.sk-label label {font-family: monospace;font-weight: bold;display: inline-block;line-height: 1.2em;}#sk-container-id-1 div.sk-label-container {text-align: center;}#sk-container-id-1 div.sk-container {/* jupyter's `normalize.less` sets `[hidden] { display: none; }` but bootstrap.min.css set `[hidden] { display: none !important; }` so we also need the `!important` here to be able to override the default hidden behavior on the sphinx rendered scikit-learn.org. See: https://github.com/scikit-learn/scikit-learn/issues/21755 */display: inline-block !important;position: relative;}#sk-container-id-1 div.sk-text-repr-fallback {display: none;}</style><div id=\"sk-container-id-1\" class=\"sk-top-container\"><div class=\"sk-text-repr-fallback\"><pre>RandomForestClassifier()</pre><b>In a Jupyter environment, please rerun this cell to show the HTML representation or trust the notebook. <br />On GitHub, the HTML representation is unable to render, please try loading this page with nbviewer.org.</b></div><div class=\"sk-container\" hidden><div class=\"sk-item\"><div class=\"sk-estimator sk-toggleable\"><input class=\"sk-toggleable__control sk-hidden--visually\" id=\"sk-estimator-id-1\" type=\"checkbox\" checked><label for=\"sk-estimator-id-1\" class=\"sk-toggleable__label sk-toggleable__label-arrow\">RandomForestClassifier</label><div class=\"sk-toggleable__content\"><pre>RandomForestClassifier()</pre></div></div></div></div></div>"
      ],
      "text/plain": [
       "RandomForestClassifier()"
      ]
     },
     "execution_count": 5,
     "metadata": {},
     "output_type": "execute_result"
    }
   ],
   "source": [
    "# Initialize and fit random forest classifier\n",
    "rfModel = RandomForestClassifier()\n",
    "rfModel.fit(X, np.ravel(y))"
   ]
  },
  {
   "cell_type": "code",
   "execution_count": 6,
   "id": "d4a98fc0",
   "metadata": {
    "execution": {
     "iopub.execute_input": "2023-12-07T19:19:59.794433Z",
     "iopub.status.busy": "2023-12-07T19:19:59.794323Z",
     "iopub.status.idle": "2023-12-07T19:20:00.976107Z",
     "shell.execute_reply": "2023-12-07T19:20:00.975848Z"
    }
   },
   "outputs": [
    {
     "data": {
      "text/plain": [
       "1.0"
      ]
     },
     "execution_count": 6,
     "metadata": {},
     "output_type": "execute_result"
    }
   ],
   "source": [
    "# Calculate prediction accuracy\n",
    "rfModel.score(X, y)"
   ]
  },
  {
   "cell_type": "code",
   "execution_count": 7,
   "id": "100fd56a",
   "metadata": {
    "execution": {
     "iopub.execute_input": "2023-12-07T19:20:00.977771Z",
     "iopub.status.busy": "2023-12-07T19:20:00.977642Z",
     "iopub.status.idle": "2023-12-07T19:20:00.990151Z",
     "shell.execute_reply": "2023-12-07T19:20:00.989899Z"
    }
   },
   "outputs": [
    {
     "data": {
      "text/html": [
       "<div>\n",
       "<style scoped>\n",
       "    .dataframe tbody tr th:only-of-type {\n",
       "        vertical-align: middle;\n",
       "    }\n",
       "\n",
       "    .dataframe tbody tr th {\n",
       "        vertical-align: top;\n",
       "    }\n",
       "\n",
       "    .dataframe thead th {\n",
       "        text-align: right;\n",
       "    }\n",
       "</style>\n",
       "<table border=\"1\" class=\"dataframe\">\n",
       "  <thead>\n",
       "    <tr style=\"text-align: right;\">\n",
       "      <th></th>\n",
       "      <th>feature</th>\n",
       "      <th>importance</th>\n",
       "    </tr>\n",
       "  </thead>\n",
       "  <tbody>\n",
       "    <tr>\n",
       "      <th>11</th>\n",
       "      <td>OnlineBoarding</td>\n",
       "      <td>0.165523</td>\n",
       "    </tr>\n",
       "    <tr>\n",
       "      <th>6</th>\n",
       "      <td>InflightWifi</td>\n",
       "      <td>0.142231</td>\n",
       "    </tr>\n",
       "    <tr>\n",
       "      <th>4</th>\n",
       "      <td>Class</td>\n",
       "      <td>0.100019</td>\n",
       "    </tr>\n",
       "    <tr>\n",
       "      <th>3</th>\n",
       "      <td>TravelType</td>\n",
       "      <td>0.095182</td>\n",
       "    </tr>\n",
       "    <tr>\n",
       "      <th>12</th>\n",
       "      <td>SeatComfort</td>\n",
       "      <td>0.054770</td>\n",
       "    </tr>\n",
       "    <tr>\n",
       "      <th>13</th>\n",
       "      <td>InflightEntertainment</td>\n",
       "      <td>0.051852</td>\n",
       "    </tr>\n",
       "    <tr>\n",
       "      <th>5</th>\n",
       "      <td>Distance</td>\n",
       "      <td>0.039209</td>\n",
       "    </tr>\n",
       "    <tr>\n",
       "      <th>8</th>\n",
       "      <td>OnlineBooking</td>\n",
       "      <td>0.038203</td>\n",
       "    </tr>\n",
       "    <tr>\n",
       "      <th>15</th>\n",
       "      <td>LegRoom</td>\n",
       "      <td>0.038071</td>\n",
       "    </tr>\n",
       "    <tr>\n",
       "      <th>1</th>\n",
       "      <td>Customer</td>\n",
       "      <td>0.036980</td>\n",
       "    </tr>\n",
       "    <tr>\n",
       "      <th>14</th>\n",
       "      <td>OnboardService</td>\n",
       "      <td>0.035060</td>\n",
       "    </tr>\n",
       "    <tr>\n",
       "      <th>2</th>\n",
       "      <td>Age</td>\n",
       "      <td>0.032873</td>\n",
       "    </tr>\n",
       "    <tr>\n",
       "      <th>16</th>\n",
       "      <td>Baggage</td>\n",
       "      <td>0.025556</td>\n",
       "    </tr>\n",
       "    <tr>\n",
       "      <th>17</th>\n",
       "      <td>CheckinService</td>\n",
       "      <td>0.023561</td>\n",
       "    </tr>\n",
       "    <tr>\n",
       "      <th>19</th>\n",
       "      <td>Cleanliness</td>\n",
       "      <td>0.022229</td>\n",
       "    </tr>\n",
       "    <tr>\n",
       "      <th>18</th>\n",
       "      <td>InflightService</td>\n",
       "      <td>0.022221</td>\n",
       "    </tr>\n",
       "    <tr>\n",
       "      <th>7</th>\n",
       "      <td>ConvenientTime</td>\n",
       "      <td>0.018847</td>\n",
       "    </tr>\n",
       "    <tr>\n",
       "      <th>9</th>\n",
       "      <td>GateLocation</td>\n",
       "      <td>0.016217</td>\n",
       "    </tr>\n",
       "    <tr>\n",
       "      <th>10</th>\n",
       "      <td>FoodDrink</td>\n",
       "      <td>0.013194</td>\n",
       "    </tr>\n",
       "    <tr>\n",
       "      <th>21</th>\n",
       "      <td>ArrivalDelay</td>\n",
       "      <td>0.012521</td>\n",
       "    </tr>\n",
       "    <tr>\n",
       "      <th>20</th>\n",
       "      <td>DepartureDelay</td>\n",
       "      <td>0.011084</td>\n",
       "    </tr>\n",
       "    <tr>\n",
       "      <th>0</th>\n",
       "      <td>Gender</td>\n",
       "      <td>0.004595</td>\n",
       "    </tr>\n",
       "  </tbody>\n",
       "</table>\n",
       "</div>"
      ],
      "text/plain": [
       "                  feature  importance\n",
       "11         OnlineBoarding    0.165523\n",
       "6            InflightWifi    0.142231\n",
       "4                   Class    0.100019\n",
       "3              TravelType    0.095182\n",
       "12            SeatComfort    0.054770\n",
       "13  InflightEntertainment    0.051852\n",
       "5                Distance    0.039209\n",
       "8           OnlineBooking    0.038203\n",
       "15                LegRoom    0.038071\n",
       "1                Customer    0.036980\n",
       "14         OnboardService    0.035060\n",
       "2                     Age    0.032873\n",
       "16                Baggage    0.025556\n",
       "17         CheckinService    0.023561\n",
       "19            Cleanliness    0.022229\n",
       "18        InflightService    0.022221\n",
       "7          ConvenientTime    0.018847\n",
       "9            GateLocation    0.016217\n",
       "10              FoodDrink    0.013194\n",
       "21           ArrivalDelay    0.012521\n",
       "20         DepartureDelay    0.011084\n",
       "0                  Gender    0.004595"
      ]
     },
     "execution_count": 7,
     "metadata": {},
     "output_type": "execute_result"
    }
   ],
   "source": [
    "# Variable importance table\n",
    "pd.DataFrame(\n",
    "    data={'feature': rfModel.feature_names_in_,'importance': rfModel.feature_importances_}\n",
    ").sort_values('importance', ascending=False)"
   ]
  }
 ],
 "metadata": {
  "kernelspec": {
   "display_name": "Python 3 - python3",
   "language": "python3",
   "name": "python3"
  },
  "language_info": {
   "codemirror_mode": {
    "name": "ipython",
    "version": 3
   },
   "file_extension": ".py",
   "mimetype": "text/x-python",
   "name": "python",
   "nbconvert_exporter": "python",
   "pygments_lexer": "ipython3",
   "version": "3.10.9"
  }
 },
 "nbformat": 4,
 "nbformat_minor": 5
}
