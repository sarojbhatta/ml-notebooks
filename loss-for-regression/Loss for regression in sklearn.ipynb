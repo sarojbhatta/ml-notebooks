{
 "cells": [
  {
   "cell_type": "code",
   "execution_count": 1,
   "id": "3f4c24ef",
   "metadata": {
    "execution": {
     "iopub.execute_input": "2023-12-14T17:08:31.602757Z",
     "iopub.status.busy": "2023-12-14T17:08:31.602347Z",
     "iopub.status.idle": "2023-12-14T17:08:32.493141Z",
     "shell.execute_reply": "2023-12-14T17:08:32.492853Z"
    }
   },
   "outputs": [],
   "source": [
    "import numpy as np\n",
    "import pandas as pd\n",
    "import matplotlib.pyplot as plt\n",
    "\n",
    "from sklearn import metrics\n",
    "from sklearn.preprocessing import StandardScaler\n",
    "from sklearn.linear_model import LinearRegression\n",
    "from sklearn.linear_model import HuberRegressor"
   ]
  },
  {
   "cell_type": "code",
   "execution_count": 2,
   "id": "117e922e",
   "metadata": {
    "execution": {
     "iopub.execute_input": "2023-12-14T17:08:32.494858Z",
     "iopub.status.busy": "2023-12-14T17:08:32.494728Z",
     "iopub.status.idle": "2023-12-14T17:08:32.501791Z",
     "shell.execute_reply": "2023-12-14T17:08:32.501528Z"
    }
   },
   "outputs": [
    {
     "data": {
      "text/html": [
       "<div>\n",
       "<style scoped>\n",
       "    .dataframe tbody tr th:only-of-type {\n",
       "        vertical-align: middle;\n",
       "    }\n",
       "\n",
       "    .dataframe tbody tr th {\n",
       "        vertical-align: top;\n",
       "    }\n",
       "\n",
       "    .dataframe thead th {\n",
       "        text-align: right;\n",
       "    }\n",
       "</style>\n",
       "<table border=\"1\" class=\"dataframe\">\n",
       "  <thead>\n",
       "    <tr style=\"text-align: right;\">\n",
       "      <th></th>\n",
       "      <th>SEQN</th>\n",
       "      <th>diabetes</th>\n",
       "      <th>glucose</th>\n",
       "      <th>insulin</th>\n",
       "      <th>cholesterol</th>\n",
       "      <th>outcome</th>\n",
       "      <th>systolic</th>\n",
       "      <th>diastolic</th>\n",
       "    </tr>\n",
       "  </thead>\n",
       "  <tbody>\n",
       "    <tr>\n",
       "      <th>1066</th>\n",
       "      <td>97564</td>\n",
       "      <td>no</td>\n",
       "      <td>5.61</td>\n",
       "      <td>21.07</td>\n",
       "      <td>129</td>\n",
       "      <td>0</td>\n",
       "      <td>73</td>\n",
       "      <td>107</td>\n",
       "    </tr>\n",
       "    <tr>\n",
       "      <th>126</th>\n",
       "      <td>96333</td>\n",
       "      <td>yes</td>\n",
       "      <td>7.44</td>\n",
       "      <td>12.26</td>\n",
       "      <td>153</td>\n",
       "      <td>1</td>\n",
       "      <td>57</td>\n",
       "      <td>97</td>\n",
       "    </tr>\n",
       "    <tr>\n",
       "      <th>451</th>\n",
       "      <td>100915</td>\n",
       "      <td>no</td>\n",
       "      <td>5.66</td>\n",
       "      <td>11.36</td>\n",
       "      <td>207</td>\n",
       "      <td>0</td>\n",
       "      <td>67</td>\n",
       "      <td>133</td>\n",
       "    </tr>\n",
       "    <tr>\n",
       "      <th>894</th>\n",
       "      <td>99018</td>\n",
       "      <td>no</td>\n",
       "      <td>6.11</td>\n",
       "      <td>21.68</td>\n",
       "      <td>195</td>\n",
       "      <td>0</td>\n",
       "      <td>70</td>\n",
       "      <td>131</td>\n",
       "    </tr>\n",
       "    <tr>\n",
       "      <th>926</th>\n",
       "      <td>95892</td>\n",
       "      <td>no</td>\n",
       "      <td>5.55</td>\n",
       "      <td>18.92</td>\n",
       "      <td>180</td>\n",
       "      <td>0</td>\n",
       "      <td>69</td>\n",
       "      <td>121</td>\n",
       "    </tr>\n",
       "  </tbody>\n",
       "</table>\n",
       "</div>"
      ],
      "text/plain": [
       "        SEQN diabetes  glucose  insulin  cholesterol  outcome  systolic  \\\n",
       "1066   97564       no     5.61    21.07          129        0        73   \n",
       "126    96333      yes     7.44    12.26          153        1        57   \n",
       "451   100915       no     5.66    11.36          207        0        67   \n",
       "894    99018       no     6.11    21.68          195        0        70   \n",
       "926    95892       no     5.55    18.92          180        0        69   \n",
       "\n",
       "      diastolic  \n",
       "1066        107  \n",
       "126          97  \n",
       "451         133  \n",
       "894         131  \n",
       "926         121  "
      ]
     },
     "execution_count": 2,
     "metadata": {},
     "output_type": "execute_result"
    }
   ],
   "source": [
    "# Load the diabetes dataset\n",
    "diabetes_full = pd.read_csv('diabetesNHANES.csv')\n",
    "\n",
    "# Select a random sample of 50 instances\n",
    "seed = 2846\n",
    "diabetes = diabetes_full.sample(n=50, random_state=seed) \n",
    "diabetes.head()"
   ]
  },
  {
   "cell_type": "code",
   "execution_count": 3,
   "id": "453949bd",
   "metadata": {
    "execution": {
     "iopub.execute_input": "2023-12-14T17:08:32.503174Z",
     "iopub.status.busy": "2023-12-14T17:08:32.503084Z",
     "iopub.status.idle": "2023-12-14T17:08:32.505335Z",
     "shell.execute_reply": "2023-12-14T17:08:32.505106Z"
    }
   },
   "outputs": [],
   "source": [
    "# Define input and output features\n",
    "X = diabetes[['glucose']].values.reshape(-1, 1)\n",
    "y = diabetes[['insulin']].values.reshape(-1, 1)"
   ]
  },
  {
   "cell_type": "markdown",
   "id": "5c98a308",
   "metadata": {},
   "source": [
    "### Fitting a linear model using squared loss"
   ]
  },
  {
   "cell_type": "code",
   "execution_count": 4,
   "id": "eee06843",
   "metadata": {
    "execution": {
     "iopub.execute_input": "2023-12-14T17:08:32.506777Z",
     "iopub.status.busy": "2023-12-14T17:08:32.506695Z",
     "iopub.status.idle": "2023-12-14T17:08:32.509356Z",
     "shell.execute_reply": "2023-12-14T17:08:32.509129Z"
    }
   },
   "outputs": [
    {
     "data": {
      "text/html": [
       "<style>#sk-container-id-1 {color: black;background-color: white;}#sk-container-id-1 pre{padding: 0;}#sk-container-id-1 div.sk-toggleable {background-color: white;}#sk-container-id-1 label.sk-toggleable__label {cursor: pointer;display: block;width: 100%;margin-bottom: 0;padding: 0.3em;box-sizing: border-box;text-align: center;}#sk-container-id-1 label.sk-toggleable__label-arrow:before {content: \"▸\";float: left;margin-right: 0.25em;color: #696969;}#sk-container-id-1 label.sk-toggleable__label-arrow:hover:before {color: black;}#sk-container-id-1 div.sk-estimator:hover label.sk-toggleable__label-arrow:before {color: black;}#sk-container-id-1 div.sk-toggleable__content {max-height: 0;max-width: 0;overflow: hidden;text-align: left;background-color: #f0f8ff;}#sk-container-id-1 div.sk-toggleable__content pre {margin: 0.2em;color: black;border-radius: 0.25em;background-color: #f0f8ff;}#sk-container-id-1 input.sk-toggleable__control:checked~div.sk-toggleable__content {max-height: 200px;max-width: 100%;overflow: auto;}#sk-container-id-1 input.sk-toggleable__control:checked~label.sk-toggleable__label-arrow:before {content: \"▾\";}#sk-container-id-1 div.sk-estimator input.sk-toggleable__control:checked~label.sk-toggleable__label {background-color: #d4ebff;}#sk-container-id-1 div.sk-label input.sk-toggleable__control:checked~label.sk-toggleable__label {background-color: #d4ebff;}#sk-container-id-1 input.sk-hidden--visually {border: 0;clip: rect(1px 1px 1px 1px);clip: rect(1px, 1px, 1px, 1px);height: 1px;margin: -1px;overflow: hidden;padding: 0;position: absolute;width: 1px;}#sk-container-id-1 div.sk-estimator {font-family: monospace;background-color: #f0f8ff;border: 1px dotted black;border-radius: 0.25em;box-sizing: border-box;margin-bottom: 0.5em;}#sk-container-id-1 div.sk-estimator:hover {background-color: #d4ebff;}#sk-container-id-1 div.sk-parallel-item::after {content: \"\";width: 100%;border-bottom: 1px solid gray;flex-grow: 1;}#sk-container-id-1 div.sk-label:hover label.sk-toggleable__label {background-color: #d4ebff;}#sk-container-id-1 div.sk-serial::before {content: \"\";position: absolute;border-left: 1px solid gray;box-sizing: border-box;top: 0;bottom: 0;left: 50%;z-index: 0;}#sk-container-id-1 div.sk-serial {display: flex;flex-direction: column;align-items: center;background-color: white;padding-right: 0.2em;padding-left: 0.2em;position: relative;}#sk-container-id-1 div.sk-item {position: relative;z-index: 1;}#sk-container-id-1 div.sk-parallel {display: flex;align-items: stretch;justify-content: center;background-color: white;position: relative;}#sk-container-id-1 div.sk-item::before, #sk-container-id-1 div.sk-parallel-item::before {content: \"\";position: absolute;border-left: 1px solid gray;box-sizing: border-box;top: 0;bottom: 0;left: 50%;z-index: -1;}#sk-container-id-1 div.sk-parallel-item {display: flex;flex-direction: column;z-index: 1;position: relative;background-color: white;}#sk-container-id-1 div.sk-parallel-item:first-child::after {align-self: flex-end;width: 50%;}#sk-container-id-1 div.sk-parallel-item:last-child::after {align-self: flex-start;width: 50%;}#sk-container-id-1 div.sk-parallel-item:only-child::after {width: 0;}#sk-container-id-1 div.sk-dashed-wrapped {border: 1px dashed gray;margin: 0 0.4em 0.5em 0.4em;box-sizing: border-box;padding-bottom: 0.4em;background-color: white;}#sk-container-id-1 div.sk-label label {font-family: monospace;font-weight: bold;display: inline-block;line-height: 1.2em;}#sk-container-id-1 div.sk-label-container {text-align: center;}#sk-container-id-1 div.sk-container {/* jupyter's `normalize.less` sets `[hidden] { display: none; }` but bootstrap.min.css set `[hidden] { display: none !important; }` so we also need the `!important` here to be able to override the default hidden behavior on the sphinx rendered scikit-learn.org. See: https://github.com/scikit-learn/scikit-learn/issues/21755 */display: inline-block !important;position: relative;}#sk-container-id-1 div.sk-text-repr-fallback {display: none;}</style><div id=\"sk-container-id-1\" class=\"sk-top-container\"><div class=\"sk-text-repr-fallback\"><pre>LinearRegression()</pre><b>In a Jupyter environment, please rerun this cell to show the HTML representation or trust the notebook. <br />On GitHub, the HTML representation is unable to render, please try loading this page with nbviewer.org.</b></div><div class=\"sk-container\" hidden><div class=\"sk-item\"><div class=\"sk-estimator sk-toggleable\"><input class=\"sk-toggleable__control sk-hidden--visually\" id=\"sk-estimator-id-1\" type=\"checkbox\" checked><label for=\"sk-estimator-id-1\" class=\"sk-toggleable__label sk-toggleable__label-arrow\">LinearRegression</label><div class=\"sk-toggleable__content\"><pre>LinearRegression()</pre></div></div></div></div></div>"
      ],
      "text/plain": [
       "LinearRegression()"
      ]
     },
     "execution_count": 4,
     "metadata": {},
     "output_type": "execute_result"
    }
   ],
   "source": [
    "# Initialize and fit linear regression model fitted with least squares\n",
    "lrModel = LinearRegression()\n",
    "lrModel.fit(X,y)"
   ]
  },
  {
   "cell_type": "code",
   "execution_count": 5,
   "id": "04200e99",
   "metadata": {
    "execution": {
     "iopub.execute_input": "2023-12-14T17:08:32.510684Z",
     "iopub.status.busy": "2023-12-14T17:08:32.510610Z",
     "iopub.status.idle": "2023-12-14T17:08:32.512471Z",
     "shell.execute_reply": "2023-12-14T17:08:32.512221Z"
    }
   },
   "outputs": [
    {
     "name": "stdout",
     "output_type": "stream",
     "text": [
      "[-17.67326079]\n",
      "[[5.15206086]]\n"
     ]
    }
   ],
   "source": [
    "# Show intercept and weight for Glucose\n",
    "print(lrModel.intercept_)\n",
    "print(lrModel.coef_)"
   ]
  },
  {
   "cell_type": "code",
   "execution_count": 6,
   "id": "eb2b5972",
   "metadata": {
    "execution": {
     "iopub.execute_input": "2023-12-14T17:08:32.513816Z",
     "iopub.status.busy": "2023-12-14T17:08:32.513739Z",
     "iopub.status.idle": "2023-12-14T17:08:32.560850Z",
     "shell.execute_reply": "2023-12-14T17:08:32.560571Z"
    }
   },
   "outputs": [
    {
     "data": {
      "image/png": "[encoded data removed]",
      "text/plain": [
       "<Figure size 400x300 with 1 Axes>"
      ]
     },
     "metadata": {},
     "output_type": "display_data"
    }
   ],
   "source": [
    "# Plot data and predicted regression line\n",
    "xVals = np.linspace(min(X)-1, max(X)+1, 100)\n",
    "\n",
    "fig = plt.figure(figsize = (4,3))\n",
    "plt.scatter(diabetes[['glucose']], diabetes[['insulin']], color='black')\n",
    "plt.plot(xVals, lrModel.predict(xVals), color='#E68143', linewidth=2, label='Squared loss')\n",
    "plt.xlabel('Glucose (mg/dl)', fontsize=14)\n",
    "plt.ylabel('Insulin (uU/ml)', fontsize=14)\n",
    "\n",
    "plt.show()"
   ]
  },
  {
   "cell_type": "code",
   "execution_count": 7,
   "id": "bed11c44",
   "metadata": {
    "execution": {
     "iopub.execute_input": "2023-12-14T17:08:32.562394Z",
     "iopub.status.busy": "2023-12-14T17:08:32.562278Z",
     "iopub.status.idle": "2023-12-14T17:08:32.564813Z",
     "shell.execute_reply": "2023-12-14T17:08:32.564551Z"
    }
   },
   "outputs": [
    {
     "data": {
      "text/plain": [
       "7.807279805688346"
      ]
     },
     "execution_count": 7,
     "metadata": {},
     "output_type": "execute_result"
    }
   ],
   "source": [
    "# Return the mean absolute error\n",
    "metrics.mean_absolute_error(y, lrModel.predict(X))"
   ]
  },
  {
   "cell_type": "code",
   "execution_count": 8,
   "id": "dd796fa9",
   "metadata": {
    "execution": {
     "iopub.execute_input": "2023-12-14T17:08:32.566168Z",
     "iopub.status.busy": "2023-12-14T17:08:32.566066Z",
     "iopub.status.idle": "2023-12-14T17:08:32.568250Z",
     "shell.execute_reply": "2023-12-14T17:08:32.568028Z"
    }
   },
   "outputs": [
    {
     "data": {
      "text/plain": [
       "187.01592395776632"
      ]
     },
     "execution_count": 8,
     "metadata": {},
     "output_type": "execute_result"
    }
   ],
   "source": [
    "# Return the mean squared error\n",
    "metrics.mean_squared_error(y, lrModel.predict(X))"
   ]
  },
  {
   "cell_type": "markdown",
   "id": "1b788daf",
   "metadata": {},
   "source": [
    "### Fitting a linear model using Huber loss"
   ]
  },
  {
   "cell_type": "code",
   "execution_count": 9,
   "id": "f2ea2db9",
   "metadata": {
    "execution": {
     "iopub.execute_input": "2023-12-14T17:08:32.571603Z",
     "iopub.status.busy": "2023-12-14T17:08:32.571473Z",
     "iopub.status.idle": "2023-12-14T17:08:32.575909Z",
     "shell.execute_reply": "2023-12-14T17:08:32.575644Z"
    }
   },
   "outputs": [
    {
     "data": {
      "text/html": [
       "<style>#sk-container-id-2 {color: black;background-color: white;}#sk-container-id-2 pre{padding: 0;}#sk-container-id-2 div.sk-toggleable {background-color: white;}#sk-container-id-2 label.sk-toggleable__label {cursor: pointer;display: block;width: 100%;margin-bottom: 0;padding: 0.3em;box-sizing: border-box;text-align: center;}#sk-container-id-2 label.sk-toggleable__label-arrow:before {content: \"▸\";float: left;margin-right: 0.25em;color: #696969;}#sk-container-id-2 label.sk-toggleable__label-arrow:hover:before {color: black;}#sk-container-id-2 div.sk-estimator:hover label.sk-toggleable__label-arrow:before {color: black;}#sk-container-id-2 div.sk-toggleable__content {max-height: 0;max-width: 0;overflow: hidden;text-align: left;background-color: #f0f8ff;}#sk-container-id-2 div.sk-toggleable__content pre {margin: 0.2em;color: black;border-radius: 0.25em;background-color: #f0f8ff;}#sk-container-id-2 input.sk-toggleable__control:checked~div.sk-toggleable__content {max-height: 200px;max-width: 100%;overflow: auto;}#sk-container-id-2 input.sk-toggleable__control:checked~label.sk-toggleable__label-arrow:before {content: \"▾\";}#sk-container-id-2 div.sk-estimator input.sk-toggleable__control:checked~label.sk-toggleable__label {background-color: #d4ebff;}#sk-container-id-2 div.sk-label input.sk-toggleable__control:checked~label.sk-toggleable__label {background-color: #d4ebff;}#sk-container-id-2 input.sk-hidden--visually {border: 0;clip: rect(1px 1px 1px 1px);clip: rect(1px, 1px, 1px, 1px);height: 1px;margin: -1px;overflow: hidden;padding: 0;position: absolute;width: 1px;}#sk-container-id-2 div.sk-estimator {font-family: monospace;background-color: #f0f8ff;border: 1px dotted black;border-radius: 0.25em;box-sizing: border-box;margin-bottom: 0.5em;}#sk-container-id-2 div.sk-estimator:hover {background-color: #d4ebff;}#sk-container-id-2 div.sk-parallel-item::after {content: \"\";width: 100%;border-bottom: 1px solid gray;flex-grow: 1;}#sk-container-id-2 div.sk-label:hover label.sk-toggleable__label {background-color: #d4ebff;}#sk-container-id-2 div.sk-serial::before {content: \"\";position: absolute;border-left: 1px solid gray;box-sizing: border-box;top: 0;bottom: 0;left: 50%;z-index: 0;}#sk-container-id-2 div.sk-serial {display: flex;flex-direction: column;align-items: center;background-color: white;padding-right: 0.2em;padding-left: 0.2em;position: relative;}#sk-container-id-2 div.sk-item {position: relative;z-index: 1;}#sk-container-id-2 div.sk-parallel {display: flex;align-items: stretch;justify-content: center;background-color: white;position: relative;}#sk-container-id-2 div.sk-item::before, #sk-container-id-2 div.sk-parallel-item::before {content: \"\";position: absolute;border-left: 1px solid gray;box-sizing: border-box;top: 0;bottom: 0;left: 50%;z-index: -1;}#sk-container-id-2 div.sk-parallel-item {display: flex;flex-direction: column;z-index: 1;position: relative;background-color: white;}#sk-container-id-2 div.sk-parallel-item:first-child::after {align-self: flex-end;width: 50%;}#sk-container-id-2 div.sk-parallel-item:last-child::after {align-self: flex-start;width: 50%;}#sk-container-id-2 div.sk-parallel-item:only-child::after {width: 0;}#sk-container-id-2 div.sk-dashed-wrapped {border: 1px dashed gray;margin: 0 0.4em 0.5em 0.4em;box-sizing: border-box;padding-bottom: 0.4em;background-color: white;}#sk-container-id-2 div.sk-label label {font-family: monospace;font-weight: bold;display: inline-block;line-height: 1.2em;}#sk-container-id-2 div.sk-label-container {text-align: center;}#sk-container-id-2 div.sk-container {/* jupyter's `normalize.less` sets `[hidden] { display: none; }` but bootstrap.min.css set `[hidden] { display: none !important; }` so we also need the `!important` here to be able to override the default hidden behavior on the sphinx rendered scikit-learn.org. See: https://github.com/scikit-learn/scikit-learn/issues/21755 */display: inline-block !important;position: relative;}#sk-container-id-2 div.sk-text-repr-fallback {display: none;}</style><div id=\"sk-container-id-2\" class=\"sk-top-container\"><div class=\"sk-text-repr-fallback\"><pre>HuberRegressor()</pre><b>In a Jupyter environment, please rerun this cell to show the HTML representation or trust the notebook. <br />On GitHub, the HTML representation is unable to render, please try loading this page with nbviewer.org.</b></div><div class=\"sk-container\" hidden><div class=\"sk-item\"><div class=\"sk-estimator sk-toggleable\"><input class=\"sk-toggleable__control sk-hidden--visually\" id=\"sk-estimator-id-2\" type=\"checkbox\" checked><label for=\"sk-estimator-id-2\" class=\"sk-toggleable__label sk-toggleable__label-arrow\">HuberRegressor</label><div class=\"sk-toggleable__content\"><pre>HuberRegressor()</pre></div></div></div></div></div>"
      ],
      "text/plain": [
       "HuberRegressor()"
      ]
     },
     "execution_count": 9,
     "metadata": {},
     "output_type": "execute_result"
    }
   ],
   "source": [
    "# Initialize and fit linear regression model fitted with Huber loss\n",
    "hrModel = HuberRegressor()\n",
    "hrModel.fit(X,np.ravel(y))"
   ]
  },
  {
   "cell_type": "code",
   "execution_count": 10,
   "id": "316f8ca0",
   "metadata": {
    "execution": {
     "iopub.execute_input": "2023-12-14T17:08:32.577293Z",
     "iopub.status.busy": "2023-12-14T17:08:32.577213Z",
     "iopub.status.idle": "2023-12-14T17:08:32.582424Z",
     "shell.execute_reply": "2023-12-14T17:08:32.582195Z"
    }
   },
   "outputs": [
    {
     "name": "stdout",
     "output_type": "stream",
     "text": [
      "-6.62506302575551\n",
      "[2.94329403]\n"
     ]
    }
   ],
   "source": [
    "# Show intercept and weight for Glucose\n",
    "print(hrModel.intercept_)\n",
    "print(hrModel.coef_)"
   ]
  },
  {
   "cell_type": "code",
   "execution_count": 11,
   "id": "7580f31f",
   "metadata": {
    "execution": {
     "iopub.execute_input": "2023-12-14T17:08:32.583726Z",
     "iopub.status.busy": "2023-12-14T17:08:32.583636Z",
     "iopub.status.idle": "2023-12-14T17:08:32.625891Z",
     "shell.execute_reply": "2023-12-14T17:08:32.625618Z"
    }
   },
   "outputs": [
    {
     "data": {
      "image/png": "[encoded data removed]",
      "text/plain": [
       "<Figure size 400x300 with 1 Axes>"
      ]
     },
     "metadata": {},
     "output_type": "display_data"
    }
   ],
   "source": [
    "# Plot data and predicted regression lines\n",
    "xVals = np.linspace(min(X)-1, max(X)+1, 100)\n",
    "\n",
    "fig = plt.figure(figsize = (4,3))\n",
    "plt.scatter(diabetes[['glucose']], diabetes[['insulin']], color='black')\n",
    "plt.plot(xVals, hrModel.predict(xVals), color='#5780DC', linewidth=2, linestyle='dashed', label='Huber loss')\n",
    "plt.xlabel('Glucose (mg/dl)', fontsize=14)\n",
    "plt.ylabel('Insulin (uU/ml)', fontsize=14)\n",
    "\n",
    "plt.show()"
   ]
  },
  {
   "cell_type": "code",
   "execution_count": 12,
   "id": "7a3cc06d",
   "metadata": {
    "execution": {
     "iopub.execute_input": "2023-12-14T17:08:32.627411Z",
     "iopub.status.busy": "2023-12-14T17:08:32.627325Z",
     "iopub.status.idle": "2023-12-14T17:08:32.629598Z",
     "shell.execute_reply": "2023-12-14T17:08:32.629334Z"
    }
   },
   "outputs": [
    {
     "data": {
      "text/plain": [
       "7.3331659203097965"
      ]
     },
     "execution_count": 12,
     "metadata": {},
     "output_type": "execute_result"
    }
   ],
   "source": [
    "# Return the mean absolute error for the model fit with Huber loss\n",
    "metrics.mean_absolute_error(y, hrModel.predict(X))"
   ]
  },
  {
   "cell_type": "code",
   "execution_count": 13,
   "id": "91dc92ab",
   "metadata": {
    "execution": {
     "iopub.execute_input": "2023-12-14T17:08:32.630976Z",
     "iopub.status.busy": "2023-12-14T17:08:32.630897Z",
     "iopub.status.idle": "2023-12-14T17:08:32.634507Z",
     "shell.execute_reply": "2023-12-14T17:08:32.634275Z"
    }
   },
   "outputs": [
    {
     "data": {
      "text/plain": [
       "202.97017006406"
      ]
     },
     "execution_count": 13,
     "metadata": {},
     "output_type": "execute_result"
    }
   ],
   "source": [
    "# Return the mean squared error for the model fit with Huber loss\n",
    "metrics.mean_squared_error(y, hrModel.predict(X))"
   ]
  },
  {
   "cell_type": "code",
   "execution_count": 14,
   "id": "cbe61ba0",
   "metadata": {
    "execution": {
     "iopub.execute_input": "2023-12-14T17:08:32.635805Z",
     "iopub.status.busy": "2023-12-14T17:08:32.635728Z",
     "iopub.status.idle": "2023-12-14T17:08:32.683837Z",
     "shell.execute_reply": "2023-12-14T17:08:32.683559Z"
    }
   },
   "outputs": [
    {
     "data": {
      "image/png": "[encoded data removed]",
      "text/plain": [
       "<Figure size 400x300 with 1 Axes>"
      ]
     },
     "metadata": {},
     "output_type": "display_data"
    }
   ],
   "source": [
    "# Plot data and both predicted regression lines\n",
    "xVals = np.linspace(min(X)-1, max(X)+1, 100)\n",
    "\n",
    "fig = plt.figure(figsize = (4,3))\n",
    "plt.scatter(diabetes[['glucose']], diabetes[['insulin']], color='black')\n",
    "plt.plot(xVals, lrModel.predict(xVals), color='#E68143', linewidth=2, label='Squared loss')\n",
    "plt.plot(xVals, hrModel.predict(xVals), color='#5780DC', linewidth=2, linestyle='dashed', label='Huber loss')\n",
    "plt.xlabel('Glucose (mg/dl)', fontsize=14)\n",
    "plt.ylabel('Insulin (uU/ml)', fontsize=14)\n",
    "plt.legend(bbox_to_anchor=(1.05, 1.0), loc='upper left', fontsize=14, title='Linear model fitted with:')\n",
    "\n",
    "plt.show()"
   ]
  }
 ],
 "metadata": {
  "kernelspec": {
   "display_name": "Python 3 - python3",
   "language": "python3",
   "name": "python3"
  },
  "language_info": {
   "codemirror_mode": {
    "name": "ipython",
    "version": 3
   },
   "file_extension": ".py",
   "mimetype": "text/x-python",
   "name": "python",
   "nbconvert_exporter": "python",
   "pygments_lexer": "ipython3",
   "version": "3.10.9"
  }
 },
 "nbformat": 4,
 "nbformat_minor": 5
}
