{
 "cells": [
  {
   "cell_type": "code",
   "execution_count": 1,
   "id": "2fd722ce-20e1-4e34-be50-eecae1297701",
   "metadata": {
    "execution": {
     "iopub.execute_input": "2023-12-07T19:18:06.078375Z",
     "iopub.status.busy": "2023-12-07T19:18:06.077978Z",
     "iopub.status.idle": "2023-12-07T19:18:06.966422Z",
     "shell.execute_reply": "2023-12-07T19:18:06.966124Z"
    }
   },
   "outputs": [],
   "source": [
    "# Import required libraries\n",
    "from sklearn.decomposition import FactorAnalysis\n",
    "from factor_analyzer import FactorAnalyzer\n",
    "from sklearn.svm import SVC\n",
    "from sklearn.preprocessing import StandardScaler\n",
    "from sklearn.model_selection import train_test_split\n",
    "from sklearn.pipeline import Pipeline\n",
    "import pandas as pd\n",
    "import numpy as np\n",
    "import seaborn as sns"
   ]
  },
  {
   "cell_type": "code",
   "execution_count": 2,
   "id": "60575f62-5b49-4d8d-a639-e6b79aab7b32",
   "metadata": {
    "execution": {
     "iopub.execute_input": "2023-12-07T19:18:06.968111Z",
     "iopub.status.busy": "2023-12-07T19:18:06.967989Z",
     "iopub.status.idle": "2023-12-07T19:18:06.975160Z",
     "shell.execute_reply": "2023-12-07T19:18:06.974896Z"
    }
   },
   "outputs": [],
   "source": [
    "# Load the airline passenger satisfcation dataset\n",
    "passengers = pd.read_csv('passengers.csv')"
   ]
  },
  {
   "cell_type": "code",
   "execution_count": 3,
   "id": "4c47fef8-c7c2-494e-8555-afe7d12b544c",
   "metadata": {
    "execution": {
     "iopub.execute_input": "2023-12-07T19:18:06.976738Z",
     "iopub.status.busy": "2023-12-07T19:18:06.976637Z",
     "iopub.status.idle": "2023-12-07T19:18:06.978822Z",
     "shell.execute_reply": "2023-12-07T19:18:06.978596Z"
    }
   },
   "outputs": [],
   "source": [
    "# Subset input and output features\n",
    "X = passengers.iloc[:,:-1]\n",
    "y = passengers[['Satisfied']]"
   ]
  },
  {
   "cell_type": "code",
   "execution_count": 4,
   "id": "ff62eca9-45ee-4083-a479-d9dbc150664b",
   "metadata": {
    "execution": {
     "iopub.execute_input": "2023-12-07T19:18:06.980229Z",
     "iopub.status.busy": "2023-12-07T19:18:06.980140Z",
     "iopub.status.idle": "2023-12-07T19:18:06.982574Z",
     "shell.execute_reply": "2023-12-07T19:18:06.982349Z"
    }
   },
   "outputs": [
    {
     "data": {
      "text/plain": [
       "Index(['Age', 'Flight distance', 'Inflight Wi-Fi service',\n",
       "       'Convenient arrival/departure time', 'Ease of online booking',\n",
       "       'Gate location', 'Food and drink', 'Online boarding', 'Seat comfort',\n",
       "       'Inflight entertainment', 'On-board service', 'Leg room service',\n",
       "       'Baggage handling', 'Check-in service', 'Inflight service',\n",
       "       'Cleanliness', 'Departure delay in minutes', 'Gender', 'Customer type',\n",
       "       'Type of travel', 'Eco', 'Eco plus'],\n",
       "      dtype='object')"
      ]
     },
     "execution_count": 4,
     "metadata": {},
     "output_type": "execute_result"
    }
   ],
   "source": [
    "# Display columns\n",
    "X.columns"
   ]
  },
  {
   "cell_type": "code",
   "execution_count": 5,
   "id": "0004da61-e351-4d4c-a720-507684e1083e",
   "metadata": {
    "execution": {
     "iopub.execute_input": "2023-12-07T19:18:06.983851Z",
     "iopub.status.busy": "2023-12-07T19:18:06.983775Z",
     "iopub.status.idle": "2023-12-07T19:18:06.989344Z",
     "shell.execute_reply": "2023-12-07T19:18:06.989096Z"
    }
   },
   "outputs": [
    {
     "data": {
      "text/html": [
       "<div>\n",
       "<style scoped>\n",
       "    .dataframe tbody tr th:only-of-type {\n",
       "        vertical-align: middle;\n",
       "    }\n",
       "\n",
       "    .dataframe tbody tr th {\n",
       "        vertical-align: top;\n",
       "    }\n",
       "\n",
       "    .dataframe thead th {\n",
       "        text-align: right;\n",
       "    }\n",
       "</style>\n",
       "<table border=\"1\" class=\"dataframe\">\n",
       "  <thead>\n",
       "    <tr style=\"text-align: right;\">\n",
       "      <th></th>\n",
       "      <th>Age</th>\n",
       "      <th>Flight distance</th>\n",
       "      <th>Inflight Wi-Fi service</th>\n",
       "      <th>Convenient arrival/departure time</th>\n",
       "      <th>Ease of online booking</th>\n",
       "      <th>Gate location</th>\n",
       "      <th>Food and drink</th>\n",
       "      <th>Online boarding</th>\n",
       "      <th>Seat comfort</th>\n",
       "      <th>Inflight entertainment</th>\n",
       "      <th>...</th>\n",
       "      <th>Baggage handling</th>\n",
       "      <th>Check-in service</th>\n",
       "      <th>Inflight service</th>\n",
       "      <th>Cleanliness</th>\n",
       "      <th>Departure delay in minutes</th>\n",
       "      <th>Gender</th>\n",
       "      <th>Customer type</th>\n",
       "      <th>Type of travel</th>\n",
       "      <th>Eco</th>\n",
       "      <th>Eco plus</th>\n",
       "    </tr>\n",
       "  </thead>\n",
       "  <tbody>\n",
       "    <tr>\n",
       "      <th>0</th>\n",
       "      <td>52</td>\n",
       "      <td>160</td>\n",
       "      <td>5</td>\n",
       "      <td>4</td>\n",
       "      <td>3</td>\n",
       "      <td>4</td>\n",
       "      <td>3</td>\n",
       "      <td>4</td>\n",
       "      <td>3</td>\n",
       "      <td>5</td>\n",
       "      <td>...</td>\n",
       "      <td>5</td>\n",
       "      <td>2</td>\n",
       "      <td>5</td>\n",
       "      <td>5</td>\n",
       "      <td>50</td>\n",
       "      <td>0</td>\n",
       "      <td>0</td>\n",
       "      <td>0</td>\n",
       "      <td>1</td>\n",
       "      <td>0</td>\n",
       "    </tr>\n",
       "    <tr>\n",
       "      <th>1</th>\n",
       "      <td>36</td>\n",
       "      <td>2863</td>\n",
       "      <td>1</td>\n",
       "      <td>1</td>\n",
       "      <td>3</td>\n",
       "      <td>1</td>\n",
       "      <td>5</td>\n",
       "      <td>4</td>\n",
       "      <td>5</td>\n",
       "      <td>4</td>\n",
       "      <td>...</td>\n",
       "      <td>4</td>\n",
       "      <td>3</td>\n",
       "      <td>4</td>\n",
       "      <td>5</td>\n",
       "      <td>0</td>\n",
       "      <td>0</td>\n",
       "      <td>0</td>\n",
       "      <td>0</td>\n",
       "      <td>0</td>\n",
       "      <td>0</td>\n",
       "    </tr>\n",
       "    <tr>\n",
       "      <th>2</th>\n",
       "      <td>20</td>\n",
       "      <td>192</td>\n",
       "      <td>2</td>\n",
       "      <td>0</td>\n",
       "      <td>2</td>\n",
       "      <td>4</td>\n",
       "      <td>2</td>\n",
       "      <td>2</td>\n",
       "      <td>2</td>\n",
       "      <td>2</td>\n",
       "      <td>...</td>\n",
       "      <td>3</td>\n",
       "      <td>2</td>\n",
       "      <td>2</td>\n",
       "      <td>2</td>\n",
       "      <td>0</td>\n",
       "      <td>1</td>\n",
       "      <td>1</td>\n",
       "      <td>0</td>\n",
       "      <td>1</td>\n",
       "      <td>0</td>\n",
       "    </tr>\n",
       "    <tr>\n",
       "      <th>3</th>\n",
       "      <td>44</td>\n",
       "      <td>3377</td>\n",
       "      <td>0</td>\n",
       "      <td>0</td>\n",
       "      <td>0</td>\n",
       "      <td>2</td>\n",
       "      <td>3</td>\n",
       "      <td>4</td>\n",
       "      <td>4</td>\n",
       "      <td>1</td>\n",
       "      <td>...</td>\n",
       "      <td>1</td>\n",
       "      <td>3</td>\n",
       "      <td>1</td>\n",
       "      <td>4</td>\n",
       "      <td>0</td>\n",
       "      <td>1</td>\n",
       "      <td>0</td>\n",
       "      <td>0</td>\n",
       "      <td>0</td>\n",
       "      <td>0</td>\n",
       "    </tr>\n",
       "    <tr>\n",
       "      <th>4</th>\n",
       "      <td>49</td>\n",
       "      <td>1182</td>\n",
       "      <td>2</td>\n",
       "      <td>3</td>\n",
       "      <td>4</td>\n",
       "      <td>3</td>\n",
       "      <td>4</td>\n",
       "      <td>1</td>\n",
       "      <td>2</td>\n",
       "      <td>2</td>\n",
       "      <td>...</td>\n",
       "      <td>2</td>\n",
       "      <td>4</td>\n",
       "      <td>2</td>\n",
       "      <td>4</td>\n",
       "      <td>0</td>\n",
       "      <td>0</td>\n",
       "      <td>0</td>\n",
       "      <td>0</td>\n",
       "      <td>1</td>\n",
       "      <td>0</td>\n",
       "    </tr>\n",
       "  </tbody>\n",
       "</table>\n",
       "<p>5 rows × 22 columns</p>\n",
       "</div>"
      ],
      "text/plain": [
       "   Age  Flight distance  Inflight Wi-Fi service  \\\n",
       "0   52              160                       5   \n",
       "1   36             2863                       1   \n",
       "2   20              192                       2   \n",
       "3   44             3377                       0   \n",
       "4   49             1182                       2   \n",
       "\n",
       "   Convenient arrival/departure time  Ease of online booking  Gate location  \\\n",
       "0                                  4                       3              4   \n",
       "1                                  1                       3              1   \n",
       "2                                  0                       2              4   \n",
       "3                                  0                       0              2   \n",
       "4                                  3                       4              3   \n",
       "\n",
       "   Food and drink  Online boarding  Seat comfort  Inflight entertainment  ...  \\\n",
       "0               3                4             3                       5  ...   \n",
       "1               5                4             5                       4  ...   \n",
       "2               2                2             2                       2  ...   \n",
       "3               3                4             4                       1  ...   \n",
       "4               4                1             2                       2  ...   \n",
       "\n",
       "   Baggage handling  Check-in service  Inflight service  Cleanliness  \\\n",
       "0                 5                 2                 5            5   \n",
       "1                 4                 3                 4            5   \n",
       "2                 3                 2                 2            2   \n",
       "3                 1                 3                 1            4   \n",
       "4                 2                 4                 2            4   \n",
       "\n",
       "   Departure delay in minutes  Gender  Customer type  Type of travel  Eco  \\\n",
       "0                          50       0              0               0    1   \n",
       "1                           0       0              0               0    0   \n",
       "2                           0       1              1               0    1   \n",
       "3                           0       1              0               0    0   \n",
       "4                           0       0              0               0    1   \n",
       "\n",
       "   Eco plus  \n",
       "0         0  \n",
       "1         0  \n",
       "2         0  \n",
       "3         0  \n",
       "4         0  \n",
       "\n",
       "[5 rows x 22 columns]"
      ]
     },
     "execution_count": 5,
     "metadata": {},
     "output_type": "execute_result"
    }
   ],
   "source": [
    "# Display first five instances\n",
    "X.head()"
   ]
  },
  {
   "cell_type": "code",
   "execution_count": 6,
   "id": "6ba7b12a-ec5a-4277-890e-1005e6e0bcb4",
   "metadata": {
    "execution": {
     "iopub.execute_input": "2023-12-07T19:18:06.990696Z",
     "iopub.status.busy": "2023-12-07T19:18:06.990619Z",
     "iopub.status.idle": "2023-12-07T19:18:06.993469Z",
     "shell.execute_reply": "2023-12-07T19:18:06.993229Z"
    }
   },
   "outputs": [],
   "source": [
    "# Split the data into train and test sets\n",
    "X_train, X_test, y_train, y_test = train_test_split(X, y, test_size=0.2, random_state=123)"
   ]
  },
  {
   "cell_type": "code",
   "execution_count": 7,
   "id": "54147f5f-5205-46d1-a5ea-6d8dafb7b9a8",
   "metadata": {
    "execution": {
     "iopub.execute_input": "2023-12-07T19:18:06.994789Z",
     "iopub.status.busy": "2023-12-07T19:18:06.994708Z",
     "iopub.status.idle": "2023-12-07T19:18:06.996713Z",
     "shell.execute_reply": "2023-12-07T19:18:06.996491Z"
    }
   },
   "outputs": [],
   "source": [
    "# Create data pipeline with the scaler, factor analysis model, and support vector classifier\n",
    "scaler = StandardScaler()\n",
    "factor_analysis = FactorAnalysis(rotation='varimax', n_components=6, random_state=123)\n",
    "clf = SVC(random_state=123)\n",
    "pipeline_factor_analysis = Pipeline(steps=[('scaler',scaler),('factor_analysis',factor_analysis),('clf',clf)])"
   ]
  },
  {
   "cell_type": "code",
   "execution_count": 8,
   "id": "ac29b408-8404-47c2-9820-87f9f097f321",
   "metadata": {
    "execution": {
     "iopub.execute_input": "2023-12-07T19:18:06.998122Z",
     "iopub.status.busy": "2023-12-07T19:18:06.998045Z",
     "iopub.status.idle": "2023-12-07T19:18:08.910634Z",
     "shell.execute_reply": "2023-12-07T19:18:08.910310Z"
    }
   },
   "outputs": [
    {
     "data": {
      "text/html": [
       "<style>#sk-container-id-1 {color: black;background-color: white;}#sk-container-id-1 pre{padding: 0;}#sk-container-id-1 div.sk-toggleable {background-color: white;}#sk-container-id-1 label.sk-toggleable__label {cursor: pointer;display: block;width: 100%;margin-bottom: 0;padding: 0.3em;box-sizing: border-box;text-align: center;}#sk-container-id-1 label.sk-toggleable__label-arrow:before {content: \"▸\";float: left;margin-right: 0.25em;color: #696969;}#sk-container-id-1 label.sk-toggleable__label-arrow:hover:before {color: black;}#sk-container-id-1 div.sk-estimator:hover label.sk-toggleable__label-arrow:before {color: black;}#sk-container-id-1 div.sk-toggleable__content {max-height: 0;max-width: 0;overflow: hidden;text-align: left;background-color: #f0f8ff;}#sk-container-id-1 div.sk-toggleable__content pre {margin: 0.2em;color: black;border-radius: 0.25em;background-color: #f0f8ff;}#sk-container-id-1 input.sk-toggleable__control:checked~div.sk-toggleable__content {max-height: 200px;max-width: 100%;overflow: auto;}#sk-container-id-1 input.sk-toggleable__control:checked~label.sk-toggleable__label-arrow:before {content: \"▾\";}#sk-container-id-1 div.sk-estimator input.sk-toggleable__control:checked~label.sk-toggleable__label {background-color: #d4ebff;}#sk-container-id-1 div.sk-label input.sk-toggleable__control:checked~label.sk-toggleable__label {background-color: #d4ebff;}#sk-container-id-1 input.sk-hidden--visually {border: 0;clip: rect(1px 1px 1px 1px);clip: rect(1px, 1px, 1px, 1px);height: 1px;margin: -1px;overflow: hidden;padding: 0;position: absolute;width: 1px;}#sk-container-id-1 div.sk-estimator {font-family: monospace;background-color: #f0f8ff;border: 1px dotted black;border-radius: 0.25em;box-sizing: border-box;margin-bottom: 0.5em;}#sk-container-id-1 div.sk-estimator:hover {background-color: #d4ebff;}#sk-container-id-1 div.sk-parallel-item::after {content: \"\";width: 100%;border-bottom: 1px solid gray;flex-grow: 1;}#sk-container-id-1 div.sk-label:hover label.sk-toggleable__label {background-color: #d4ebff;}#sk-container-id-1 div.sk-serial::before {content: \"\";position: absolute;border-left: 1px solid gray;box-sizing: border-box;top: 0;bottom: 0;left: 50%;z-index: 0;}#sk-container-id-1 div.sk-serial {display: flex;flex-direction: column;align-items: center;background-color: white;padding-right: 0.2em;padding-left: 0.2em;position: relative;}#sk-container-id-1 div.sk-item {position: relative;z-index: 1;}#sk-container-id-1 div.sk-parallel {display: flex;align-items: stretch;justify-content: center;background-color: white;position: relative;}#sk-container-id-1 div.sk-item::before, #sk-container-id-1 div.sk-parallel-item::before {content: \"\";position: absolute;border-left: 1px solid gray;box-sizing: border-box;top: 0;bottom: 0;left: 50%;z-index: -1;}#sk-container-id-1 div.sk-parallel-item {display: flex;flex-direction: column;z-index: 1;position: relative;background-color: white;}#sk-container-id-1 div.sk-parallel-item:first-child::after {align-self: flex-end;width: 50%;}#sk-container-id-1 div.sk-parallel-item:last-child::after {align-self: flex-start;width: 50%;}#sk-container-id-1 div.sk-parallel-item:only-child::after {width: 0;}#sk-container-id-1 div.sk-dashed-wrapped {border: 1px dashed gray;margin: 0 0.4em 0.5em 0.4em;box-sizing: border-box;padding-bottom: 0.4em;background-color: white;}#sk-container-id-1 div.sk-label label {font-family: monospace;font-weight: bold;display: inline-block;line-height: 1.2em;}#sk-container-id-1 div.sk-label-container {text-align: center;}#sk-container-id-1 div.sk-container {/* jupyter's `normalize.less` sets `[hidden] { display: none; }` but bootstrap.min.css set `[hidden] { display: none !important; }` so we also need the `!important` here to be able to override the default hidden behavior on the sphinx rendered scikit-learn.org. See: https://github.com/scikit-learn/scikit-learn/issues/21755 */display: inline-block !important;position: relative;}#sk-container-id-1 div.sk-text-repr-fallback {display: none;}</style><div id=\"sk-container-id-1\" class=\"sk-top-container\"><div class=\"sk-text-repr-fallback\"><pre>Pipeline(steps=[(&#x27;scaler&#x27;, StandardScaler()),\n",
       "                (&#x27;factor_analysis&#x27;,\n",
       "                 FactorAnalysis(n_components=6, random_state=123,\n",
       "                                rotation=&#x27;varimax&#x27;)),\n",
       "                (&#x27;clf&#x27;, SVC(random_state=123))])</pre><b>In a Jupyter environment, please rerun this cell to show the HTML representation or trust the notebook. <br />On GitHub, the HTML representation is unable to render, please try loading this page with nbviewer.org.</b></div><div class=\"sk-container\" hidden><div class=\"sk-item sk-dashed-wrapped\"><div class=\"sk-label-container\"><div class=\"sk-label sk-toggleable\"><input class=\"sk-toggleable__control sk-hidden--visually\" id=\"sk-estimator-id-1\" type=\"checkbox\" ><label for=\"sk-estimator-id-1\" class=\"sk-toggleable__label sk-toggleable__label-arrow\">Pipeline</label><div class=\"sk-toggleable__content\"><pre>Pipeline(steps=[(&#x27;scaler&#x27;, StandardScaler()),\n",
       "                (&#x27;factor_analysis&#x27;,\n",
       "                 FactorAnalysis(n_components=6, random_state=123,\n",
       "                                rotation=&#x27;varimax&#x27;)),\n",
       "                (&#x27;clf&#x27;, SVC(random_state=123))])</pre></div></div></div><div class=\"sk-serial\"><div class=\"sk-item\"><div class=\"sk-estimator sk-toggleable\"><input class=\"sk-toggleable__control sk-hidden--visually\" id=\"sk-estimator-id-2\" type=\"checkbox\" ><label for=\"sk-estimator-id-2\" class=\"sk-toggleable__label sk-toggleable__label-arrow\">StandardScaler</label><div class=\"sk-toggleable__content\"><pre>StandardScaler()</pre></div></div></div><div class=\"sk-item\"><div class=\"sk-estimator sk-toggleable\"><input class=\"sk-toggleable__control sk-hidden--visually\" id=\"sk-estimator-id-3\" type=\"checkbox\" ><label for=\"sk-estimator-id-3\" class=\"sk-toggleable__label sk-toggleable__label-arrow\">FactorAnalysis</label><div class=\"sk-toggleable__content\"><pre>FactorAnalysis(n_components=6, random_state=123, rotation=&#x27;varimax&#x27;)</pre></div></div></div><div class=\"sk-item\"><div class=\"sk-estimator sk-toggleable\"><input class=\"sk-toggleable__control sk-hidden--visually\" id=\"sk-estimator-id-4\" type=\"checkbox\" ><label for=\"sk-estimator-id-4\" class=\"sk-toggleable__label sk-toggleable__label-arrow\">SVC</label><div class=\"sk-toggleable__content\"><pre>SVC(random_state=123)</pre></div></div></div></div></div></div></div>"
      ],
      "text/plain": [
       "Pipeline(steps=[('scaler', StandardScaler()),\n",
       "                ('factor_analysis',\n",
       "                 FactorAnalysis(n_components=6, random_state=123,\n",
       "                                rotation='varimax')),\n",
       "                ('clf', SVC(random_state=123))])"
      ]
     },
     "execution_count": 8,
     "metadata": {},
     "output_type": "execute_result"
    }
   ],
   "source": [
    "# Fit the data pipeline to the training set\n",
    "pipeline_factor_analysis.fit(X_train, np.ravel(y_train))"
   ]
  },
  {
   "cell_type": "code",
   "execution_count": 9,
   "id": "af9b5866-6671-4281-aaac-313609b9013d",
   "metadata": {
    "execution": {
     "iopub.execute_input": "2023-12-07T19:18:08.912183Z",
     "iopub.status.busy": "2023-12-07T19:18:08.912074Z",
     "iopub.status.idle": "2023-12-07T19:18:09.152527Z",
     "shell.execute_reply": "2023-12-07T19:18:09.152245Z"
    }
   },
   "outputs": [
    {
     "data": {
      "text/plain": [
       "0.7565024903154399"
      ]
     },
     "execution_count": 9,
     "metadata": {},
     "output_type": "execute_result"
    }
   ],
   "source": [
    "# Display accuracy of the classifier using the test set\n",
    "pipeline_factor_analysis.score(X_test, y_test)"
   ]
  },
  {
   "cell_type": "code",
   "execution_count": 10,
   "id": "1148e32c-1f18-4452-974d-1e0b25f1072f",
   "metadata": {
    "execution": {
     "iopub.execute_input": "2023-12-07T19:18:09.154081Z",
     "iopub.status.busy": "2023-12-07T19:18:09.153973Z",
     "iopub.status.idle": "2023-12-07T19:18:09.156107Z",
     "shell.execute_reply": "2023-12-07T19:18:09.155860Z"
    }
   },
   "outputs": [],
   "source": [
    "# Create another data pipeline using the FactorAnalyzer() function\n",
    "factor_analyzer = FactorAnalyzer(rotation='varimax', n_factors=6)\n",
    "pipeline_factor_analyzer = Pipeline(steps=[('scaler',scaler),('factor_analyzer',factor_analyzer),('clf',clf)])"
   ]
  },
  {
   "cell_type": "code",
   "execution_count": 11,
   "id": "a48ab814-c504-44b4-b177-75622eff5614",
   "metadata": {
    "execution": {
     "iopub.execute_input": "2023-12-07T19:18:09.157563Z",
     "iopub.status.busy": "2023-12-07T19:18:09.157464Z",
     "iopub.status.idle": "2023-12-07T19:18:10.424152Z",
     "shell.execute_reply": "2023-12-07T19:18:10.423868Z"
    }
   },
   "outputs": [
    {
     "data": {
      "text/html": [
       "<style>#sk-container-id-2 {color: black;background-color: white;}#sk-container-id-2 pre{padding: 0;}#sk-container-id-2 div.sk-toggleable {background-color: white;}#sk-container-id-2 label.sk-toggleable__label {cursor: pointer;display: block;width: 100%;margin-bottom: 0;padding: 0.3em;box-sizing: border-box;text-align: center;}#sk-container-id-2 label.sk-toggleable__label-arrow:before {content: \"▸\";float: left;margin-right: 0.25em;color: #696969;}#sk-container-id-2 label.sk-toggleable__label-arrow:hover:before {color: black;}#sk-container-id-2 div.sk-estimator:hover label.sk-toggleable__label-arrow:before {color: black;}#sk-container-id-2 div.sk-toggleable__content {max-height: 0;max-width: 0;overflow: hidden;text-align: left;background-color: #f0f8ff;}#sk-container-id-2 div.sk-toggleable__content pre {margin: 0.2em;color: black;border-radius: 0.25em;background-color: #f0f8ff;}#sk-container-id-2 input.sk-toggleable__control:checked~div.sk-toggleable__content {max-height: 200px;max-width: 100%;overflow: auto;}#sk-container-id-2 input.sk-toggleable__control:checked~label.sk-toggleable__label-arrow:before {content: \"▾\";}#sk-container-id-2 div.sk-estimator input.sk-toggleable__control:checked~label.sk-toggleable__label {background-color: #d4ebff;}#sk-container-id-2 div.sk-label input.sk-toggleable__control:checked~label.sk-toggleable__label {background-color: #d4ebff;}#sk-container-id-2 input.sk-hidden--visually {border: 0;clip: rect(1px 1px 1px 1px);clip: rect(1px, 1px, 1px, 1px);height: 1px;margin: -1px;overflow: hidden;padding: 0;position: absolute;width: 1px;}#sk-container-id-2 div.sk-estimator {font-family: monospace;background-color: #f0f8ff;border: 1px dotted black;border-radius: 0.25em;box-sizing: border-box;margin-bottom: 0.5em;}#sk-container-id-2 div.sk-estimator:hover {background-color: #d4ebff;}#sk-container-id-2 div.sk-parallel-item::after {content: \"\";width: 100%;border-bottom: 1px solid gray;flex-grow: 1;}#sk-container-id-2 div.sk-label:hover label.sk-toggleable__label {background-color: #d4ebff;}#sk-container-id-2 div.sk-serial::before {content: \"\";position: absolute;border-left: 1px solid gray;box-sizing: border-box;top: 0;bottom: 0;left: 50%;z-index: 0;}#sk-container-id-2 div.sk-serial {display: flex;flex-direction: column;align-items: center;background-color: white;padding-right: 0.2em;padding-left: 0.2em;position: relative;}#sk-container-id-2 div.sk-item {position: relative;z-index: 1;}#sk-container-id-2 div.sk-parallel {display: flex;align-items: stretch;justify-content: center;background-color: white;position: relative;}#sk-container-id-2 div.sk-item::before, #sk-container-id-2 div.sk-parallel-item::before {content: \"\";position: absolute;border-left: 1px solid gray;box-sizing: border-box;top: 0;bottom: 0;left: 50%;z-index: -1;}#sk-container-id-2 div.sk-parallel-item {display: flex;flex-direction: column;z-index: 1;position: relative;background-color: white;}#sk-container-id-2 div.sk-parallel-item:first-child::after {align-self: flex-end;width: 50%;}#sk-container-id-2 div.sk-parallel-item:last-child::after {align-self: flex-start;width: 50%;}#sk-container-id-2 div.sk-parallel-item:only-child::after {width: 0;}#sk-container-id-2 div.sk-dashed-wrapped {border: 1px dashed gray;margin: 0 0.4em 0.5em 0.4em;box-sizing: border-box;padding-bottom: 0.4em;background-color: white;}#sk-container-id-2 div.sk-label label {font-family: monospace;font-weight: bold;display: inline-block;line-height: 1.2em;}#sk-container-id-2 div.sk-label-container {text-align: center;}#sk-container-id-2 div.sk-container {/* jupyter's `normalize.less` sets `[hidden] { display: none; }` but bootstrap.min.css set `[hidden] { display: none !important; }` so we also need the `!important` here to be able to override the default hidden behavior on the sphinx rendered scikit-learn.org. See: https://github.com/scikit-learn/scikit-learn/issues/21755 */display: inline-block !important;position: relative;}#sk-container-id-2 div.sk-text-repr-fallback {display: none;}</style><div id=\"sk-container-id-2\" class=\"sk-top-container\"><div class=\"sk-text-repr-fallback\"><pre>Pipeline(steps=[(&#x27;scaler&#x27;, StandardScaler()),\n",
       "                (&#x27;factor_analyzer&#x27;,\n",
       "                 FactorAnalyzer(n_factors=6, rotation=&#x27;varimax&#x27;,\n",
       "                                rotation_kwargs={})),\n",
       "                (&#x27;clf&#x27;, SVC(random_state=123))])</pre><b>In a Jupyter environment, please rerun this cell to show the HTML representation or trust the notebook. <br />On GitHub, the HTML representation is unable to render, please try loading this page with nbviewer.org.</b></div><div class=\"sk-container\" hidden><div class=\"sk-item sk-dashed-wrapped\"><div class=\"sk-label-container\"><div class=\"sk-label sk-toggleable\"><input class=\"sk-toggleable__control sk-hidden--visually\" id=\"sk-estimator-id-5\" type=\"checkbox\" ><label for=\"sk-estimator-id-5\" class=\"sk-toggleable__label sk-toggleable__label-arrow\">Pipeline</label><div class=\"sk-toggleable__content\"><pre>Pipeline(steps=[(&#x27;scaler&#x27;, StandardScaler()),\n",
       "                (&#x27;factor_analyzer&#x27;,\n",
       "                 FactorAnalyzer(n_factors=6, rotation=&#x27;varimax&#x27;,\n",
       "                                rotation_kwargs={})),\n",
       "                (&#x27;clf&#x27;, SVC(random_state=123))])</pre></div></div></div><div class=\"sk-serial\"><div class=\"sk-item\"><div class=\"sk-estimator sk-toggleable\"><input class=\"sk-toggleable__control sk-hidden--visually\" id=\"sk-estimator-id-6\" type=\"checkbox\" ><label for=\"sk-estimator-id-6\" class=\"sk-toggleable__label sk-toggleable__label-arrow\">StandardScaler</label><div class=\"sk-toggleable__content\"><pre>StandardScaler()</pre></div></div></div><div class=\"sk-item\"><div class=\"sk-estimator sk-toggleable\"><input class=\"sk-toggleable__control sk-hidden--visually\" id=\"sk-estimator-id-7\" type=\"checkbox\" ><label for=\"sk-estimator-id-7\" class=\"sk-toggleable__label sk-toggleable__label-arrow\">FactorAnalyzer</label><div class=\"sk-toggleable__content\"><pre>FactorAnalyzer(n_factors=6, rotation=&#x27;varimax&#x27;, rotation_kwargs={})</pre></div></div></div><div class=\"sk-item\"><div class=\"sk-estimator sk-toggleable\"><input class=\"sk-toggleable__control sk-hidden--visually\" id=\"sk-estimator-id-8\" type=\"checkbox\" ><label for=\"sk-estimator-id-8\" class=\"sk-toggleable__label sk-toggleable__label-arrow\">SVC</label><div class=\"sk-toggleable__content\"><pre>SVC(random_state=123)</pre></div></div></div></div></div></div></div>"
      ],
      "text/plain": [
       "Pipeline(steps=[('scaler', StandardScaler()),\n",
       "                ('factor_analyzer',\n",
       "                 FactorAnalyzer(n_factors=6, rotation='varimax',\n",
       "                                rotation_kwargs={})),\n",
       "                ('clf', SVC(random_state=123))])"
      ]
     },
     "execution_count": 11,
     "metadata": {},
     "output_type": "execute_result"
    }
   ],
   "source": [
    "# Fit the data pipeline that uses FactorAnalyzer to the training set\n",
    "pipeline_factor_analyzer.fit(X_train,np.ravel(y_train))"
   ]
  },
  {
   "cell_type": "code",
   "execution_count": 12,
   "id": "5624ceb7",
   "metadata": {
    "execution": {
     "iopub.execute_input": "2023-12-07T19:18:10.425699Z",
     "iopub.status.busy": "2023-12-07T19:18:10.425582Z",
     "iopub.status.idle": "2023-12-07T19:18:10.793770Z",
     "shell.execute_reply": "2023-12-07T19:18:10.793492Z"
    }
   },
   "outputs": [
    {
     "data": {
      "text/plain": [
       "0.7565024903154399"
      ]
     },
     "execution_count": 12,
     "metadata": {},
     "output_type": "execute_result"
    }
   ],
   "source": [
    "# Display accuracy of the classifier using the test set\n",
    "pipeline_factor_analyzer.score(X_test, y_test)"
   ]
  },
  {
   "cell_type": "code",
   "execution_count": 13,
   "id": "dd87a547",
   "metadata": {
    "execution": {
     "iopub.execute_input": "2023-12-07T19:18:10.795298Z",
     "iopub.status.busy": "2023-12-07T19:18:10.795206Z",
     "iopub.status.idle": "2023-12-07T19:18:10.797206Z",
     "shell.execute_reply": "2023-12-07T19:18:10.796984Z"
    }
   },
   "outputs": [],
   "source": [
    "# Create a matrix of factor loadings\n",
    "loadings = pd.DataFrame(factor_analyzer.loadings_, \n",
    "                        columns=['FA1','FA2','FA3','FA4','FA5','FA6'], index=X.columns)"
   ]
  },
  {
   "cell_type": "code",
   "execution_count": 14,
   "id": "2c767d60",
   "metadata": {
    "execution": {
     "iopub.execute_input": "2023-12-07T19:18:10.798654Z",
     "iopub.status.busy": "2023-12-07T19:18:10.798549Z",
     "iopub.status.idle": "2023-12-07T19:18:10.805472Z",
     "shell.execute_reply": "2023-12-07T19:18:10.805225Z"
    }
   },
   "outputs": [
    {
     "data": {
      "text/html": [
       "<div>\n",
       "<style scoped>\n",
       "    .dataframe tbody tr th:only-of-type {\n",
       "        vertical-align: middle;\n",
       "    }\n",
       "\n",
       "    .dataframe tbody tr th {\n",
       "        vertical-align: top;\n",
       "    }\n",
       "\n",
       "    .dataframe thead th {\n",
       "        text-align: right;\n",
       "    }\n",
       "</style>\n",
       "<table border=\"1\" class=\"dataframe\">\n",
       "  <thead>\n",
       "    <tr style=\"text-align: right;\">\n",
       "      <th></th>\n",
       "      <th>FA1</th>\n",
       "      <th>FA2</th>\n",
       "      <th>FA3</th>\n",
       "      <th>FA4</th>\n",
       "      <th>FA5</th>\n",
       "      <th>FA6</th>\n",
       "    </tr>\n",
       "  </thead>\n",
       "  <tbody>\n",
       "    <tr>\n",
       "      <th>Age</th>\n",
       "      <td>0.0516</td>\n",
       "      <td>-0.0117</td>\n",
       "      <td>0.0008</td>\n",
       "      <td>-0.0002</td>\n",
       "      <td>0.2264</td>\n",
       "      <td>-0.0145</td>\n",
       "    </tr>\n",
       "    <tr>\n",
       "      <th>Flight distance</th>\n",
       "      <td>0.0783</td>\n",
       "      <td>0.1032</td>\n",
       "      <td>-0.0106</td>\n",
       "      <td>0.0071</td>\n",
       "      <td>0.2268</td>\n",
       "      <td>-0.0067</td>\n",
       "    </tr>\n",
       "    <tr>\n",
       "      <th>Inflight Wi-Fi service</th>\n",
       "      <td>0.0908</td>\n",
       "      <td>0.1130</td>\n",
       "      <td>0.7023</td>\n",
       "      <td>0.0373</td>\n",
       "      <td>0.2690</td>\n",
       "      <td>0.0302</td>\n",
       "    </tr>\n",
       "    <tr>\n",
       "      <th>Convenient arrival/departure time</th>\n",
       "      <td>-0.0249</td>\n",
       "      <td>0.0493</td>\n",
       "      <td>0.5663</td>\n",
       "      <td>0.0189</td>\n",
       "      <td>-0.0472</td>\n",
       "      <td>-0.0052</td>\n",
       "    </tr>\n",
       "    <tr>\n",
       "      <th>Ease of online booking</th>\n",
       "      <td>-0.0481</td>\n",
       "      <td>0.0304</td>\n",
       "      <td>0.8560</td>\n",
       "      <td>0.0397</td>\n",
       "      <td>0.2425</td>\n",
       "      <td>0.0180</td>\n",
       "    </tr>\n",
       "    <tr>\n",
       "      <th>Gate location</th>\n",
       "      <td>-0.0148</td>\n",
       "      <td>-0.0391</td>\n",
       "      <td>0.6097</td>\n",
       "      <td>-0.0045</td>\n",
       "      <td>-0.1374</td>\n",
       "      <td>-0.0167</td>\n",
       "    </tr>\n",
       "    <tr>\n",
       "      <th>Food and drink</th>\n",
       "      <td>0.7798</td>\n",
       "      <td>0.0097</td>\n",
       "      <td>0.0453</td>\n",
       "      <td>-0.0408</td>\n",
       "      <td>0.0617</td>\n",
       "      <td>0.0061</td>\n",
       "    </tr>\n",
       "    <tr>\n",
       "      <th>Online boarding</th>\n",
       "      <td>0.2246</td>\n",
       "      <td>0.0996</td>\n",
       "      <td>0.2370</td>\n",
       "      <td>0.0446</td>\n",
       "      <td>0.8548</td>\n",
       "      <td>0.0457</td>\n",
       "    </tr>\n",
       "    <tr>\n",
       "      <th>Seat comfort</th>\n",
       "      <td>0.7256</td>\n",
       "      <td>0.0631</td>\n",
       "      <td>-0.0036</td>\n",
       "      <td>-0.0118</td>\n",
       "      <td>0.3153</td>\n",
       "      <td>-0.0051</td>\n",
       "    </tr>\n",
       "    <tr>\n",
       "      <th>Inflight entertainment</th>\n",
       "      <td>0.7738</td>\n",
       "      <td>0.4570</td>\n",
       "      <td>0.0521</td>\n",
       "      <td>-0.0340</td>\n",
       "      <td>0.0653</td>\n",
       "      <td>-0.0064</td>\n",
       "    </tr>\n",
       "    <tr>\n",
       "      <th>On-board service</th>\n",
       "      <td>0.0818</td>\n",
       "      <td>0.6985</td>\n",
       "      <td>0.0224</td>\n",
       "      <td>0.0079</td>\n",
       "      <td>0.0917</td>\n",
       "      <td>-0.0091</td>\n",
       "    </tr>\n",
       "    <tr>\n",
       "      <th>Leg room service</th>\n",
       "      <td>0.0668</td>\n",
       "      <td>0.4826</td>\n",
       "      <td>0.0529</td>\n",
       "      <td>-0.0022</td>\n",
       "      <td>0.0981</td>\n",
       "      <td>0.0007</td>\n",
       "    </tr>\n",
       "    <tr>\n",
       "      <th>Baggage handling</th>\n",
       "      <td>0.0449</td>\n",
       "      <td>0.7629</td>\n",
       "      <td>0.0406</td>\n",
       "      <td>0.0112</td>\n",
       "      <td>-0.0156</td>\n",
       "      <td>-0.0099</td>\n",
       "    </tr>\n",
       "    <tr>\n",
       "      <th>Check-in service</th>\n",
       "      <td>0.0859</td>\n",
       "      <td>0.2830</td>\n",
       "      <td>-0.0320</td>\n",
       "      <td>0.0216</td>\n",
       "      <td>0.1890</td>\n",
       "      <td>-0.0019</td>\n",
       "    </tr>\n",
       "    <tr>\n",
       "      <th>Inflight service</th>\n",
       "      <td>0.0402</td>\n",
       "      <td>0.8079</td>\n",
       "      <td>0.0292</td>\n",
       "      <td>0.0136</td>\n",
       "      <td>-0.0593</td>\n",
       "      <td>-0.0037</td>\n",
       "    </tr>\n",
       "    <tr>\n",
       "      <th>Cleanliness</th>\n",
       "      <td>0.8436</td>\n",
       "      <td>0.0779</td>\n",
       "      <td>0.0170</td>\n",
       "      <td>-0.0339</td>\n",
       "      <td>0.1425</td>\n",
       "      <td>0.0031</td>\n",
       "    </tr>\n",
       "    <tr>\n",
       "      <th>Departure delay in minutes</th>\n",
       "      <td>-0.0281</td>\n",
       "      <td>-0.0070</td>\n",
       "      <td>0.0170</td>\n",
       "      <td>-0.0059</td>\n",
       "      <td>-0.0159</td>\n",
       "      <td>0.0000</td>\n",
       "    </tr>\n",
       "    <tr>\n",
       "      <th>Gender</th>\n",
       "      <td>-0.0135</td>\n",
       "      <td>0.0057</td>\n",
       "      <td>0.0075</td>\n",
       "      <td>0.0218</td>\n",
       "      <td>0.0138</td>\n",
       "      <td>-0.0003</td>\n",
       "    </tr>\n",
       "    <tr>\n",
       "      <th>Customer type</th>\n",
       "      <td>-0.0062</td>\n",
       "      <td>0.0003</td>\n",
       "      <td>-0.0105</td>\n",
       "      <td>-0.3176</td>\n",
       "      <td>-0.0375</td>\n",
       "      <td>0.2656</td>\n",
       "    </tr>\n",
       "    <tr>\n",
       "      <th>Type of travel</th>\n",
       "      <td>0.0538</td>\n",
       "      <td>-0.0266</td>\n",
       "      <td>-0.0161</td>\n",
       "      <td>0.9944</td>\n",
       "      <td>-0.0807</td>\n",
       "      <td>0.0818</td>\n",
       "    </tr>\n",
       "    <tr>\n",
       "      <th>Eco</th>\n",
       "      <td>0.0288</td>\n",
       "      <td>-0.0040</td>\n",
       "      <td>0.0071</td>\n",
       "      <td>0.4110</td>\n",
       "      <td>-0.0939</td>\n",
       "      <td>0.9094</td>\n",
       "    </tr>\n",
       "    <tr>\n",
       "      <th>Eco plus</th>\n",
       "      <td>0.0060</td>\n",
       "      <td>0.0087</td>\n",
       "      <td>-0.0052</td>\n",
       "      <td>0.1084</td>\n",
       "      <td>-0.0256</td>\n",
       "      <td>-0.3027</td>\n",
       "    </tr>\n",
       "  </tbody>\n",
       "</table>\n",
       "</div>"
      ],
      "text/plain": [
       "                                      FA1     FA2     FA3     FA4     FA5  \\\n",
       "Age                                0.0516 -0.0117  0.0008 -0.0002  0.2264   \n",
       "Flight distance                    0.0783  0.1032 -0.0106  0.0071  0.2268   \n",
       "Inflight Wi-Fi service             0.0908  0.1130  0.7023  0.0373  0.2690   \n",
       "Convenient arrival/departure time -0.0249  0.0493  0.5663  0.0189 -0.0472   \n",
       "Ease of online booking            -0.0481  0.0304  0.8560  0.0397  0.2425   \n",
       "Gate location                     -0.0148 -0.0391  0.6097 -0.0045 -0.1374   \n",
       "Food and drink                     0.7798  0.0097  0.0453 -0.0408  0.0617   \n",
       "Online boarding                    0.2246  0.0996  0.2370  0.0446  0.8548   \n",
       "Seat comfort                       0.7256  0.0631 -0.0036 -0.0118  0.3153   \n",
       "Inflight entertainment             0.7738  0.4570  0.0521 -0.0340  0.0653   \n",
       "On-board service                   0.0818  0.6985  0.0224  0.0079  0.0917   \n",
       "Leg room service                   0.0668  0.4826  0.0529 -0.0022  0.0981   \n",
       "Baggage handling                   0.0449  0.7629  0.0406  0.0112 -0.0156   \n",
       "Check-in service                   0.0859  0.2830 -0.0320  0.0216  0.1890   \n",
       "Inflight service                   0.0402  0.8079  0.0292  0.0136 -0.0593   \n",
       "Cleanliness                        0.8436  0.0779  0.0170 -0.0339  0.1425   \n",
       "Departure delay in minutes        -0.0281 -0.0070  0.0170 -0.0059 -0.0159   \n",
       "Gender                            -0.0135  0.0057  0.0075  0.0218  0.0138   \n",
       "Customer type                     -0.0062  0.0003 -0.0105 -0.3176 -0.0375   \n",
       "Type of travel                     0.0538 -0.0266 -0.0161  0.9944 -0.0807   \n",
       "Eco                                0.0288 -0.0040  0.0071  0.4110 -0.0939   \n",
       "Eco plus                           0.0060  0.0087 -0.0052  0.1084 -0.0256   \n",
       "\n",
       "                                      FA6  \n",
       "Age                               -0.0145  \n",
       "Flight distance                   -0.0067  \n",
       "Inflight Wi-Fi service             0.0302  \n",
       "Convenient arrival/departure time -0.0052  \n",
       "Ease of online booking             0.0180  \n",
       "Gate location                     -0.0167  \n",
       "Food and drink                     0.0061  \n",
       "Online boarding                    0.0457  \n",
       "Seat comfort                      -0.0051  \n",
       "Inflight entertainment            -0.0064  \n",
       "On-board service                  -0.0091  \n",
       "Leg room service                   0.0007  \n",
       "Baggage handling                  -0.0099  \n",
       "Check-in service                  -0.0019  \n",
       "Inflight service                  -0.0037  \n",
       "Cleanliness                        0.0031  \n",
       "Departure delay in minutes         0.0000  \n",
       "Gender                            -0.0003  \n",
       "Customer type                      0.2656  \n",
       "Type of travel                     0.0818  \n",
       "Eco                                0.9094  \n",
       "Eco plus                          -0.3027  "
      ]
     },
     "execution_count": 14,
     "metadata": {},
     "output_type": "execute_result"
    }
   ],
   "source": [
    "# Display the factor loadings\n",
    "np.round(loadings,4)"
   ]
  }
 ],
 "metadata": {
  "kernelspec": {
   "display_name": "Python 3 - python3",
   "language": "python3",
   "name": "python3"
  },
  "language_info": {
   "codemirror_mode": {
    "name": "ipython",
    "version": 3
   },
   "file_extension": ".py",
   "mimetype": "text/x-python",
   "name": "python",
   "nbconvert_exporter": "python",
   "pygments_lexer": "ipython3",
   "version": "3.10.9"
  }
 },
 "nbformat": 4,
 "nbformat_minor": 5
}
