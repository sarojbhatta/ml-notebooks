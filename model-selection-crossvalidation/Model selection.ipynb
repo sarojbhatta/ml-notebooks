{
 "cells": [
  {
   "cell_type": "code",
   "execution_count": 1,
   "id": "75f30735",
   "metadata": {
    "execution": {
     "iopub.execute_input": "2023-12-14T17:07:50.542639Z",
     "iopub.status.busy": "2023-12-14T17:07:50.542273Z",
     "iopub.status.idle": "2023-12-14T17:07:51.344888Z",
     "shell.execute_reply": "2023-12-14T17:07:51.344595Z"
    }
   },
   "outputs": [],
   "source": [
    "import numpy as np\n",
    "import pandas as pd\n",
    "import matplotlib.pyplot as plt\n",
    "import seaborn as sns\n",
    "\n",
    "from sklearn.model_selection import train_test_split\n",
    "from sklearn.model_selection import cross_validate\n",
    "from sklearn.model_selection import KFold\n",
    "\n",
    "from sklearn.neighbors import KNeighborsClassifier\n",
    "from sklearn.linear_model import LogisticRegression\n",
    "\n",
    "from sklearn.preprocessing import StandardScaler"
   ]
  },
  {
   "cell_type": "code",
   "execution_count": 2,
   "id": "1baccf16",
   "metadata": {
    "execution": {
     "iopub.execute_input": "2023-12-14T17:07:51.346661Z",
     "iopub.status.busy": "2023-12-14T17:07:51.346538Z",
     "iopub.status.idle": "2023-12-14T17:07:51.349766Z",
     "shell.execute_reply": "2023-12-14T17:07:51.349509Z"
    }
   },
   "outputs": [],
   "source": [
    "wine = pd.read_csv('wine_sample.csv')"
   ]
  },
  {
   "cell_type": "code",
   "execution_count": 3,
   "id": "789c6367",
   "metadata": {
    "execution": {
     "iopub.execute_input": "2023-12-14T17:07:51.351273Z",
     "iopub.status.busy": "2023-12-14T17:07:51.351198Z",
     "iopub.status.idle": "2023-12-14T17:07:51.355230Z",
     "shell.execute_reply": "2023-12-14T17:07:51.354977Z"
    }
   },
   "outputs": [],
   "source": [
    "X = wine[['sulphates', 'alcohol']]\n",
    "y = wine[['type']]\n",
    "\n",
    "# Create training/testing split\n",
    "X_train, X_test, y_train, y_test = train_test_split(X, y, test_size=0.1, random_state=123)\n",
    "\n",
    "# Scale the input features\n",
    "scaler = StandardScaler()\n",
    "X_train = scaler.fit_transform(X_train)\n",
    "X_test = scaler.transform(X_test)"
   ]
  },
  {
   "cell_type": "code",
   "execution_count": 4,
   "id": "dfe241ab",
   "metadata": {
    "execution": {
     "iopub.execute_input": "2023-12-14T17:07:51.356712Z",
     "iopub.status.busy": "2023-12-14T17:07:51.356634Z",
     "iopub.status.idle": "2023-12-14T17:07:51.358292Z",
     "shell.execute_reply": "2023-12-14T17:07:51.358079Z"
    }
   },
   "outputs": [],
   "source": [
    "# Define candidate models\n",
    "knnModel = KNeighborsClassifier(n_neighbors=5)\n",
    "logisticModel = LogisticRegression()"
   ]
  },
  {
   "cell_type": "code",
   "execution_count": 5,
   "id": "46d59170",
   "metadata": {
    "execution": {
     "iopub.execute_input": "2023-12-14T17:07:51.359594Z",
     "iopub.status.busy": "2023-12-14T17:07:51.359509Z",
     "iopub.status.idle": "2023-12-14T17:07:51.361192Z",
     "shell.execute_reply": "2023-12-14T17:07:51.360964Z"
    }
   },
   "outputs": [],
   "source": [
    "# Define a set of cross-validation folds\n",
    "kf = KFold(n_splits=10, random_state=19, shuffle=True)"
   ]
  },
  {
   "cell_type": "code",
   "execution_count": 6,
   "id": "36c8bf1a",
   "metadata": {
    "execution": {
     "iopub.execute_input": "2023-12-14T17:07:51.362567Z",
     "iopub.status.busy": "2023-12-14T17:07:51.362487Z",
     "iopub.status.idle": "2023-12-14T17:07:51.375829Z",
     "shell.execute_reply": "2023-12-14T17:07:51.375594Z"
    }
   },
   "outputs": [
    {
     "name": "stdout",
     "output_type": "stream",
     "text": [
      "k-nearest neighbor scores: [0.667 0.667 0.889 0.5   0.722 0.833 0.667 0.611 0.833 0.5  ]\n",
      "Mean: 0.689\n",
      "SD: 0.127\n"
     ]
    }
   ],
   "source": [
    "# Fit k-nearest neighbors with 10-fold cross-validation to the training data\n",
    "knnResults = cross_validate(knnModel, X_train, np.ravel(y_train), cv=kf)\n",
    "\n",
    "knnScores = knnResults['test_score']\n",
    "\n",
    "# View accuracy for each fold\n",
    "print('k-nearest neighbor scores:', knnScores.round(3))\n",
    "\n",
    "# Calculate descriptive statistics\n",
    "print('Mean:', knnScores.mean().round(3))\n",
    "print('SD:', knnScores.std().round(3))"
   ]
  },
  {
   "cell_type": "code",
   "execution_count": 7,
   "id": "94b5ceeb",
   "metadata": {
    "execution": {
     "iopub.execute_input": "2023-12-14T17:07:51.377185Z",
     "iopub.status.busy": "2023-12-14T17:07:51.377106Z",
     "iopub.status.idle": "2023-12-14T17:07:51.380796Z",
     "shell.execute_reply": "2023-12-14T17:07:51.380575Z"
    }
   },
   "outputs": [
    {
     "data": {
      "text/plain": [
       "0.65"
      ]
     },
     "execution_count": 7,
     "metadata": {},
     "output_type": "execute_result"
    }
   ],
   "source": [
    "# Logistic model performance on testing\n",
    "knnModel.fit(X_train, np.ravel(y_train))\n",
    "knnModel.score(X_test, np.ravel(y_test))"
   ]
  },
  {
   "cell_type": "code",
   "execution_count": 8,
   "id": "5a26d7e7",
   "metadata": {
    "execution": {
     "iopub.execute_input": "2023-12-14T17:07:51.382113Z",
     "iopub.status.busy": "2023-12-14T17:07:51.382036Z",
     "iopub.status.idle": "2023-12-14T17:07:51.394157Z",
     "shell.execute_reply": "2023-12-14T17:07:51.393921Z"
    }
   },
   "outputs": [
    {
     "name": "stdout",
     "output_type": "stream",
     "text": [
      "Logistic regression scores: [0.667 0.778 0.778 0.444 0.722 0.889 0.722 0.611 0.722 0.667]\n",
      "Mean: 0.7\n",
      "SD: 0.112\n"
     ]
    }
   ],
   "source": [
    "# Fit logistic regression with 10-fold cross-validation to the training data\n",
    "logisticResults = cross_validate(logisticModel, X_train, np.ravel(y_train), cv=kf)\n",
    "\n",
    "logisticScores = logisticResults['test_score']\n",
    "\n",
    "# View accuracy for each fold\n",
    "print('Logistic regression scores:', logisticScores.round(3))\n",
    "\n",
    "# Calculate descriptive statistics\n",
    "print('Mean:', logisticScores.mean().round(3))\n",
    "print('SD:', logisticScores.std().round(3))"
   ]
  },
  {
   "cell_type": "code",
   "execution_count": 9,
   "id": "2ce5acde",
   "metadata": {
    "execution": {
     "iopub.execute_input": "2023-12-14T17:07:51.395580Z",
     "iopub.status.busy": "2023-12-14T17:07:51.395506Z",
     "iopub.status.idle": "2023-12-14T17:07:51.398706Z",
     "shell.execute_reply": "2023-12-14T17:07:51.398486Z"
    }
   },
   "outputs": [
    {
     "data": {
      "text/plain": [
       "0.8"
      ]
     },
     "execution_count": 9,
     "metadata": {},
     "output_type": "execute_result"
    }
   ],
   "source": [
    "# Logistic model performance on testing\n",
    "logisticModel.fit(X_train, np.ravel(y_train))\n",
    "logisticModel.score(X_test, np.ravel(y_test))"
   ]
  },
  {
   "cell_type": "code",
   "execution_count": 10,
   "id": "659098ce",
   "metadata": {
    "execution": {
     "iopub.execute_input": "2023-12-14T17:07:51.399990Z",
     "iopub.status.busy": "2023-12-14T17:07:51.399906Z",
     "iopub.status.idle": "2023-12-14T17:07:51.401750Z",
     "shell.execute_reply": "2023-12-14T17:07:51.401526Z"
    },
    "scrolled": true
   },
   "outputs": [],
   "source": [
    "# Combine scores from both models into a dataframe\n",
    "df = pd.DataFrame({'knn': knnScores, 'logistic': logisticScores})"
   ]
  },
  {
   "cell_type": "code",
   "execution_count": 11,
   "id": "7cf5f6a3",
   "metadata": {
    "execution": {
     "iopub.execute_input": "2023-12-14T17:07:51.403040Z",
     "iopub.status.busy": "2023-12-14T17:07:51.402962Z",
     "iopub.status.idle": "2023-12-14T17:07:51.453368Z",
     "shell.execute_reply": "2023-12-14T17:07:51.451710Z"
    }
   },
   "outputs": [
    {
     "data": {
      "text/plain": [
       "Text(0, 0.5, 'Cross-validation scores')"
      ]
     },
     "execution_count": 11,
     "metadata": {},
     "output_type": "execute_result"
    },
    {
     "data": {
      "image/png": "[encoded data removed]",
      "text/plain": [
       "<Figure size 640x480 with 1 Axes>"
      ]
     },
     "metadata": {},
     "output_type": "display_data"
    }
   ],
   "source": [
    "# Boxplot of errors for k-nearest neighbors\n",
    "p = sns.boxplot(data=df, y='knn')\n",
    "p.set_xlabel('k-nearest neighbors', fontsize=14)\n",
    "p.set_ylabel('Cross-validation scores', fontsize=14)"
   ]
  },
  {
   "cell_type": "code",
   "execution_count": 12,
   "id": "cc78255a",
   "metadata": {
    "execution": {
     "iopub.execute_input": "2023-12-14T17:07:51.456115Z",
     "iopub.status.busy": "2023-12-14T17:07:51.455970Z",
     "iopub.status.idle": "2023-12-14T17:07:51.495383Z",
     "shell.execute_reply": "2023-12-14T17:07:51.495047Z"
    }
   },
   "outputs": [
    {
     "data": {
      "text/plain": [
       "Text(0, 0.5, 'Cross-validation scores')"
      ]
     },
     "execution_count": 12,
     "metadata": {},
     "output_type": "execute_result"
    },
    {
     "data": {
      "image/png": "[encoded data removed]",
      "text/plain": [
       "<Figure size 640x480 with 1 Axes>"
      ]
     },
     "metadata": {},
     "output_type": "display_data"
    }
   ],
   "source": [
    "# Boxplot of errors for logistic regression\n",
    "p = sns.boxplot(data=df, y='logistic')\n",
    "p.set_xlabel('Logistic regression', fontsize=14)\n",
    "p.set_ylabel('Cross-validation scores', fontsize=14)"
   ]
  }
 ],
 "metadata": {
  "kernelspec": {
   "display_name": "Python 3 - python3",
   "language": "python3",
   "name": "python3"
  },
  "language_info": {
   "codemirror_mode": {
    "name": "ipython",
    "version": 3
   },
   "file_extension": ".py",
   "mimetype": "text/x-python",
   "name": "python",
   "nbconvert_exporter": "python",
   "pygments_lexer": "ipython3",
   "version": "3.10.9"
  }
 },
 "nbformat": 4,
 "nbformat_minor": 5
}
