{
 "cells": [
  {
   "cell_type": "code",
   "execution_count": 1,
   "id": "f79cd7f5",
   "metadata": {
    "execution": {
     "iopub.execute_input": "2023-12-14T17:07:35.582080Z",
     "iopub.status.busy": "2023-12-14T17:07:35.581678Z",
     "iopub.status.idle": "2023-12-14T17:07:36.571282Z",
     "shell.execute_reply": "2023-12-14T17:07:36.570560Z"
    }
   },
   "outputs": [],
   "source": [
    "import numpy as np\n",
    "import pandas as pd\n",
    "import matplotlib.pyplot as plt\n",
    "import seaborn as sns\n",
    "\n",
    "from sklearn.naive_bayes import GaussianNB\n",
    "from mlxtend.plotting import plot_decision_regions\n",
    "from sklearn.neighbors import KNeighborsClassifier"
   ]
  },
  {
   "cell_type": "code",
   "execution_count": 2,
   "id": "6f282eca",
   "metadata": {
    "execution": {
     "iopub.execute_input": "2023-12-14T17:07:36.573427Z",
     "iopub.status.busy": "2023-12-14T17:07:36.573183Z",
     "iopub.status.idle": "2023-12-14T17:07:36.578218Z",
     "shell.execute_reply": "2023-12-14T17:07:36.577951Z"
    }
   },
   "outputs": [],
   "source": [
    "## Load the penguins dataset and drop instances with missing values\n",
    "penguins = pd.read_csv('penguins.csv').dropna()\n",
    "\n",
    "# Create integer-valued species\n",
    "penguins['species_int'] = penguins['species'].replace(to_replace = ['Adelie','Chinstrap', 'Gentoo'],\n",
    "                                                      value = [int(0), int(1), int(2)])"
   ]
  },
  {
   "cell_type": "code",
   "execution_count": 3,
   "id": "c2831466",
   "metadata": {
    "execution": {
     "iopub.execute_input": "2023-12-14T17:07:36.579634Z",
     "iopub.status.busy": "2023-12-14T17:07:36.579558Z",
     "iopub.status.idle": "2023-12-14T17:07:36.582128Z",
     "shell.execute_reply": "2023-12-14T17:07:36.581782Z"
    }
   },
   "outputs": [],
   "source": [
    "# Use additional input features\n",
    "X = penguins[['bill_length_mm', 'bill_depth_mm']]\n",
    "y = penguins[['species_int']]"
   ]
  },
  {
   "cell_type": "code",
   "execution_count": 6,
   "id": "1459bff0",
   "metadata": {
    "execution": {
     "iopub.execute_input": "2023-12-14T17:07:36.583594Z",
     "iopub.status.busy": "2023-12-14T17:07:36.583485Z",
     "iopub.status.idle": "2023-12-14T17:07:36.588086Z",
     "shell.execute_reply": "2023-12-14T17:07:36.587796Z"
    }
   },
   "outputs": [
    {
     "name": "stdout",
     "output_type": "stream",
     "text": [
      "CPU times: user 3.55 ms, sys: 1.16 ms, total: 4.71 ms\n",
      "Wall time: 4.32 ms\n"
     ]
    },
    {
     "data": {
      "text/plain": [
       "array([0, 0, 0, 0, 0, 0, 0, 0, 0, 0, 0, 0, 0, 0, 1, 0, 0, 0, 0, 0, 0, 0,\n",
       "       0, 0, 0, 0, 0, 0, 0, 0, 0, 0, 0, 0, 0, 0, 0, 0, 1, 0, 0, 0, 0, 0,\n",
       "       0, 0, 0, 0, 0, 0, 0, 0, 0, 0, 0, 0, 0, 0, 0, 0, 0, 0, 0, 0, 0, 0,\n",
       "       0, 1, 0, 0, 0, 0, 0, 0, 0, 0, 0, 0, 0, 0, 0, 0, 0, 0, 0, 0, 0, 0,\n",
       "       0, 0, 0, 0, 0, 0, 0, 0, 0, 0, 0, 0, 0, 0, 0, 0, 0, 1, 0, 0, 0, 0,\n",
       "       0, 0, 0, 0, 0, 0, 0, 0, 0, 0, 0, 0, 0, 1, 0, 0, 0, 0, 0, 0, 0, 0,\n",
       "       0, 0, 0, 0, 0, 0, 0, 0, 0, 0, 0, 0, 0, 0, 1, 1, 1, 1, 1, 1, 1, 1,\n",
       "       1, 1, 1, 1, 1, 1, 1, 1, 1, 1, 1, 1, 0, 1, 0, 1, 1, 1, 1, 1, 1, 1,\n",
       "       0, 1, 0, 1, 1, 2, 1, 1, 2, 1, 1, 1, 1, 1, 1, 1, 1, 1, 1, 1, 2, 1,\n",
       "       1, 1, 0, 1, 2, 1, 1, 1, 1, 2, 1, 1, 0, 1, 1, 1, 2, 2, 2, 2, 2, 2,\n",
       "       2, 2, 2, 2, 2, 2, 2, 2, 2, 2, 2, 2, 2, 2, 2, 2, 2, 2, 2, 2, 2, 2,\n",
       "       2, 2, 2, 2, 1, 2, 2, 2, 1, 2, 2, 2, 2, 2, 2, 2, 2, 2, 2, 2, 2, 2,\n",
       "       2, 2, 2, 2, 2, 2, 2, 2, 2, 2, 2, 2, 2, 2, 1, 2, 2, 2, 2, 2, 2, 2,\n",
       "       2, 2, 2, 2, 2, 2, 2, 2, 2, 2, 2, 1, 2, 2, 2, 1, 2, 1, 2, 2, 2, 2,\n",
       "       2, 2, 2, 2, 2, 1, 2, 2, 2, 2, 2, 2, 2, 2, 2, 2, 2, 2, 2, 2, 2, 2,\n",
       "       2, 2, 2])"
      ]
     },
     "execution_count": 6,
     "metadata": {},
     "output_type": "execute_result"
    }
   ],
   "source": [
    "'''\n",
    "In Jupyter notebooks, adding %%time to the start of a cell calculates and displays the cell's running time. Running time consists of system time and user time.\n",
    "\n",
    "System time is the time it takes the processor to interpret the code in the cell.\n",
    "User time is the time it takes the processor to run the code in the cell.\n",
    "\n",
    "'''\n",
    "\n",
    "\n",
    "\n",
    "%%time\n",
    "\n",
    "# Initialize a naive Bayes model\n",
    "NBModel = GaussianNB()\n",
    "\n",
    "# Fit the model\n",
    "NBModel.fit(X, np.ravel(y))\n",
    "\n",
    "# Make predictions\n",
    "NBModel.predict(X)"
   ]
  },
  {
   "cell_type": "code",
   "execution_count": 7,
   "id": "dbe89b3d",
   "metadata": {
    "execution": {
     "iopub.execute_input": "2023-12-14T17:07:36.589583Z",
     "iopub.status.busy": "2023-12-14T17:07:36.589504Z",
     "iopub.status.idle": "2023-12-14T17:07:36.598220Z",
     "shell.execute_reply": "2023-12-14T17:07:36.597977Z"
    }
   },
   "outputs": [
    {
     "data": {
      "text/plain": [
       "array([0, 0, 0, 0, 0, 0, 0, 0, 0, 0, 0, 0, 0, 0, 0, 0, 0, 0, 0, 0, 0, 0,\n",
       "       0, 0, 0, 0, 0, 0, 0, 0, 0, 0, 0, 0, 0, 0, 0, 0, 0, 0, 0, 0, 0, 0,\n",
       "       0, 0, 0, 0, 0, 0, 0, 0, 0, 0, 0, 0, 0, 0, 0, 0, 0, 0, 0, 0, 0, 0,\n",
       "       0, 1, 0, 0, 0, 0, 0, 0, 0, 1, 0, 0, 0, 0, 0, 0, 0, 0, 0, 0, 0, 0,\n",
       "       0, 0, 0, 0, 0, 0, 0, 0, 0, 0, 0, 0, 0, 0, 0, 0, 0, 0, 0, 0, 0, 0,\n",
       "       0, 0, 0, 0, 0, 0, 0, 0, 0, 0, 0, 0, 0, 0, 0, 0, 0, 0, 0, 0, 0, 0,\n",
       "       0, 0, 0, 0, 0, 0, 0, 0, 0, 0, 0, 0, 0, 0, 1, 1, 1, 1, 1, 1, 1, 1,\n",
       "       1, 1, 1, 1, 1, 1, 1, 1, 1, 2, 1, 1, 1, 1, 1, 1, 1, 1, 1, 1, 1, 1,\n",
       "       0, 1, 1, 1, 1, 1, 1, 1, 1, 1, 1, 1, 1, 1, 1, 1, 1, 1, 1, 1, 2, 1,\n",
       "       1, 1, 1, 1, 1, 1, 1, 1, 1, 1, 1, 1, 0, 1, 1, 1, 2, 2, 2, 2, 2, 2,\n",
       "       2, 2, 2, 2, 2, 2, 2, 2, 2, 2, 2, 2, 2, 2, 2, 2, 2, 2, 2, 2, 2, 2,\n",
       "       2, 2, 2, 2, 2, 2, 2, 2, 1, 2, 2, 2, 2, 2, 2, 2, 2, 2, 2, 2, 2, 2,\n",
       "       2, 2, 2, 2, 2, 2, 2, 2, 2, 2, 2, 2, 2, 2, 2, 2, 2, 2, 2, 2, 2, 2,\n",
       "       2, 2, 2, 2, 2, 1, 2, 2, 2, 2, 2, 1, 2, 2, 2, 2, 2, 2, 2, 2, 2, 2,\n",
       "       2, 2, 2, 2, 2, 2, 2, 2, 2, 2, 2, 2, 2, 2, 2, 2, 2, 2, 2, 2, 2, 2,\n",
       "       2, 2, 2])"
      ]
     },
     "execution_count": 7,
     "metadata": {},
     "output_type": "execute_result"
    }
   ],
   "source": [
    "# Initialize a k-nearest neighbors model\n",
    "knnModel = KNeighborsClassifier(n_neighbors=5)\n",
    "\n",
    "# Fit the model\n",
    "knnModel.fit(X, np.ravel(y))\n",
    "\n",
    "# Make predictions\n",
    "knnModel.predict(X)"
   ]
  },
  {
   "cell_type": "code",
   "execution_count": null,
   "id": "bb286bd3",
   "metadata": {},
   "outputs": [],
   "source": []
  }
 ],
 "metadata": {
  "kernelspec": {
   "display_name": "Python 3 - python3",
   "language": "python3",
   "name": "python3"
  },
  "language_info": {
   "codemirror_mode": {
    "name": "ipython",
    "version": 3
   },
   "file_extension": ".py",
   "mimetype": "text/x-python",
   "name": "python",
   "nbconvert_exporter": "python",
   "pygments_lexer": "ipython3",
   "version": "3.10.9"
  }
 },
 "nbformat": 4,
 "nbformat_minor": 5
}
