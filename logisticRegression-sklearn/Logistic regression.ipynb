{
 "cells": [
  {
   "cell_type": "code",
   "execution_count": 1,
   "id": "f79cd7f5",
   "metadata": {
    "execution": {
     "iopub.execute_input": "2023-12-14T17:07:31.274302Z",
     "iopub.status.busy": "2023-12-14T17:07:31.273567Z",
     "iopub.status.idle": "2023-12-14T17:07:32.125554Z",
     "shell.execute_reply": "2023-12-14T17:07:32.125262Z"
    },
    "id": "f79cd7f5"
   },
   "outputs": [],
   "source": [
    "import numpy as np\n",
    "import pandas as pd\n",
    "import matplotlib.pyplot as plt\n",
    "import seaborn as sns\n",
    "\n",
    "from sklearn.linear_model import LogisticRegression\n",
    "from mlxtend.plotting import plot_decision_regions"
   ]
  },
  {
   "cell_type": "code",
   "execution_count": 2,
   "id": "6f282eca",
   "metadata": {
    "execution": {
     "iopub.execute_input": "2023-12-14T17:07:32.127391Z",
     "iopub.status.busy": "2023-12-14T17:07:32.127229Z",
     "iopub.status.idle": "2023-12-14T17:07:32.131321Z",
     "shell.execute_reply": "2023-12-14T17:07:32.131029Z"
    },
    "id": "6f282eca",
    "outputId": "9a26f4a8-521b-4826-8fb6-796ed693835c"
   },
   "outputs": [],
   "source": [
    "# Load the penguins dataset and drop instances with missing values\n",
    "penguins = pd.read_csv('penguins.csv').dropna()"
   ]
  },
  {
   "cell_type": "code",
   "execution_count": 27,
   "id": "80432869",
   "metadata": {
    "execution": {
     "iopub.execute_input": "2023-12-14T17:07:32.132877Z",
     "iopub.status.busy": "2023-12-14T17:07:32.132761Z",
     "iopub.status.idle": "2023-12-14T17:07:32.141184Z",
     "shell.execute_reply": "2023-12-14T17:07:32.140932Z"
    },
    "id": "80432869",
    "outputId": "a29d8f50-3aec-4b65-a9f9-dfdb82c8cc57"
   },
   "outputs": [
    {
     "data": {
      "text/html": [
       "<div>\n",
       "<style scoped>\n",
       "    .dataframe tbody tr th:only-of-type {\n",
       "        vertical-align: middle;\n",
       "    }\n",
       "\n",
       "    .dataframe tbody tr th {\n",
       "        vertical-align: top;\n",
       "    }\n",
       "\n",
       "    .dataframe thead th {\n",
       "        text-align: right;\n",
       "    }\n",
       "</style>\n",
       "<table border=\"1\" class=\"dataframe\">\n",
       "  <thead>\n",
       "    <tr style=\"text-align: right;\">\n",
       "      <th></th>\n",
       "      <th>species</th>\n",
       "      <th>island</th>\n",
       "      <th>bill_length_mm</th>\n",
       "      <th>bill_depth_mm</th>\n",
       "      <th>flipper_length_mm</th>\n",
       "      <th>body_mass_g</th>\n",
       "      <th>sex</th>\n",
       "      <th>Adelie</th>\n",
       "      <th>Chinstrap</th>\n",
       "      <th>Gentoo</th>\n",
       "    </tr>\n",
       "  </thead>\n",
       "  <tbody>\n",
       "    <tr>\n",
       "      <th>0</th>\n",
       "      <td>Adelie</td>\n",
       "      <td>Torgersen</td>\n",
       "      <td>39.1</td>\n",
       "      <td>18.7</td>\n",
       "      <td>181.0</td>\n",
       "      <td>3750.0</td>\n",
       "      <td>Male</td>\n",
       "      <td>1</td>\n",
       "      <td>0</td>\n",
       "      <td>0</td>\n",
       "    </tr>\n",
       "    <tr>\n",
       "      <th>1</th>\n",
       "      <td>Adelie</td>\n",
       "      <td>Torgersen</td>\n",
       "      <td>39.5</td>\n",
       "      <td>17.4</td>\n",
       "      <td>186.0</td>\n",
       "      <td>3800.0</td>\n",
       "      <td>Female</td>\n",
       "      <td>1</td>\n",
       "      <td>0</td>\n",
       "      <td>0</td>\n",
       "    </tr>\n",
       "    <tr>\n",
       "      <th>2</th>\n",
       "      <td>Adelie</td>\n",
       "      <td>Torgersen</td>\n",
       "      <td>40.3</td>\n",
       "      <td>18.0</td>\n",
       "      <td>195.0</td>\n",
       "      <td>3250.0</td>\n",
       "      <td>Female</td>\n",
       "      <td>1</td>\n",
       "      <td>0</td>\n",
       "      <td>0</td>\n",
       "    </tr>\n",
       "    <tr>\n",
       "      <th>4</th>\n",
       "      <td>Adelie</td>\n",
       "      <td>Torgersen</td>\n",
       "      <td>36.7</td>\n",
       "      <td>19.3</td>\n",
       "      <td>193.0</td>\n",
       "      <td>3450.0</td>\n",
       "      <td>Female</td>\n",
       "      <td>1</td>\n",
       "      <td>0</td>\n",
       "      <td>0</td>\n",
       "    </tr>\n",
       "    <tr>\n",
       "      <th>5</th>\n",
       "      <td>Adelie</td>\n",
       "      <td>Torgersen</td>\n",
       "      <td>39.3</td>\n",
       "      <td>20.6</td>\n",
       "      <td>190.0</td>\n",
       "      <td>3650.0</td>\n",
       "      <td>Male</td>\n",
       "      <td>1</td>\n",
       "      <td>0</td>\n",
       "      <td>0</td>\n",
       "    </tr>\n",
       "  </tbody>\n",
       "</table>\n",
       "</div>"
      ],
      "text/plain": [
       "  species     island  bill_length_mm  bill_depth_mm  flipper_length_mm  \\\n",
       "0  Adelie  Torgersen            39.1           18.7              181.0   \n",
       "1  Adelie  Torgersen            39.5           17.4              186.0   \n",
       "2  Adelie  Torgersen            40.3           18.0              195.0   \n",
       "4  Adelie  Torgersen            36.7           19.3              193.0   \n",
       "5  Adelie  Torgersen            39.3           20.6              190.0   \n",
       "\n",
       "   body_mass_g     sex  Adelie  Chinstrap  Gentoo  \n",
       "0       3750.0    Male       1          0       0  \n",
       "1       3800.0  Female       1          0       0  \n",
       "2       3250.0  Female       1          0       0  \n",
       "4       3450.0  Female       1          0       0  \n",
       "5       3650.0    Male       1          0       0  "
      ]
     },
     "execution_count": 27,
     "metadata": {},
     "output_type": "execute_result"
    }
   ],
   "source": [
    "# Create binary feature for each species\n",
    "penguins['Adelie'] = penguins['species'].replace(to_replace = ['Adelie','Chinstrap', 'Gentoo'],\n",
    "                                                      value = [int(1), int(0), int(0)])\n",
    "penguins['Chinstrap'] = penguins['species'].replace(to_replace = ['Adelie','Chinstrap', 'Gentoo'],\n",
    "                                                      value = [int(0), int(1), int(0)])\n",
    "penguins['Gentoo'] = penguins['species'].replace(to_replace = ['Adelie','Chinstrap', 'Gentoo'],\n",
    "                                                      value = [int(0), int(0), int(1)])\n",
    "penguins.head()"
   ]
  },
  {
   "cell_type": "code",
   "execution_count": 28,
   "id": "48da69b8",
   "metadata": {
    "execution": {
     "iopub.execute_input": "2023-12-14T17:07:32.142685Z",
     "iopub.status.busy": "2023-12-14T17:07:32.142606Z",
     "iopub.status.idle": "2023-12-14T17:07:32.144827Z",
     "shell.execute_reply": "2023-12-14T17:07:32.144574Z"
    },
    "id": "48da69b8"
   },
   "outputs": [],
   "source": [
    "# Define input features and output features\n",
    "X = penguins[['bill_length_mm']]\n",
    "y = penguins[['Adelie']]"
   ]
  },
  {
   "cell_type": "code",
   "execution_count": 33,
   "id": "b9e8659f",
   "metadata": {
    "execution": {
     "iopub.execute_input": "2023-12-14T17:07:32.146236Z",
     "iopub.status.busy": "2023-12-14T17:07:32.146147Z",
     "iopub.status.idle": "2023-12-14T17:07:32.150707Z",
     "shell.execute_reply": "2023-12-14T17:07:32.150452Z"
    },
    "id": "b9e8659f",
    "outputId": "e26ada34-161b-4961-ae4a-d9350de2f5cd"
   },
   "outputs": [
    {
     "name": "stdout",
     "output_type": "stream",
     "text": [
      "w1: [[-1.17170474]]\n",
      "w0: [50.24321922]\n"
     ]
    }
   ],
   "source": [
    "# Initialize a logistic regression model\n",
    "logisticModel = LogisticRegression(penalty=None)\n",
    "\n",
    "# Fit the model\n",
    "logisticModel.fit(X, np.ravel(y))\n",
    "\n",
    "# Print the fitted model\n",
    "print('w1:', logisticModel.coef_)\n",
    "print('w0:', logisticModel.intercept_)"
   ]
  },
  {
   "cell_type": "code",
   "execution_count": 34,
   "id": "0c50c9f2",
   "metadata": {
    "execution": {
     "iopub.execute_input": "2023-12-14T17:07:32.152181Z",
     "iopub.status.busy": "2023-12-14T17:07:32.152099Z",
     "iopub.status.idle": "2023-12-14T17:07:32.154784Z",
     "shell.execute_reply": "2023-12-14T17:07:32.154528Z"
    },
    "id": "0c50c9f2",
    "outputId": "94820099-1aea-4af8-d5c2-376e552f1af1"
   },
   "outputs": [
    {
     "data": {
      "text/plain": [
       "array([[1.17792816e-02, 9.88220718e-01],\n",
       "       [1.86903266e-02, 9.81309673e-01],\n",
       "       [4.63746374e-02, 9.53625363e-01],\n",
       "       [7.15612939e-04, 9.99284387e-01],\n",
       "       [1.48437270e-02, 9.85156273e-01],\n",
       "       [9.34148341e-03, 9.90658517e-01]])"
      ]
     },
     "execution_count": 34,
     "metadata": {},
     "output_type": "execute_result"
    }
   ],
   "source": [
    "# Calculate predicted probabilities\n",
    "logisticModel.predict_proba(X)[0:6]"
   ]
  },
  {
   "cell_type": "code",
   "execution_count": 35,
   "id": "1d467e9e",
   "metadata": {
    "execution": {
     "iopub.execute_input": "2023-12-14T17:07:32.156158Z",
     "iopub.status.busy": "2023-12-14T17:07:32.156060Z",
     "iopub.status.idle": "2023-12-14T17:07:32.158430Z",
     "shell.execute_reply": "2023-12-14T17:07:32.158176Z"
    },
    "id": "1d467e9e",
    "outputId": "a5006bee-dfe8-48b4-9933-3d922e9d3c1b"
   },
   "outputs": [
    {
     "data": {
      "text/plain": [
       "array([1, 1, 1, 1, 1, 1])"
      ]
     },
     "execution_count": 35,
     "metadata": {},
     "output_type": "execute_result"
    }
   ],
   "source": [
    "# Classify instances in X\n",
    "logisticModel.predict(X)[0:6]"
   ]
  },
  {
   "cell_type": "code",
   "execution_count": 36,
   "id": "ac6aed6f",
   "metadata": {
    "execution": {
     "iopub.execute_input": "2023-12-14T17:07:32.159755Z",
     "iopub.status.busy": "2023-12-14T17:07:32.159655Z",
     "iopub.status.idle": "2023-12-14T17:07:32.162189Z",
     "shell.execute_reply": "2023-12-14T17:07:32.161966Z"
    },
    "id": "ac6aed6f",
    "outputId": "c0c59e37-50f7-4b1c-f9e7-39bc5c08d16e"
   },
   "outputs": [
    {
     "data": {
      "text/plain": [
       "0.9429429429429429"
      ]
     },
     "execution_count": 36,
     "metadata": {},
     "output_type": "execute_result"
    }
   ],
   "source": [
    "# Calculate the proportion of instances correctly classified\n",
    "logisticModel.score(X, np.ravel(y))"
   ]
  },
  {
   "cell_type": "code",
   "execution_count": 22,
   "id": "c0708570",
   "metadata": {
    "execution": {
     "iopub.execute_input": "2023-12-14T17:07:32.163596Z",
     "iopub.status.busy": "2023-12-14T17:07:32.163503Z",
     "iopub.status.idle": "2023-12-14T17:07:32.225875Z",
     "shell.execute_reply": "2023-12-14T17:07:32.225556Z"
    },
    "id": "c0708570",
    "outputId": "d01c4375-a238-4d08-813b-69a59c850092"
   },
   "outputs": [
    {
     "ename": "ValueError",
     "evalue": "x and y must be the same size",
     "output_type": "error",
     "traceback": [
      "\u001b[0;31m---------------------------------------------------------------------------\u001b[0m",
      "\u001b[0;31mValueError\u001b[0m                                Traceback (most recent call last)",
      "Input \u001b[0;32mIn [22]\u001b[0m, in \u001b[0;36m<cell line: 2>\u001b[0;34m()\u001b[0m\n\u001b[1;32m      1\u001b[0m \u001b[38;5;66;03m# Plot logistic regression model\u001b[39;00m\n\u001b[0;32m----> 2\u001b[0m \u001b[43mplt\u001b[49m\u001b[38;5;241;43m.\u001b[39;49m\u001b[43mscatter\u001b[49m\u001b[43m(\u001b[49m\u001b[43mX\u001b[49m\u001b[43m,\u001b[49m\u001b[43m \u001b[49m\u001b[43my\u001b[49m\u001b[43m,\u001b[49m\u001b[43m \u001b[49m\u001b[43mcolor\u001b[49m\u001b[38;5;241;43m=\u001b[39;49m\u001b[38;5;124;43m'\u001b[39;49m\u001b[38;5;124;43mblack\u001b[39;49m\u001b[38;5;124;43m'\u001b[39;49m\u001b[43m)\u001b[49m\n\u001b[1;32m      4\u001b[0m xrange \u001b[38;5;241m=\u001b[39m np\u001b[38;5;241m.\u001b[39mlinspace(X\u001b[38;5;241m.\u001b[39mmin(), X\u001b[38;5;241m.\u001b[39mmax(), \u001b[38;5;241m10000\u001b[39m)\n\u001b[1;32m      5\u001b[0m yhat \u001b[38;5;241m=\u001b[39m logisticModel\u001b[38;5;241m.\u001b[39mpredict(X)\u001b[38;5;241m.\u001b[39mreshape(\u001b[38;5;241m-\u001b[39m\u001b[38;5;241m1\u001b[39m, \u001b[38;5;241m1\u001b[39m)\u001b[38;5;241m.\u001b[39mastype(\u001b[38;5;28mint\u001b[39m)\n",
      "File \u001b[0;32m/nix/store/8wywxcyl55621dl73680z2lyjlzi5a3n-python3-3.10.9-env/lib/python3.10/site-packages/matplotlib/pyplot.py:2790\u001b[0m, in \u001b[0;36mscatter\u001b[0;34m(x, y, s, c, marker, cmap, norm, vmin, vmax, alpha, linewidths, edgecolors, plotnonfinite, data, **kwargs)\u001b[0m\n\u001b[1;32m   2785\u001b[0m \u001b[38;5;129m@_copy_docstring_and_deprecators\u001b[39m(Axes\u001b[38;5;241m.\u001b[39mscatter)\n\u001b[1;32m   2786\u001b[0m \u001b[38;5;28;01mdef\u001b[39;00m \u001b[38;5;21mscatter\u001b[39m(\n\u001b[1;32m   2787\u001b[0m         x, y, s\u001b[38;5;241m=\u001b[39m\u001b[38;5;28;01mNone\u001b[39;00m, c\u001b[38;5;241m=\u001b[39m\u001b[38;5;28;01mNone\u001b[39;00m, marker\u001b[38;5;241m=\u001b[39m\u001b[38;5;28;01mNone\u001b[39;00m, cmap\u001b[38;5;241m=\u001b[39m\u001b[38;5;28;01mNone\u001b[39;00m, norm\u001b[38;5;241m=\u001b[39m\u001b[38;5;28;01mNone\u001b[39;00m,\n\u001b[1;32m   2788\u001b[0m         vmin\u001b[38;5;241m=\u001b[39m\u001b[38;5;28;01mNone\u001b[39;00m, vmax\u001b[38;5;241m=\u001b[39m\u001b[38;5;28;01mNone\u001b[39;00m, alpha\u001b[38;5;241m=\u001b[39m\u001b[38;5;28;01mNone\u001b[39;00m, linewidths\u001b[38;5;241m=\u001b[39m\u001b[38;5;28;01mNone\u001b[39;00m, \u001b[38;5;241m*\u001b[39m,\n\u001b[1;32m   2789\u001b[0m         edgecolors\u001b[38;5;241m=\u001b[39m\u001b[38;5;28;01mNone\u001b[39;00m, plotnonfinite\u001b[38;5;241m=\u001b[39m\u001b[38;5;28;01mFalse\u001b[39;00m, data\u001b[38;5;241m=\u001b[39m\u001b[38;5;28;01mNone\u001b[39;00m, \u001b[38;5;241m*\u001b[39m\u001b[38;5;241m*\u001b[39mkwargs):\n\u001b[0;32m-> 2790\u001b[0m     __ret \u001b[38;5;241m=\u001b[39m \u001b[43mgca\u001b[49m\u001b[43m(\u001b[49m\u001b[43m)\u001b[49m\u001b[38;5;241;43m.\u001b[39;49m\u001b[43mscatter\u001b[49m\u001b[43m(\u001b[49m\n\u001b[1;32m   2791\u001b[0m \u001b[43m        \u001b[49m\u001b[43mx\u001b[49m\u001b[43m,\u001b[49m\u001b[43m \u001b[49m\u001b[43my\u001b[49m\u001b[43m,\u001b[49m\u001b[43m \u001b[49m\u001b[43ms\u001b[49m\u001b[38;5;241;43m=\u001b[39;49m\u001b[43ms\u001b[49m\u001b[43m,\u001b[49m\u001b[43m \u001b[49m\u001b[43mc\u001b[49m\u001b[38;5;241;43m=\u001b[39;49m\u001b[43mc\u001b[49m\u001b[43m,\u001b[49m\u001b[43m \u001b[49m\u001b[43mmarker\u001b[49m\u001b[38;5;241;43m=\u001b[39;49m\u001b[43mmarker\u001b[49m\u001b[43m,\u001b[49m\u001b[43m \u001b[49m\u001b[43mcmap\u001b[49m\u001b[38;5;241;43m=\u001b[39;49m\u001b[43mcmap\u001b[49m\u001b[43m,\u001b[49m\u001b[43m \u001b[49m\u001b[43mnorm\u001b[49m\u001b[38;5;241;43m=\u001b[39;49m\u001b[43mnorm\u001b[49m\u001b[43m,\u001b[49m\n\u001b[1;32m   2792\u001b[0m \u001b[43m        \u001b[49m\u001b[43mvmin\u001b[49m\u001b[38;5;241;43m=\u001b[39;49m\u001b[43mvmin\u001b[49m\u001b[43m,\u001b[49m\u001b[43m \u001b[49m\u001b[43mvmax\u001b[49m\u001b[38;5;241;43m=\u001b[39;49m\u001b[43mvmax\u001b[49m\u001b[43m,\u001b[49m\u001b[43m \u001b[49m\u001b[43malpha\u001b[49m\u001b[38;5;241;43m=\u001b[39;49m\u001b[43malpha\u001b[49m\u001b[43m,\u001b[49m\u001b[43m \u001b[49m\u001b[43mlinewidths\u001b[49m\u001b[38;5;241;43m=\u001b[39;49m\u001b[43mlinewidths\u001b[49m\u001b[43m,\u001b[49m\n\u001b[1;32m   2793\u001b[0m \u001b[43m        \u001b[49m\u001b[43medgecolors\u001b[49m\u001b[38;5;241;43m=\u001b[39;49m\u001b[43medgecolors\u001b[49m\u001b[43m,\u001b[49m\u001b[43m \u001b[49m\u001b[43mplotnonfinite\u001b[49m\u001b[38;5;241;43m=\u001b[39;49m\u001b[43mplotnonfinite\u001b[49m\u001b[43m,\u001b[49m\n\u001b[1;32m   2794\u001b[0m \u001b[43m        \u001b[49m\u001b[38;5;241;43m*\u001b[39;49m\u001b[38;5;241;43m*\u001b[39;49m\u001b[43m(\u001b[49m\u001b[43m{\u001b[49m\u001b[38;5;124;43m\"\u001b[39;49m\u001b[38;5;124;43mdata\u001b[39;49m\u001b[38;5;124;43m\"\u001b[39;49m\u001b[43m:\u001b[49m\u001b[43m \u001b[49m\u001b[43mdata\u001b[49m\u001b[43m}\u001b[49m\u001b[43m \u001b[49m\u001b[38;5;28;43;01mif\u001b[39;49;00m\u001b[43m \u001b[49m\u001b[43mdata\u001b[49m\u001b[43m \u001b[49m\u001b[38;5;129;43;01mis\u001b[39;49;00m\u001b[43m \u001b[49m\u001b[38;5;129;43;01mnot\u001b[39;49;00m\u001b[43m \u001b[49m\u001b[38;5;28;43;01mNone\u001b[39;49;00m\u001b[43m \u001b[49m\u001b[38;5;28;43;01melse\u001b[39;49;00m\u001b[43m \u001b[49m\u001b[43m{\u001b[49m\u001b[43m}\u001b[49m\u001b[43m)\u001b[49m\u001b[43m,\u001b[49m\u001b[43m \u001b[49m\u001b[38;5;241;43m*\u001b[39;49m\u001b[38;5;241;43m*\u001b[39;49m\u001b[43mkwargs\u001b[49m\u001b[43m)\u001b[49m\n\u001b[1;32m   2795\u001b[0m     sci(__ret)\n\u001b[1;32m   2796\u001b[0m     \u001b[38;5;28;01mreturn\u001b[39;00m __ret\n",
      "File \u001b[0;32m/nix/store/8wywxcyl55621dl73680z2lyjlzi5a3n-python3-3.10.9-env/lib/python3.10/site-packages/matplotlib/__init__.py:1423\u001b[0m, in \u001b[0;36m_preprocess_data.<locals>.inner\u001b[0;34m(ax, data, *args, **kwargs)\u001b[0m\n\u001b[1;32m   1420\u001b[0m \u001b[38;5;129m@functools\u001b[39m\u001b[38;5;241m.\u001b[39mwraps(func)\n\u001b[1;32m   1421\u001b[0m \u001b[38;5;28;01mdef\u001b[39;00m \u001b[38;5;21minner\u001b[39m(ax, \u001b[38;5;241m*\u001b[39margs, data\u001b[38;5;241m=\u001b[39m\u001b[38;5;28;01mNone\u001b[39;00m, \u001b[38;5;241m*\u001b[39m\u001b[38;5;241m*\u001b[39mkwargs):\n\u001b[1;32m   1422\u001b[0m     \u001b[38;5;28;01mif\u001b[39;00m data \u001b[38;5;129;01mis\u001b[39;00m \u001b[38;5;28;01mNone\u001b[39;00m:\n\u001b[0;32m-> 1423\u001b[0m         \u001b[38;5;28;01mreturn\u001b[39;00m \u001b[43mfunc\u001b[49m\u001b[43m(\u001b[49m\u001b[43max\u001b[49m\u001b[43m,\u001b[49m\u001b[43m \u001b[49m\u001b[38;5;241;43m*\u001b[39;49m\u001b[38;5;28;43mmap\u001b[39;49m\u001b[43m(\u001b[49m\u001b[43msanitize_sequence\u001b[49m\u001b[43m,\u001b[49m\u001b[43m \u001b[49m\u001b[43margs\u001b[49m\u001b[43m)\u001b[49m\u001b[43m,\u001b[49m\u001b[43m \u001b[49m\u001b[38;5;241;43m*\u001b[39;49m\u001b[38;5;241;43m*\u001b[39;49m\u001b[43mkwargs\u001b[49m\u001b[43m)\u001b[49m\n\u001b[1;32m   1425\u001b[0m     bound \u001b[38;5;241m=\u001b[39m new_sig\u001b[38;5;241m.\u001b[39mbind(ax, \u001b[38;5;241m*\u001b[39margs, \u001b[38;5;241m*\u001b[39m\u001b[38;5;241m*\u001b[39mkwargs)\n\u001b[1;32m   1426\u001b[0m     auto_label \u001b[38;5;241m=\u001b[39m (bound\u001b[38;5;241m.\u001b[39marguments\u001b[38;5;241m.\u001b[39mget(label_namer)\n\u001b[1;32m   1427\u001b[0m                   \u001b[38;5;129;01mor\u001b[39;00m bound\u001b[38;5;241m.\u001b[39mkwargs\u001b[38;5;241m.\u001b[39mget(label_namer))\n",
      "File \u001b[0;32m/nix/store/8wywxcyl55621dl73680z2lyjlzi5a3n-python3-3.10.9-env/lib/python3.10/site-packages/matplotlib/axes/_axes.py:4520\u001b[0m, in \u001b[0;36mAxes.scatter\u001b[0;34m(self, x, y, s, c, marker, cmap, norm, vmin, vmax, alpha, linewidths, edgecolors, plotnonfinite, **kwargs)\u001b[0m\n\u001b[1;32m   4518\u001b[0m y \u001b[38;5;241m=\u001b[39m np\u001b[38;5;241m.\u001b[39mma\u001b[38;5;241m.\u001b[39mravel(y)\n\u001b[1;32m   4519\u001b[0m \u001b[38;5;28;01mif\u001b[39;00m x\u001b[38;5;241m.\u001b[39msize \u001b[38;5;241m!=\u001b[39m y\u001b[38;5;241m.\u001b[39msize:\n\u001b[0;32m-> 4520\u001b[0m     \u001b[38;5;28;01mraise\u001b[39;00m \u001b[38;5;167;01mValueError\u001b[39;00m(\u001b[38;5;124m\"\u001b[39m\u001b[38;5;124mx and y must be the same size\u001b[39m\u001b[38;5;124m\"\u001b[39m)\n\u001b[1;32m   4522\u001b[0m \u001b[38;5;28;01mif\u001b[39;00m s \u001b[38;5;129;01mis\u001b[39;00m \u001b[38;5;28;01mNone\u001b[39;00m:\n\u001b[1;32m   4523\u001b[0m     s \u001b[38;5;241m=\u001b[39m (\u001b[38;5;241m20\u001b[39m \u001b[38;5;28;01mif\u001b[39;00m mpl\u001b[38;5;241m.\u001b[39mrcParams[\u001b[38;5;124m'\u001b[39m\u001b[38;5;124m_internal.classic_mode\u001b[39m\u001b[38;5;124m'\u001b[39m] \u001b[38;5;28;01melse\u001b[39;00m\n\u001b[1;32m   4524\u001b[0m          mpl\u001b[38;5;241m.\u001b[39mrcParams[\u001b[38;5;124m'\u001b[39m\u001b[38;5;124mlines.markersize\u001b[39m\u001b[38;5;124m'\u001b[39m] \u001b[38;5;241m*\u001b[39m\u001b[38;5;241m*\u001b[39m \u001b[38;5;241m2.0\u001b[39m)\n",
      "\u001b[0;31mValueError\u001b[0m: x and y must be the same size"
     ]
    },
    {
     "data": {
      "image/png": "[encoded data removed]",
      "text/plain": [
       "<Figure size 640x480 with 1 Axes>"
      ]
     },
     "metadata": {},
     "output_type": "display_data"
    }
   ],
   "source": [
    "# Plot logistic regression model\n",
    "plt.scatter(X, y, color='black')\n",
    "\n",
    "xrange = np.linspace(X.min(), X.max(), 10000)\n",
    "yhat = logisticModel.predict(X).reshape(-1, 1).astype(int)\n",
    "yprob = logisticModel.predict_proba(xrange.reshape(-1, 1))[:, 1]\n",
    "\n",
    "plt.plot(xrange, yprob, color='#4878d0', linewidth=2)\n",
    "plt.xlabel('Bill length (mm)', fontsize=14)\n",
    "plt.ylabel('Probability of Adelie', fontsize=14)"
   ]
  },
  {
   "cell_type": "code",
   "execution_count": 23,
   "id": "c2831466",
   "metadata": {
    "execution": {
     "iopub.execute_input": "2023-12-14T17:07:32.227775Z",
     "iopub.status.busy": "2023-12-14T17:07:32.227607Z",
     "iopub.status.idle": "2023-12-14T17:07:32.230268Z",
     "shell.execute_reply": "2023-12-14T17:07:32.229984Z"
    },
    "id": "c2831466"
   },
   "outputs": [],
   "source": [
    "# Use additional input features\n",
    "X = penguins[['bill_length_mm', 'bill_depth_mm']]\n",
    "y = penguins[['Adelie']]"
   ]
  },
  {
   "cell_type": "code",
   "execution_count": 24,
   "id": "1459bff0",
   "metadata": {
    "execution": {
     "iopub.execute_input": "2023-12-14T17:07:32.231912Z",
     "iopub.status.busy": "2023-12-14T17:07:32.231797Z",
     "iopub.status.idle": "2023-12-14T17:07:32.240423Z",
     "shell.execute_reply": "2023-12-14T17:07:32.239916Z"
    },
    "id": "1459bff0",
    "outputId": "9f00a60a-65b2-4c35-ec2d-a8b8a9f245ff"
   },
   "outputs": [
    {
     "name": "stdout",
     "output_type": "stream",
     "text": [
      "w1, w2: [[-1.37826428  1.98506245]]\n",
      "w0: [24.29755067]\n"
     ]
    }
   ],
   "source": [
    "# Initialize a logistic regression model\n",
    "logisticModel = LogisticRegression(penalty='l2')\n",
    "\n",
    "# Fit the model\n",
    "logisticModel.fit(X, np.ravel(y))\n",
    "\n",
    "# Print the fitted model\n",
    "print('w1, w2:', logisticModel.coef_)\n",
    "print('w0:', logisticModel.intercept_)"
   ]
  },
  {
   "cell_type": "code",
   "execution_count": 25,
   "id": "3a6b680c",
   "metadata": {
    "execution": {
     "iopub.execute_input": "2023-12-14T17:07:32.242351Z",
     "iopub.status.busy": "2023-12-14T17:07:32.242224Z",
     "iopub.status.idle": "2023-12-14T17:07:32.247314Z",
     "shell.execute_reply": "2023-12-14T17:07:32.246777Z"
    },
    "id": "3a6b680c",
    "outputId": "57d5f107-ed04-4d56-a799-e41fd64fa662"
   },
   "outputs": [
    {
     "data": {
      "text/plain": [
       "0.9819819819819819"
      ]
     },
     "execution_count": 25,
     "metadata": {},
     "output_type": "execute_result"
    }
   ],
   "source": [
    "# Proportion of instances correctly classified\n",
    "logisticModel.score(X, y)"
   ]
  },
  {
   "cell_type": "code",
   "execution_count": 26,
   "id": "256f57b0",
   "metadata": {
    "execution": {
     "iopub.execute_input": "2023-12-14T17:07:32.249006Z",
     "iopub.status.busy": "2023-12-14T17:07:32.248885Z",
     "iopub.status.idle": "2023-12-14T17:07:32.460636Z",
     "shell.execute_reply": "2023-12-14T17:07:32.449415Z"
    },
    "id": "256f57b0",
    "outputId": "e511303a-276c-4221-fc93-aa7c51653588"
   },
   "outputs": [
    {
     "name": "stderr",
     "output_type": "stream",
     "text": [
      "/nix/store/8wywxcyl55621dl73680z2lyjlzi5a3n-python3-3.10.9-env/lib/python3.10/site-packages/sklearn/base.py:420: UserWarning: X does not have valid feature names, but LogisticRegression was fitted with feature names\n",
      "  warnings.warn(\n"
     ]
    },
    {
     "data": {
      "image/png": "[encoded data removed]",
      "text/plain": [
       "<Figure size 640x480 with 1 Axes>"
      ]
     },
     "metadata": {},
     "output_type": "display_data"
    }
   ],
   "source": [
    "# Decision boundary plot with two input features\n",
    "# Set background opacity to 20%\n",
    "contourf_kwargs = {'alpha': 0.2}\n",
    "\n",
    "# Plot decision boundary regions\n",
    "p = plot_decision_regions(X.to_numpy(), np.ravel(y),\n",
    "                          clf=logisticModel, contourf_kwargs=contourf_kwargs,\n",
    "                          colors='#7f7f7f,#1f77b4')\n",
    "\n",
    "# Add title and axis labels\n",
    "p.set_title('Decision boundary plot', fontsize=16)\n",
    "p.set_xlabel('Bill length (mm)', fontsize=14)\n",
    "p.set_ylabel('Bill depth (mm)', fontsize=14)\n",
    "\n",
    "# Add legend\n",
    "L = plt.legend()\n",
    "L.get_texts()[0].set_text('Chinstrap or Gentoo')\n",
    "L.get_texts()[1].set_text('Adelie')"
   ]
  },
  {
   "cell_type": "code",
   "execution_count": null,
   "id": "86a05275",
   "metadata": {},
   "outputs": [],
   "source": []
  }
 ],
 "metadata": {
  "colab": {
   "provenance": []
  },
  "kernelspec": {
   "display_name": "Python 3 - python3",
   "language": "python3",
   "name": "python3"
  },
  "language_info": {
   "codemirror_mode": {
    "name": "ipython",
    "version": 3
   },
   "file_extension": ".py",
   "mimetype": "text/x-python",
   "name": "python",
   "nbconvert_exporter": "python",
   "pygments_lexer": "ipython3",
   "version": "3.10.9"
  }
 },
 "nbformat": 4,
 "nbformat_minor": 5
}
