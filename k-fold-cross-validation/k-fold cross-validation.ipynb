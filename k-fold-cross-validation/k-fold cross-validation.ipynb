{
 "cells": [
  {
   "cell_type": "code",
   "execution_count": 1,
   "id": "75f30735",
   "metadata": {
    "execution": {
     "iopub.execute_input": "2023-12-14T17:07:48.641375Z",
     "iopub.status.busy": "2023-12-14T17:07:48.640988Z",
     "iopub.status.idle": "2023-12-14T17:07:49.532081Z",
     "shell.execute_reply": "2023-12-14T17:07:49.531776Z"
    }
   },
   "outputs": [],
   "source": [
    "import numpy as np\n",
    "import pandas as pd\n",
    "import matplotlib.pyplot as plt\n",
    "import seaborn as sns\n",
    "\n",
    "from sklearn.model_selection import train_test_split\n",
    "from sklearn.model_selection import cross_validate\n",
    "\n",
    "from sklearn.neighbors import KNeighborsClassifier\n",
    "from sklearn.preprocessing import StandardScaler"
   ]
  },
  {
   "cell_type": "code",
   "execution_count": 2,
   "id": "7fccae72",
   "metadata": {
    "execution": {
     "iopub.execute_input": "2023-12-14T17:07:49.533821Z",
     "iopub.status.busy": "2023-12-14T17:07:49.533670Z",
     "iopub.status.idle": "2023-12-14T17:07:49.541448Z",
     "shell.execute_reply": "2023-12-14T17:07:49.541187Z"
    }
   },
   "outputs": [
    {
     "data": {
      "text/html": [
       "<div>\n",
       "<style scoped>\n",
       "    .dataframe tbody tr th:only-of-type {\n",
       "        vertical-align: middle;\n",
       "    }\n",
       "\n",
       "    .dataframe tbody tr th {\n",
       "        vertical-align: top;\n",
       "    }\n",
       "\n",
       "    .dataframe thead th {\n",
       "        text-align: right;\n",
       "    }\n",
       "</style>\n",
       "<table border=\"1\" class=\"dataframe\">\n",
       "  <thead>\n",
       "    <tr style=\"text-align: right;\">\n",
       "      <th></th>\n",
       "      <th>fixed acidity</th>\n",
       "      <th>volatile acidity</th>\n",
       "      <th>citric acid</th>\n",
       "      <th>residual sugar</th>\n",
       "      <th>chlorides</th>\n",
       "      <th>free sulfur dioxide</th>\n",
       "      <th>total sulfur dioxide</th>\n",
       "      <th>density</th>\n",
       "      <th>pH</th>\n",
       "      <th>sulphates</th>\n",
       "      <th>alcohol</th>\n",
       "      <th>quality</th>\n",
       "      <th>type</th>\n",
       "    </tr>\n",
       "  </thead>\n",
       "  <tbody>\n",
       "    <tr>\n",
       "      <th>0</th>\n",
       "      <td>10.0</td>\n",
       "      <td>0.46</td>\n",
       "      <td>0.44</td>\n",
       "      <td>2.9</td>\n",
       "      <td>0.065</td>\n",
       "      <td>4.0</td>\n",
       "      <td>8</td>\n",
       "      <td>0.99674</td>\n",
       "      <td>3.33</td>\n",
       "      <td>0.62</td>\n",
       "      <td>12.2</td>\n",
       "      <td>6</td>\n",
       "      <td>red</td>\n",
       "    </tr>\n",
       "    <tr>\n",
       "      <th>1</th>\n",
       "      <td>9.5</td>\n",
       "      <td>0.57</td>\n",
       "      <td>0.27</td>\n",
       "      <td>2.3</td>\n",
       "      <td>0.082</td>\n",
       "      <td>23.0</td>\n",
       "      <td>144</td>\n",
       "      <td>0.99782</td>\n",
       "      <td>3.27</td>\n",
       "      <td>0.55</td>\n",
       "      <td>9.4</td>\n",
       "      <td>5</td>\n",
       "      <td>red</td>\n",
       "    </tr>\n",
       "    <tr>\n",
       "      <th>2</th>\n",
       "      <td>7.3</td>\n",
       "      <td>0.91</td>\n",
       "      <td>0.10</td>\n",
       "      <td>1.8</td>\n",
       "      <td>0.074</td>\n",
       "      <td>20.0</td>\n",
       "      <td>56</td>\n",
       "      <td>0.99672</td>\n",
       "      <td>3.35</td>\n",
       "      <td>0.56</td>\n",
       "      <td>9.2</td>\n",
       "      <td>5</td>\n",
       "      <td>red</td>\n",
       "    </tr>\n",
       "    <tr>\n",
       "      <th>3</th>\n",
       "      <td>8.2</td>\n",
       "      <td>0.23</td>\n",
       "      <td>0.42</td>\n",
       "      <td>1.9</td>\n",
       "      <td>0.069</td>\n",
       "      <td>9.0</td>\n",
       "      <td>17</td>\n",
       "      <td>0.99376</td>\n",
       "      <td>3.21</td>\n",
       "      <td>0.54</td>\n",
       "      <td>12.3</td>\n",
       "      <td>6</td>\n",
       "      <td>red</td>\n",
       "    </tr>\n",
       "    <tr>\n",
       "      <th>4</th>\n",
       "      <td>7.9</td>\n",
       "      <td>0.37</td>\n",
       "      <td>0.23</td>\n",
       "      <td>1.8</td>\n",
       "      <td>0.077</td>\n",
       "      <td>23.0</td>\n",
       "      <td>49</td>\n",
       "      <td>0.99630</td>\n",
       "      <td>3.28</td>\n",
       "      <td>0.67</td>\n",
       "      <td>9.3</td>\n",
       "      <td>5</td>\n",
       "      <td>red</td>\n",
       "    </tr>\n",
       "  </tbody>\n",
       "</table>\n",
       "</div>"
      ],
      "text/plain": [
       "   fixed acidity  volatile acidity  citric acid  residual sugar  chlorides  \\\n",
       "0           10.0              0.46         0.44             2.9      0.065   \n",
       "1            9.5              0.57         0.27             2.3      0.082   \n",
       "2            7.3              0.91         0.10             1.8      0.074   \n",
       "3            8.2              0.23         0.42             1.9      0.069   \n",
       "4            7.9              0.37         0.23             1.8      0.077   \n",
       "\n",
       "   free sulfur dioxide  total sulfur dioxide  density    pH  sulphates  \\\n",
       "0                  4.0                     8  0.99674  3.33       0.62   \n",
       "1                 23.0                   144  0.99782  3.27       0.55   \n",
       "2                 20.0                    56  0.99672  3.35       0.56   \n",
       "3                  9.0                    17  0.99376  3.21       0.54   \n",
       "4                 23.0                    49  0.99630  3.28       0.67   \n",
       "\n",
       "   alcohol  quality type  \n",
       "0     12.2        6  red  \n",
       "1      9.4        5  red  \n",
       "2      9.2        5  red  \n",
       "3     12.3        6  red  \n",
       "4      9.3        5  red  "
      ]
     },
     "execution_count": 2,
     "metadata": {},
     "output_type": "execute_result"
    }
   ],
   "source": [
    "wine = pd.read_csv('wine_sample.csv')\n",
    "wine.head()"
   ]
  },
  {
   "cell_type": "code",
   "execution_count": 3,
   "id": "789c6367",
   "metadata": {
    "execution": {
     "iopub.execute_input": "2023-12-14T17:07:49.542921Z",
     "iopub.status.busy": "2023-12-14T17:07:49.542836Z",
     "iopub.status.idle": "2023-12-14T17:07:49.546046Z",
     "shell.execute_reply": "2023-12-14T17:07:49.545828Z"
    }
   },
   "outputs": [],
   "source": [
    "X = wine[['density', 'alcohol']]\n",
    "y = wine[['type']]\n",
    "\n",
    "# Scale the input features\n",
    "scaler = StandardScaler()\n",
    "X = scaler.fit_transform(X)"
   ]
  },
  {
   "cell_type": "code",
   "execution_count": 4,
   "id": "d0038f12",
   "metadata": {
    "execution": {
     "iopub.execute_input": "2023-12-14T17:07:49.547479Z",
     "iopub.status.busy": "2023-12-14T17:07:49.547402Z",
     "iopub.status.idle": "2023-12-14T17:07:49.557071Z",
     "shell.execute_reply": "2023-12-14T17:07:49.556828Z"
    }
   },
   "outputs": [],
   "source": [
    "# Initialize k-nearest neighbors\n",
    "knnModel = KNeighborsClassifier(n_neighbors=5)\n",
    "\n",
    "# Fit k-nearest neighbors with 5-fold cross-validation\n",
    "cv_results = cross_validate(knnModel, X, np.ravel(y), cv=5)"
   ]
  },
  {
   "cell_type": "code",
   "execution_count": 5,
   "id": "0099c21a",
   "metadata": {
    "execution": {
     "iopub.execute_input": "2023-12-14T17:07:49.558512Z",
     "iopub.status.busy": "2023-12-14T17:07:49.558436Z",
     "iopub.status.idle": "2023-12-14T17:07:49.560281Z",
     "shell.execute_reply": "2023-12-14T17:07:49.560056Z"
    }
   },
   "outputs": [
    {
     "name": "stdout",
     "output_type": "stream",
     "text": [
      "Test score: [0.825 0.725 0.725 0.775 0.775]\n"
     ]
    }
   ],
   "source": [
    "# View testing accuracy for each fold\n",
    "print('Test score:', cv_results['test_score'])"
   ]
  },
  {
   "cell_type": "code",
   "execution_count": 6,
   "id": "242fc32f",
   "metadata": {
    "execution": {
     "iopub.execute_input": "2023-12-14T17:07:49.561566Z",
     "iopub.status.busy": "2023-12-14T17:07:49.561488Z",
     "iopub.status.idle": "2023-12-14T17:07:49.615381Z",
     "shell.execute_reply": "2023-12-14T17:07:49.615092Z"
    }
   },
   "outputs": [
    {
     "data": {
      "text/plain": [
       "Text(64.72222222222221, 0.5, 'Count')"
      ]
     },
     "execution_count": 6,
     "metadata": {},
     "output_type": "execute_result"
    },
    {
     "data": {
      "image/png": "[encoded data removed]",
      "text/plain": [
       "<Figure size 640x480 with 1 Axes>"
      ]
     },
     "metadata": {},
     "output_type": "display_data"
    }
   ],
   "source": [
    "# Plot accuracy for each fold\n",
    "scores = cv_results['test_score']\n",
    "\n",
    "p = sns.swarmplot(x=scores)\n",
    "p.set_xlabel('Cross-validation accuracy', fontsize=14)\n",
    "p.set_ylabel('Count', fontsize=14)"
   ]
  }
 ],
 "metadata": {
  "kernelspec": {
   "display_name": "Python 3 - python3",
   "language": "python3",
   "name": "python3"
  },
  "language_info": {
   "codemirror_mode": {
    "name": "ipython",
    "version": 3
   },
   "file_extension": ".py",
   "mimetype": "text/x-python",
   "name": "python",
   "nbconvert_exporter": "python",
   "pygments_lexer": "ipython3",
   "version": "3.10.9"
  }
 },
 "nbformat": 4,
 "nbformat_minor": 5
}
